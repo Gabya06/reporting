{
 "cells": [
  {
   "cell_type": "code",
   "execution_count": 1,
   "metadata": {
    "collapsed": false,
    "deletable": true,
    "editable": true
   },
   "outputs": [],
   "source": [
    "import os\n",
    "import numpy as np\n",
    "import pandas as pd\n",
    "from pandas.tseries.offsets import BMonthEnd\n",
    "import pymssql\n",
    "import beatbox\n",
    "import datetime as dt\n",
    "import matplotlib.pyplot as plt\n",
    "import matplotlib.ticker as mtick\n",
    "%matplotlib inline "
   ]
  },
  {
   "cell_type": "code",
   "execution_count": 2,
   "metadata": {
    "collapsed": false,
    "deletable": true,
    "editable": true
   },
   "outputs": [],
   "source": [
    "import seaborn as sns\n",
    "sns.set_style('whitegrid')\n",
    "import plotly\n",
    "import plotly.plotly as py\n",
    "import plotly.graph_objs as go\n",
    "import plotly.figure_factory as ff\n",
    "import colorlover as cl\n",
    "from IPython.display import HTML"
   ]
  },
  {
   "cell_type": "code",
   "execution_count": 3,
   "metadata": {
    "collapsed": false,
    "deletable": true,
    "editable": true
   },
   "outputs": [],
   "source": [
    "plotly.tools.set_credentials_file(username='Gabrielle.Agrocostea', api_key='Cb1kH6PHRhg7D8HyN1Bn')\n",
    "plotly.tools.set_config_file(world_readable=False, sharing='secret')"
   ]
  },
  {
   "cell_type": "code",
   "execution_count": 4,
   "metadata": {
    "collapsed": true,
    "deletable": true,
    "editable": true
   },
   "outputs": [],
   "source": [
    "def login_salesforce():\n",
    "    '''\n",
    "    \n",
    "    :return: connection to SalesForce backup database using pymssql (mssql)\n",
    "    '''\n",
    "    server = \"10.0.123.212\"\n",
    "    user = \"dbamp\"\n",
    "    password = \"ua4yCAnolhxV\"\n",
    "    conn = pymssql.connect(server, user, password, \"salesforce backups\")\n",
    "    return conn\n",
    "\n",
    "\n",
    "def get_column_headers(cursor):\n",
    "    '''\n",
    "\n",
    "    :param cursor: mySQL cursor with query that has been executed\n",
    "    :return: column headers based on query\n",
    "    '''\n",
    "    col_headers = list(cursor.description)\n",
    "    col_headers = [x[0] for x in col_headers]\n",
    "    return col_headers\n",
    "\n",
    "def get_SF_data(query_string, connection):\n",
    "    cursor = connection.cursor()\n",
    "    # Execute query to obtain opportunity data\n",
    "    cursor.execute(query_string)\n",
    "    qr_results = cursor.fetchall()\n",
    "    # get column headers\n",
    "    headers = get_column_headers(cursor)\n",
    "    # put in DataFrame\n",
    "    df = pd.DataFrame(data=qr_results, columns=headers)\n",
    "    return df\n",
    "\n",
    "# query for exchange rates\n",
    "def get_exchange_df(connection):\n",
    "    cursor = connection.cursor()\n",
    "    exchangeRates = \"select dc.ConversionRate, dc.IsoCode, dc.StartDate, dc.NextStartDate \"\n",
    "    exchangeRates += \"from dbo.DatedConversionRate dc\"\n",
    "    cursor.execute(exchangeRates)\n",
    "    rates_res = cursor.fetchall()\n",
    "    # put in DataFrame\n",
    "    rates = pd.DataFrame(data=rates_res, columns=get_column_headers(cursor))\n",
    "    return rates\n",
    "\n",
    "def get_object_fields(svc, sf_object):\n",
    "    '''\n",
    "    function to get SalesForce object fields\n",
    "    :param svc: beatbox connection\n",
    "    :param sf_object: object to get description\n",
    "    :return: list of column names\n",
    "\n",
    "    ex: obj_desc = svc.describeSObjects(\"Conversion_Rate__c\")\n",
    "    '''\n",
    "\n",
    "    obj_desc = svc.describeSObjects(sf_object)[0]\n",
    "    names = [name for name in obj_desc.fields]\n",
    "    return names\n",
    "\n",
    "def get_opportunity_df(connection):\n",
    "    '''\n",
    "    Function used to query opportunity data for opportunity snapshots\n",
    "    Query all new & existing opportunities, join with User table\n",
    "    :param connection: pymysql open connection to SalesForce\n",
    "    :return: DataFrame with opportunity & owner data\n",
    "    '''\n",
    "    q = \"SELECT o.Services_Total__c, o.CreatedDate as Created_Date__c, Maintenance_ARR_Delta__c, o.ARR_Delta__c, \"\n",
    "    q += \"u.Name as Opportunity_Owner__c, Account_Industry__c as Industry__c, a.Name as Account_Name__c, \"\n",
    "    q += \"o.Id as Opportunity_ID__c, o.Cloud_Total__c, o.Probability as Probability__c, o.CurrencyIsoCode, \"\n",
    "    q += \"o.Subscription_Total__c, o.Maintenance_Total__c, o.StageName as Stage__c, o.Amount as Amount__c, \"\n",
    "    q += \"NextStep Next_Step__c, o.Name as Opportunity_Name__c, \"\n",
    "    q += \"Subscription_ARR_Delta__c, Cloud_ARR_Delta__c, o.Type as Type__c, \"\n",
    "    q += \"o.CloseDate as Close_Date__c, o.Previous_Stage__c as Prev_Stage__c, o.Region__c, \"\n",
    "    q += \"u1.Name as Created_By__c, License_Total__c, o.Date_Opp_Moved_40__c  \"\n",
    "    q += \"from dbo.Opportunity o \"\n",
    "    q += \"join dbo.[User] u \"\n",
    "    q += \"on o.OwnerId = u.Id \"\n",
    "    q += \"join dbo.Account a \"\n",
    "    q += \"on o.AccountId = a.Id \"\n",
    "    q += \"join dbo.[User] u1 \"\n",
    "    q += \"on o.CreatedById = u1.Id \"\n",
    "    q += \"where o.Type in ('New Business','Existing Business');\"\n",
    "    cursor = connection.cursor()\n",
    "    # Execute query to obtain opportunity data\n",
    "    cursor.execute(q)\n",
    "    qr_res = cursor.fetchall()\n",
    "    # get column headers\n",
    "    headers = get_column_headers(cursor)\n",
    "    # put in DataFrame\n",
    "    df = pd.DataFrame(data=qr_res, columns=headers)\n",
    "    return df\n",
    "\n",
    "\n",
    "## TODO: merge based on startdate and enddate\n",
    "def lookup_rates(cur, close_date, rates_df, rates_dict):\n",
    "    from datetime import datetime as dt\n",
    "    '''\n",
    "    Function to lookup exchange rates, based on currency code & close date\n",
    "    Need to pass in latest exchange rates (rates_df) and current rates (rates_dict)\n",
    "        If opportunity close date is in current month or in the future, use current rates\n",
    "        Else: use past currency rates\n",
    "\n",
    "    :param cur: currency, string ('USD','GBP')\n",
    "    :param close_date: datetime.date. Close date of opportunity\n",
    "    :param rates_df: DataFrame with exchange rates (past rates)\n",
    "    :param rates_dict: dictionary with today's rates {IsoCode: exchange rate}\n",
    "    :return: exchange rate\n",
    "    '''\n",
    "    today = dt.today().date()\n",
    "    offset = BMonthEnd()\n",
    "    first_day = offset.rollback(today).date()\n",
    "    last_day = offset.rollforward(today).date()\n",
    "\n",
    "    # EUR is always 1.0\n",
    "    if cur == 'EUR':\n",
    "        return 1.0\n",
    "    # if close date is in future: use current rates\n",
    "    elif close_date > today:\n",
    "        return float(rates_dict['ConversionRate'][cur])\n",
    "    # if close date is in past:\n",
    "        # find rate where the date is in between startdate & next start date\n",
    "        # or use present rate\n",
    "    elif close_date < today:\n",
    "        rate = rates_df[(rates_df.IsoCode ==cur)&(rates_df.NextStartDate > close_date) & (rates_df.StartDate <= close_date)].ConversionRate\n",
    "        if len(rate) ==0:\n",
    "            return float(rates_dict['ConversionRate'][cur])\n",
    "        else:\n",
    "            return float(rate)\n",
    "\n",
    "def opp_age(stage, createdDate, closeDate):\n",
    "    '''\n",
    "    Function to calculate the age of an opportunity\n",
    "        If opp is closed, age = closed date - created date\n",
    "        Else: age = today - created date\n",
    "    :param stage: str, StageName\n",
    "    :param createdDate: datetime\n",
    "    :param closeDate: datetime\n",
    "    :return: integer\n",
    "    '''\n",
    "    closed = 'Closed' in stage\n",
    "    if closed:\n",
    "        age = closeDate - createdDate\n",
    "    else:\n",
    "        age = dt.today().date() - createdDate\n",
    "    return age.days\n",
    "\n",
    "def query_data_bb(svc, query_string):\n",
    "    \"\"\"\n",
    "    Function using BeatBox to query data and return results for any query\n",
    "\n",
    "    :param svc: beatbox connection\n",
    "    :param query_string: query string\n",
    "    :return: list with data\n",
    "    \"\"\"\n",
    "    record_list = []\n",
    "\n",
    "    query_res = svc.query(query_string)\n",
    "    record_list += query_res['records']\n",
    "\n",
    "    # if need to get more records\n",
    "    while not query_res.done:\n",
    "        print \" ******** FETCHING MORE DATAS ********\"\n",
    "        query_res = svc.queryMore(query_res.queryLocator)\n",
    "        record_list += query_res\n",
    "    # df = pd.DataFrame(data=record_list)\n",
    "    # df.columns = df.columns.map(lambda x: x.replace(\"__c\", \"\").replace(\"_\", \"\"))\n",
    "\n",
    "    return record_list\n",
    "\n",
    "def millions(x, pos):\n",
    "    'The two args are the value and tick position'\n",
    "    # use like this in matplotlib\n",
    "    # formatter = FuncFormatter(millions)\n",
    "#    return '€%1.1fM' % (x*1e-6)\n",
    "    return '%1.1fM' % (x*1e-6)\n",
    "\n"
   ]
  },
  {
   "cell_type": "code",
   "execution_count": 5,
   "metadata": {
    "collapsed": true,
    "deletable": true,
    "editable": true
   },
   "outputs": [],
   "source": [
    "stages = ['Prospect', 'Qualified', 'Buying Process id.', 'Short List', 'Chosen Vendor', 'Negotiation/Review',\n",
    "          'PO In Progress', 'Closed Won']\n",
    "lost = ['Closed Deferred', 'Closed Lost']\n",
    "# open stages\n",
    "stages_open = list(set(stages) - set(lost) - set(['Closed Won']))\n",
    "\n",
    "not_pipeline = ['Qualified','Qualification','Prospect','Re-Qualify']\n",
    "\n",
    "# dict to order stages\n",
    "stage_order = dict(zip(stages, xrange(0, len(stages))))\n",
    "\n",
    "industry_map = {\n",
    "    \"Asset Management\": \"Financial Services\",\n",
    "    \"Banking\": \"Financial Services\",\n",
    "    \"Insurance\": \"Financial Services\",\n",
    "    \"Financial Services: Other\": \"Financial Services\",\n",
    "    \"Healthcare Payer\": \"Healthcare\",\n",
    "    \"Healthcare Provider\": \"Healthcare\",\n",
    "    \"Healthcare Payer and Provider\": \"Healthcare\",\n",
    "    \"Technology\": \"Technology\",\n",
    "    \"Government: Federal\": \"Federal\",\n",
    "    \"Government\": \"Federal\",\n",
    "    \"Government: State and Local\": \"Federal\",\n",
    "    \"Life Sciences\": \"Life Sciences\"}\n",
    "\n",
    "\n",
    "# reporting dates for board reports - when opportunity Snapshot was run\n",
    "rpt_dates_1 = ['10-15-2015','1-14-2016','4-14-2016','7-14-2016','10-14-2016','1-13-2017','4-14-2017','7-14-2017']\n",
    "rpt_dates_1 = [pd.to_datetime(x) for x in rpt_dates_1]\n",
    "rpt_dates_1 = [x.date() for x in rpt_dates_1]\n",
    "rpt_dates_2 =['10-1-2015','11-5-2015','12-3-2015','1-7-2016','2-4-2016','3-3-2016','4-7-2016','5-5-2016','6-2-2016',\n",
    "             '7-7-2016','8-5-2016','9-2-2016','10-7-2016','11-4-2016','12-2-2016','1-6-2017','2-3-2017','3-3-2017','4-7-2017',\n",
    "             '5-5-2017','6-2-2017','7-7-2017','8-4-2017','9-1-2017']\n",
    "rpt_dates_2 = [pd.to_datetime(x) for x in rpt_dates_2]\n",
    "rpt_dates_2 = [x.date() for x in rpt_dates_2]\n",
    "\n",
    "# dictionary with quarterly reporting dates\n",
    "qt_rpt_dates = {\n",
    "    pd.Period('2017Q1', freq = 'Q-SEP'):pd.to_datetime('2016-10-14').date(),\n",
    "    pd.Period('2017Q2', freq = 'Q-SEP'):pd.to_datetime('2017-01-13').date(),\n",
    "    pd.Period('2017Q3', freq = 'Q-SEP'):pd.to_datetime('2017-04-14').date(),\n",
    "    pd.Period('2017Q4', freq = 'Q-SEP'):pd.to_datetime('2017-07-14').date()\n",
    "}\n",
    "\n",
    "qt_start_end_dates = {\n",
    "    pd.Period('2017Q1', freq = 'Q-SEP'): [pd.to_datetime('2016-10-01').date(), pd.to_datetime('2016-12-31').date()],\n",
    "    pd.Period('2017Q2', freq = 'Q-SEP'): [pd.to_datetime('2017-01-01').date(), pd.to_datetime('2017-03-31').date()],\n",
    "    pd.Period('2017Q3', freq = 'Q-SEP'): [pd.to_datetime('2017-04-01').date(), pd.to_datetime('2017-06-30').date()],\n",
    "    pd.Period('2017Q4', freq = 'Q-SEP'): [pd.to_datetime('2017-07-01').date(), pd.to_datetime('2017-09-30').date()]\n",
    "}\n",
    "\n",
    "\n",
    "\n",
    "# Field Event - leave as is bc John didnt update in SF per Marketing request to leave as is\n",
    "lead_mapping = {'Rep List': 'Sales Rep',\n",
    "                'Rep Sourced Social': 'SDR'}  #, 'Field Event':'Collibra Event'}\n",
    "\n",
    "# Sales and Marketing sources\n",
    "lead_source_mapping ={\n",
    "    'Advertisement': 'Marketing', # this shouldnt be used anymore - old\n",
    "    'Content Syndication': 'Marketing',\n",
    "    'Direct Mail': 'Marketing',\n",
    "    'Email': 'Marketing',\n",
    "    'Field Event' : 'Marketing',\n",
    "    'Paid Search': 'Marketing',\n",
    "    'RainKing':'Marketing', # this shouldnt be used anymore - old\n",
    "    'Seminar/Conference': 'Marketing',\n",
    "    'Social Media': 'Marketing',\n",
    "    'TechTarget': 'Marketing',\n",
    "    'Webinar': 'Marketing',\n",
    "    'Website': 'Marketing',\n",
    "    'Database': 'Sales',  # this shouldnt be used anymore - old\n",
    "    'External Referral': 'Sales', # this shouldnt be used anymore - old\n",
    "    'Jigsaw': 'Sales',  # this shouldnt be used anymore - old\n",
    "    'Partner': 'Sales',\n",
    "    'Other': 'Sales', # this shouldnt be used anymore - old\n",
    "    'Sales Operations':'Sales',\n",
    "    'Sales Rep':'Sales',\n",
    "    'SDR':'Sales',\n",
    "    'University':'tbd'}\n",
    "\n",
    "# these are the marketing sources - anything else is other\n",
    "marketing_sources = ['Seminar/Conference', 'Website','Content Syndication', 'Paid Search',\n",
    "                     'Webinar','Email','Field Event','Social Media']"
   ]
  },
  {
   "cell_type": "code",
   "execution_count": 6,
   "metadata": {
    "collapsed": true,
    "deletable": true,
    "editable": true
   },
   "outputs": [],
   "source": [
    "project_path = '/Users/Gabi/Documents/projects/reporting/'\n",
    "data_path = '/Users/Gabi/Documents/projects/reporting/data'"
   ]
  },
  {
   "cell_type": "code",
   "execution_count": 7,
   "metadata": {
    "collapsed": true,
    "deletable": true,
    "editable": true
   },
   "outputs": [],
   "source": [
    "os.chdir(project_path)"
   ]
  },
  {
   "cell_type": "code",
   "execution_count": 8,
   "metadata": {
    "collapsed": false,
    "deletable": true,
    "editable": true
   },
   "outputs": [],
   "source": [
    "# connect to SalesForce\n",
    "conn_SF = login_salesforce()"
   ]
  },
  {
   "cell_type": "code",
   "execution_count": 9,
   "metadata": {
    "collapsed": true,
    "deletable": true,
    "editable": true
   },
   "outputs": [],
   "source": [
    "'''\n",
    "    1 - Opportunity Snapshot Data: New and Existing Business Open Opportunities (Not Closed/Not won)\n",
    "    Objects used: Opportunitiy Snapshot\n",
    "'''\n",
    "\n",
    "q_snap = \"Select o.Report_Date__c, o.Stage__c, o.Amount__c, ARR_Delta_EURO__c, o.Type__c, o.Close_Date__c, o.Industry__c, \"\n",
    "q_snap += \"Created_Date__c, CurrencyIsoCode, Date_Opp_Moved_40__c, Opportunity_ID__c \"\n",
    "q_snap += \"from dbo.Opportunity_Snapshot__c o \"\n",
    "q_snap += \"where o.Type__c in ('New Business','Existing Business') \"\n",
    "q_snap += \"and o.Stage__c not in ('Closed Won','Closed Lost','Closed Deferred','Re-Qualify');\"\n",
    "\n",
    "# get Opportunity Snapshot - SF backup data\n",
    "df_snap = get_SF_data(connection=conn_SF, query_string=q_snap)"
   ]
  },
  {
   "cell_type": "code",
   "execution_count": 10,
   "metadata": {
    "collapsed": false,
    "deletable": true,
    "editable": true
   },
   "outputs": [],
   "source": [
    "'''\n",
    "    2 - Lead Data: Sales Sourced Leads & Marketing Sourced Leads\n",
    "    Objects used:  Lead\n",
    "'''\n",
    "# get Lead data - SF backup data\n",
    "q_leads =  \"select l.leadSource, l.CreatedDate, l.title_Score__c, l.Managed_By__c from dbo.Lead as l\"\n",
    "\n",
    "# run query for Lead Data\n",
    "df_leads = get_SF_data(connection=conn_SF, query_string=q_leads)\n",
    "\n",
    "# get Marketing Sourced Lead Data - replicate of: Board Reporting: Marketing Sourced Leads\n",
    "q_marketing = \"select l.leadSource, l.CreatedDate, l.title_Score__c, l.Managed_By__c from dbo.Lead as l \"\n",
    "q_marketing += \"where l.leadSource not in ('Partner','Rep List','Sales Rep','External Referral','Rep Sourced Social','SDR','Sales Operations') \"\n",
    "q_marketing += \"and l.leadSource <> '';\"\n",
    "\n",
    "# run query for Marketing Sourced Lead Data\n",
    "df_mk = get_SF_data(connection=conn_SF, query_string=q_marketing)\n",
    "\n",
    "\n",
    "# get Sales Sourced Lead Data - replicate of: Board Reporting: Sales Sourced Leads\n",
    "q_sales = \"select l.leadSource, l.CreatedDate, l.title_Score__c, l.Managed_By__c from dbo.Lead as l \"\n",
    "q_sales += \"where l.leadSource in ('Partner','Rep List','Sales Rep','External Referral','Rep Sourced Social','SDR','Sales Operations') \"\n",
    "q_sales += \"and l.leadSource <> '';\"\n",
    "\n",
    "# run query for Sourced Lead Data\n",
    "df_sales = get_SF_data(connection=conn_SF, query_string=q_sales)\n"
   ]
  },
  {
   "cell_type": "code",
   "execution_count": 11,
   "metadata": {
    "collapsed": true,
    "deletable": true,
    "editable": true
   },
   "outputs": [],
   "source": [
    "'''\n",
    "    3 - Pipeline Generation - Leads created by SDR's with opportunities attached\n",
    "    Objects used: Task, Opportunities, User\n",
    "    *** Leadsource may need to be updated - this uses Opportunity Lead Source, the board report uses Contact Role Lead Source\n",
    "'''\n",
    "\n",
    "q_pipe = \"select u1.Name as CreatedBy, u2.Name as AccountOwner, t.ActivityDate as StartDate, \"\n",
    "q_pipe += \"o.Name as OpportunityName,  t.AccountId, t.Attach_to_an_Existing_Opportunity__c, o.Id as OpportunityId, \"\n",
    "q_pipe += \"o.LeadSource, o.Type, o.StageName, o.New_ARR__c, o.CreatedDate, o.CloseDate \"\n",
    "q_pipe += \"from dbo.Task as t \"\n",
    "q_pipe += \"inner join dbo.Opportunity as o \"\n",
    "q_pipe += \"on o.Id = t.WhatID \"\n",
    "q_pipe += \"inner join dbo.[User] as u1 \"\n",
    "q_pipe += \"on t.CreatedById = u1.Id  \" #--SDR Created\n",
    "q_pipe += \"inner join dbo.[User] as u2 \"\n",
    "q_pipe += \"on o.OwnerId = u2.Id \" #-- Acct Owner\n",
    "q_pipe += \"where t.Type = 'Product Intro' \"  # API name hasnt changed to discovery call\n",
    "q_pipe += \"and t.Created_by_Division__c = 'SDR' \"\n",
    "q_pipe += \"and o.Name != '' \"\n",
    "q_pipe += \"and t.Status != 'Deferred' \"\n",
    "q_pipe += \"and t.ActivityDate >='2016-04-01' \"\n",
    "q_pipe += \"and t.ActivityDate <= GetDate(); \"\n",
    "\n",
    "# get Pipeline Generation data - SF backup data\n",
    "df_pipe = get_SF_data(connection=conn_SF, query_string=q_pipe)"
   ]
  },
  {
   "cell_type": "code",
   "execution_count": 12,
   "metadata": {
    "collapsed": true,
    "deletable": true,
    "editable": true
   },
   "outputs": [],
   "source": [
    "'''\n",
    "    4) Opportunity Data - New and Exisiting Opportunities\n",
    "    Objects used: Opportunity, User\n",
    "'''\n",
    "\n",
    "q_opps = \"select u1.Name as AccountOwner, o.Name as OpportunityName, o.Id as OpportunityId, o.Account_Industry__c, \"\n",
    "q_opps += \"o.LeadSource, o.Type, o.StageName, o.New_ARR__c, o.New_ARR_EURO__c,o.CreatedDate, o.CloseDate \"\n",
    "q_opps += \"from dbo.Opportunity as o \"\n",
    "q_opps += \"inner join dbo.[User] as u1 \"\n",
    "q_opps += \"on o.OwnerId = u1.Id \" #-- Acct Owner\n",
    "q_opps += \" where o.Type in ('New Business','Existing Business')\"\n",
    "\n",
    "# get Pipeline Generation data - SF backup data\n",
    "df_opps = get_SF_data(connection=conn_SF, query_string=q_opps)"
   ]
  },
  {
   "cell_type": "code",
   "execution_count": 13,
   "metadata": {
    "collapsed": false,
    "deletable": true,
    "editable": true
   },
   "outputs": [],
   "source": [
    "'''\n",
    "    5) Conversion Rates Data - New Business\n",
    "    Objects used: Conversion Rate\n",
    "'''\n",
    "\n",
    "# q_convrates = \"select * from dbo.Conversion_Rate__c\"\n",
    "\n",
    "q_convrates = \"select cv.FromDate__c, cv.ToDate__c, cv.FromStage__c, cv.ConversionRate__c, \"\n",
    "q_convrates += \"cv.Numerator__c, cv.Denominator__c, cv.ToStage__c, cv.ReportDate__c \"\n",
    "q_convrates += \"from dbo.Conversion_Rate__c as cv;\"\n",
    "\n",
    "# get Pipeline Generation data - SF backup data\n",
    "df_convrates = get_SF_data(connection=conn_SF, query_string=q_convrates)"
   ]
  },
  {
   "cell_type": "code",
   "execution_count": 14,
   "metadata": {
    "collapsed": true,
    "deletable": true,
    "editable": true
   },
   "outputs": [],
   "source": [
    "''' ################## DONT NEED THIS!! ##################\n",
    "    6 - Opportunity Snapshot Data: New and Existing Business Open Opportunities Closed Won\n",
    "    Objects used: Opportunitiy Snapshot\n",
    "'''\n",
    "\n",
    "q_snap_closed = \"Select o.Report_Date__c, o.Stage__c, o.Amount__c, ARR_Delta_EURO__c, o.Type__c, o.Close_Date__c, o.Industry__c, \"\n",
    "q_snap_closed += \"Created_Date__c, CurrencyIsoCode, Date_Opp_Moved_40__c, Opportunity_ID__c \"\n",
    "q_snap_closed += \"from dbo.Opportunity_Snapshot__c o \"\n",
    "q_snap_closed += \"where o.Type__c in ('New Business','Existing Business') \"\n",
    "q_snap_closed += \"and o.Stage__c = 'Closed Won';\"\n",
    "\n",
    "# get Opportunity Snapshot - SF backup data\n",
    "df_snap_closed = get_SF_data(connection=conn_SF, query_string=q_snap_closed)"
   ]
  },
  {
   "cell_type": "code",
   "execution_count": 15,
   "metadata": {
    "collapsed": true,
    "deletable": true,
    "editable": true
   },
   "outputs": [],
   "source": [
    "# close connection to SalesForce\n",
    "conn_SF.close()"
   ]
  },
  {
   "cell_type": "markdown",
   "metadata": {
    "deletable": true,
    "editable": true
   },
   "source": [
    "### Opportunity Snapshot Data Cleaning and Pre-processing:\n",
    "* Clean industry\n",
    "* Include snapshots dates from Board report\n",
    "* add Fiscal Year\n",
    "\n",
    "#### Filters: \n",
    "* Exclude Closed Won, Closed Lost/Deferred, Re-Qualify"
   ]
  },
  {
   "cell_type": "code",
   "execution_count": 16,
   "metadata": {
    "collapsed": true,
    "deletable": true,
    "editable": true
   },
   "outputs": [],
   "source": [
    "'''\n",
    "    1 - Opportunity Snapshot Data Pre-processing:\n",
    "        Clean industry, include snapshots dates from Board report, add Fiscal Year\n",
    "        Filters: Exclude Closed Won, Closed Lost/Deferred, Re-Qualify\n",
    "'''\n",
    "# clean up industry\n",
    "df_snap['grouped_industry'] = df_snap.Industry__c.map(lambda  x: industry_map.get(x,'Other'))\n",
    "# clean up date columns\n",
    "date_cols = ['Created_Date__c', 'Close_Date__c','Report_Date__c']\n",
    "df_snap[date_cols] = df_snap[date_cols].applymap(lambda x: np.datetime64(x))\n",
    "\n",
    "# clean up numeric columns\n",
    "numeric_cols = ['Amount__c','ARR_Delta_EURO__c']\n",
    "df_snap[numeric_cols] = df_snap[numeric_cols].fillna(0.0)\n",
    "df_snap[numeric_cols] = df_snap[numeric_cols].applymap(lambda x: np.float(x))\n",
    "\n",
    "# create periods\n",
    "monthly_periods = pd.period_range(df_snap.Report_Date__c.min(),df_snap.Report_Date__c.max(), freq='M')\n",
    "quarter_periods = pd.period_range(df_snap.Report_Date__c.min(),df_snap.Report_Date__c.max(), freq='Q-SEP')\n",
    "# add in Fiscal Quarter and Month\n",
    "df_snap['quarter'] = df_snap.Report_Date__c.dt.to_period('Q-SEP')\n",
    "df_snap['month'] = df_snap.Report_Date__c.dt.to_period('M')\n",
    "\n",
    "# Filter out Closed Won, Closed Lost and Closed Deferred\n",
    "df_snap = df_snap[~(df_snap.Stage__c.isin(['Closed Won','Closed Lost','Closed Deferred']))]\n",
    "# Clean up old stage data\n",
    "df_snap.Stage__c.replace('Qualification', 'Qualified', inplace = True)\n",
    "df_snap = df_snap[df_snap.Stage__c != 'Re-Qualify']\n",
    "\n",
    "rpt_dates_1 = ['10-15-2015','1-14-2016','4-14-2016','7-14-2016','10-14-2016','1-13-2017','4-14-2017','7-14-2017']\n",
    "rpt_dates_1 = [pd.to_datetime(x) for x in rpt_dates_1]\n",
    "rpt_dates_1 = [x.date() for x in rpt_dates_1]\n",
    "rpt_dates_2 =['10-1-2015','11-5-2015','12-3-2015','1-7-2016','2-4-2016','3-3-2016','4-7-2016','5-5-2016','6-2-2016',\n",
    "             '7-7-2016','8-5-2016','9-2-2016','10-7-2016','11-4-2016','12-2-2016','1-6-2017','2-3-2017','3-3-2017','4-7-2017',\n",
    "             '5-5-2017','6-2-2017','7-7-2017','8-4-2017','9-1-2017']\n",
    "rpt_dates_2 = [pd.to_datetime(x) for x in rpt_dates_2]\n",
    "rpt_dates_2 = [x.date() for x in rpt_dates_2]\n",
    "# Filter out dates\n",
    "df_snap = df_snap[(df_snap.Report_Date__c.isin(rpt_dates_1)) | (df_snap.Report_Date__c.isin(rpt_dates_2))]\n",
    "# add order for stage sorting\n",
    "df_snap['stage_order'] = df_snap.Stage__c.map(lambda x : stage_order.get(x))\n",
    "\n"
   ]
  },
  {
   "cell_type": "markdown",
   "metadata": {
    "deletable": true,
    "editable": true
   },
   "source": [
    "### Lead Data Cleaning and Pre-processing:\n",
    "* Add in Fiscal Quarter and Year\n",
    "* Clean up Marketing Sources\n",
    "* Clean up lead sources (based on recent updates made by Erica)\n",
    "* Split up leads: Sales, Reseller"
   ]
  },
  {
   "cell_type": "code",
   "execution_count": 17,
   "metadata": {
    "collapsed": false,
    "deletable": true,
    "editable": true
   },
   "outputs": [
    {
     "name": "stderr",
     "output_type": "stream",
     "text": [
      "/Users/Gabi/.virtualenvs/analysis/lib/python2.7/site-packages/pandas/core/generic.py:3675: UserWarning:\n",
      "\n",
      "the \"axis\" argument is deprecated and will be removed inv0.13; this argument has no effect\n",
      "\n"
     ]
    }
   ],
   "source": [
    "'''\n",
    "    2 - Lead Data Pre-processing:\n",
    "        Clean up Marketing Lead Data\n",
    "        Clean up Sales Lead Data        \n",
    "'''\n",
    "# clean up Created date\n",
    "df_leads.CreatedDate = df_leads.CreatedDate.map(lambda x: np.datetime64(x))\n",
    "# add in Fiscal Quarter and Month based on Created Date\n",
    "df_leads['quarter'] = df_leads.CreatedDate.dt.to_period('Q-SEP')\n",
    "df_leads['month'] = df_leads.CreatedDate.dt.to_period('M')\n",
    "\n",
    "df_leads['source'] = df_leads.leadSource.map(lambda x: lead_source_mapping.get(x,'Old'))\n",
    "# this is the updated lead sources based on updates made by Erica\n",
    "df_leads['updated_leadSource'] = df_leads.leadSource\n",
    "df_leads.updated_leadSource = df_leads.updated_leadSource.replace({'Rep List':'Sales Rep',\n",
    "                                    'Rep Sourced Social':'SDR'} , axis=0) # ,'Field Event':'Collibra Event'}, axis=0)\n",
    "# add lead source - Marketing, Sales, Other\n",
    "df_leads['lead_source'] = df_leads.updated_leadSource.map(lambda x: lead_source_mapping.get(x))"
   ]
  },
  {
   "cell_type": "code",
   "execution_count": 18,
   "metadata": {
    "collapsed": true,
    "deletable": true,
    "editable": true
   },
   "outputs": [],
   "source": [
    "# Sales Sourced Leads - Direct Sales\n",
    "sales_leads = df_leads[df_leads.Managed_By__c=='Direct Sales']\n",
    "# Sales Sourced Leads - Reseller\n",
    "reseller_leads = df_leads[df_leads.Managed_By__c=='Reseller']\n",
    "# Sales Sourced Leads - Partner Org\n",
    "partner_leads = df_leads[df_leads.Managed_By__c=='Partner Org']\n",
    "# Sales Sourced Leads - Unmanaged\n",
    "unmanaged_leads = df_leads[df_leads.Managed_By__c=='Unmanaged']"
   ]
  },
  {
   "cell_type": "code",
   "execution_count": 19,
   "metadata": {
    "collapsed": false,
    "deletable": true,
    "editable": true
   },
   "outputs": [],
   "source": [
    "'''\n",
    "    Clean up Marketing Lead Data\n",
    "    Note: leads with sources 'Database', 'Jigsaw', 'Other' are counting in Marketing - should these be Sales?\n",
    "'''\n",
    "# clean up Created date\n",
    "df_mk.CreatedDate = df_mk.CreatedDate.map(lambda x: np.datetime64(x))\n",
    "# add in Fiscal Quarter and Month based on Created Date\n",
    "df_mk['quarter'] = df_mk.CreatedDate.dt.to_period('Q-SEP')\n",
    "df_mk['month'] = df_mk.CreatedDate.dt.to_period('M')\n",
    "\n",
    "# this is the updated lead sources based on updates made by Erica\n",
    "df_mk['updated_leadSource'] = df_mk.leadSource\n"
   ]
  },
  {
   "cell_type": "code",
   "execution_count": 20,
   "metadata": {
    "collapsed": false,
    "deletable": true,
    "editable": true
   },
   "outputs": [],
   "source": [
    "'''\n",
    "    Clean up Sales Lead Data\n",
    "    Note: leads with sources 'Database', 'Jigsaw', 'Other' are counting in Marketing - should these be Sales?\n",
    "'''\n",
    "# clean up Created date\n",
    "df_sales.CreatedDate = df_sales.CreatedDate.map(lambda x: np.datetime64(x))\n",
    "# add in Fiscal Quarter and Month based on Created Date\n",
    "df_sales['quarter'] = df_sales.CreatedDate.dt.to_period('Q-SEP')\n",
    "df_sales['month'] = df_sales.CreatedDate.dt.to_period('M')\n",
    "\n",
    "# this is the updated lead sources based on updates made by Erica\n",
    "df_sales['updated_leadSource'] = df_sales.leadSource\n",
    "df_sales.updated_leadSource = df_sales.updated_leadSource.replace({'Rep List':'Sales Rep',\n",
    "                                    'Rep Sourced Social':'SDR'} , axis=0) # ,'Field Event':'Collibra Event'}, axis=0)\n"
   ]
  },
  {
   "cell_type": "markdown",
   "metadata": {
    "deletable": true,
    "editable": true
   },
   "source": [
    "### Pipeline Data Cleaning and Pre-processing:\n",
    "** THIS DATA USES ORIGINAL LEAD SOURCE ON OPPORTUNITY --> SHOULD THIS BE ON THE PRIMARY CONTACT ROLE? \n",
    "* Add in Fiscal Quarter and Year for closed date"
   ]
  },
  {
   "cell_type": "code",
   "execution_count": 21,
   "metadata": {
    "collapsed": false,
    "deletable": true,
    "editable": true
   },
   "outputs": [],
   "source": [
    "'''\n",
    "    3 - Pipeline Data Cleaning and Pre-processing:\n",
    "        *** Map Lead Sources - these are based on Opportunity lead sources and not contact role ***\n",
    "'''\n",
    "\n",
    "# clean up date columns\n",
    "date_cols = ['StartDate', 'CreatedDate','CloseDate']\n",
    "df_pipe[date_cols] = df_pipe[date_cols].applymap(lambda x: np.datetime64(x))\n",
    "# add in fiscal quarter for close date on opportunity\n",
    "df_pipe['quarterClose'] = df_pipe.CloseDate.dt.to_period('Q-SEP')\n",
    "# add in fiscal quarter for created date on opportunity\n",
    "df_pipe['quarter'] = df_pipe.CreatedDate.dt.to_period('Q-SEP')\n",
    "# add in fiscal quarter for Start date on task\n",
    "df_pipe['quarterStart'] = df_pipe.StartDate.dt.to_period('Q-SEP')\n",
    "\n",
    "# add lead source - Marketing, Sales\n",
    "df_pipe['lead_source'] = df_pipe.LeadSource.map(lambda x: lead_source_mapping.get(x))"
   ]
  },
  {
   "cell_type": "code",
   "execution_count": 22,
   "metadata": {
    "collapsed": false,
    "deletable": true,
    "editable": true
   },
   "outputs": [
    {
     "data": {
      "text/html": [
       "<div>\n",
       "<style>\n",
       "    .dataframe thead tr:only-child th {\n",
       "        text-align: right;\n",
       "    }\n",
       "\n",
       "    .dataframe thead th {\n",
       "        text-align: left;\n",
       "    }\n",
       "\n",
       "    .dataframe tbody tr th {\n",
       "        vertical-align: top;\n",
       "    }\n",
       "</style>\n",
       "<table border=\"1\" class=\"dataframe\">\n",
       "  <thead>\n",
       "    <tr style=\"text-align: right;\">\n",
       "      <th>lead_source</th>\n",
       "      <th>Marketing</th>\n",
       "      <th>Sales</th>\n",
       "    </tr>\n",
       "    <tr>\n",
       "      <th>quarterStart</th>\n",
       "      <th></th>\n",
       "      <th></th>\n",
       "    </tr>\n",
       "  </thead>\n",
       "  <tbody>\n",
       "    <tr>\n",
       "      <th>2016Q3</th>\n",
       "      <td>11</td>\n",
       "      <td>3</td>\n",
       "    </tr>\n",
       "    <tr>\n",
       "      <th>2016Q4</th>\n",
       "      <td>93</td>\n",
       "      <td>13</td>\n",
       "    </tr>\n",
       "    <tr>\n",
       "      <th>2017Q1</th>\n",
       "      <td>104</td>\n",
       "      <td>27</td>\n",
       "    </tr>\n",
       "    <tr>\n",
       "      <th>2017Q2</th>\n",
       "      <td>174</td>\n",
       "      <td>28</td>\n",
       "    </tr>\n",
       "    <tr>\n",
       "      <th>2017Q3</th>\n",
       "      <td>157</td>\n",
       "      <td>12</td>\n",
       "    </tr>\n",
       "  </tbody>\n",
       "</table>\n",
       "</div>"
      ],
      "text/plain": [
       "lead_source   Marketing  Sales\n",
       "quarterStart                  \n",
       "2016Q3               11      3\n",
       "2016Q4               93     13\n",
       "2017Q1              104     27\n",
       "2017Q2              174     28\n",
       "2017Q3              157     12"
      ]
     },
     "execution_count": 22,
     "metadata": {},
     "output_type": "execute_result"
    }
   ],
   "source": [
    "df_pipe.groupby(['quarterStart','lead_source']).lead_source.count().unstack()"
   ]
  },
  {
   "cell_type": "markdown",
   "metadata": {
    "collapsed": false,
    "deletable": true,
    "editable": true
   },
   "source": [
    "### Opportunity Data Cleaning and Pre-processing"
   ]
  },
  {
   "cell_type": "code",
   "execution_count": 23,
   "metadata": {
    "collapsed": false,
    "deletable": true,
    "editable": true
   },
   "outputs": [],
   "source": [
    "'''\n",
    "    Opportunity Data Cleaning and Pre-processing\n",
    "'''\n",
    "# clean up industry\n",
    "df_opps['grouped_industry'] = df_opps.Account_Industry__c.map(lambda  x: industry_map.get(x,'Other'))\n",
    "\n",
    "# clean up datetype\n",
    "date_cols = ['CreatedDate', 'CloseDate']\n",
    "df_opps[date_cols] = df_opps[date_cols].applymap(lambda x: np.datetime64(x))\n",
    "# add in quarter closed\n",
    "df_opps['quarterClose'] = df_opps.CloseDate.dt.to_period('Q-SEP')\n",
    "# change types to numeric\n",
    "numeric_cols = ['New_ARR__c','New_ARR_EURO__c']\n",
    "df_opps[numeric_cols] = df_opps[numeric_cols].astype(np.float)"
   ]
  },
  {
   "cell_type": "code",
   "execution_count": 24,
   "metadata": {
    "collapsed": false,
    "deletable": true,
    "editable": true
   },
   "outputs": [],
   "source": [
    "#df_opps[(df_opps.quarterClose == pd.Period('2017Q2', freq='Q-SEP')) & (df_opps.StageName == 'Closed Won')].New_ARR_EURO__c.sum()"
   ]
  },
  {
   "cell_type": "markdown",
   "metadata": {
    "deletable": true,
    "editable": true
   },
   "source": [
    "### Conversion Rates Data Cleaning and Pre-processing"
   ]
  },
  {
   "cell_type": "code",
   "execution_count": 25,
   "metadata": {
    "collapsed": true,
    "deletable": true,
    "editable": true
   },
   "outputs": [],
   "source": [
    "'''\n",
    "    Conversion Rates Data Cleaning and Pre-processing:\n",
    "        Add in Quarter dates\n",
    "'''\n",
    "# clean up datetype\n",
    "df_convrates.ToDate__c = df_convrates.ToDate__c.map(lambda x: np.datetime64(x))\n",
    "# add in quarter - based on ToDate\n",
    "df_convrates['quarter_ToDate'] = df_convrates.ToDate__c.dt.to_period('Q-SEP')"
   ]
  },
  {
   "cell_type": "markdown",
   "metadata": {
    "deletable": true,
    "editable": true
   },
   "source": [
    "### Closed Won Data Cleaning and Pre-processing"
   ]
  },
  {
   "cell_type": "code",
   "execution_count": 26,
   "metadata": {
    "collapsed": true,
    "deletable": true,
    "editable": true
   },
   "outputs": [],
   "source": [
    "''' ################## DONT NEED THIS ##################\n",
    "6 - Opportunity Snapshot Closed Won Data and Pre-processing:\n",
    "    Clean industry, include snapshots dates from Board report, add Fiscal Year\n",
    "'''\n",
    "# clean up industry\n",
    "df_snap_closed['grouped_industry'] = df_snap_closed.Industry__c.map(lambda  x: industry_map.get(x,'Other'))\n",
    "# clean up date columns\n",
    "date_cols = ['Created_Date__c', 'Close_Date__c','Report_Date__c']\n",
    "df_snap_closed[date_cols] = df_snap_closed[date_cols].applymap(lambda x: np.datetime64(x))\n",
    "\n",
    "# clean up numeric columns\n",
    "numeric_cols = ['Amount__c','ARR_Delta_EURO__c']\n",
    "df_snap_closed[numeric_cols] = df_snap_closed[numeric_cols].fillna(0.0)\n",
    "df_snap_closed[numeric_cols] = df_snap_closed[numeric_cols].applymap(lambda x: np.float(x))\n",
    "\n",
    "# create periods\n",
    "monthly_periods = pd.period_range(df_snap_closed.Report_Date__c.min(),df_snap_closed.Report_Date__c.max(), freq='M')\n",
    "quarter_periods = pd.period_range(df_snap_closed.Report_Date__c.min(),df_snap_closed.Report_Date__c.max(), freq='Q-SEP')\n",
    "# add in Fiscal Quarter and Month\n",
    "df_snap_closed['quarter'] = df_snap_closed.Report_Date__c.dt.to_period('Q-SEP')\n",
    "df_snap_closed['month'] = df_snap_closed.Report_Date__c.dt.to_period('M')\n",
    "df_snap_closed['quarterClosed'] = df_snap_closed.Close_Date__c.dt.to_period('Q-SEP')\n",
    "# Filter out Closed Won, Closed Lost and Closed Deferred\n",
    "#df_snap_closed = df_snap_closed[~(df_snap_closed.Stage__c.isin(['Closed Won','Closed Lost','Closed Deferred']))]\n",
    "# Clean up old stage data\n",
    "# df_snap.Stage__c.replace('Qualification', 'Qualified', inplace = True)\n",
    "# df_snap = df_snap[df_snap.Stage__c != 'Re-Qualify']\n",
    "\n",
    "rpt_dates_1 = ['10-15-2015','1-14-2016','4-14-2016','7-14-2016','10-14-2016','1-13-2017','4-14-2017','7-14-2017']\n",
    "rpt_dates_1 = [pd.to_datetime(x) for x in rpt_dates_1]\n",
    "rpt_dates_1 = [x.date() for x in rpt_dates_1]\n",
    "rpt_dates_2 =['10-1-2015','11-5-2015','12-3-2015','1-7-2016','2-4-2016','3-3-2016','4-7-2016','5-5-2016','6-2-2016',\n",
    "             '7-7-2016','8-5-2016','9-2-2016','10-7-2016','11-4-2016','12-2-2016','1-6-2017','2-3-2017','3-3-2017','4-7-2017',\n",
    "             '5-5-2017','6-2-2017','7-7-2017','8-4-2017','9-1-2017']\n",
    "rpt_dates_2 = [pd.to_datetime(x) for x in rpt_dates_2]\n",
    "rpt_dates_2 = [x.date() for x in rpt_dates_2]\n",
    "# Filter out dates\n",
    "df_snap_closed = df_snap_closed[(df_snap_closed.Report_Date__c.isin(rpt_dates_1)) | (df_snap_closed.Report_Date__c.isin(rpt_dates_2))]\n",
    "# add order for stage sorting\n",
    "df_snap_closed['stage_order'] = df_snap_closed.Stage__c.map(lambda x : stage_order.get(x))\n"
   ]
  },
  {
   "cell_type": "markdown",
   "metadata": {
    "deletable": true,
    "editable": true
   },
   "source": [
    "### Summary tables\n",
    "\n",
    "#### Part 1) Quarterly ARR by Industry\n",
    "\n",
    "#### Part 2) Quarterly Number of Leads by Source - ALL Leads & Direct Sales Leads\n",
    "\n",
    "#### Part 3) Quarterly Number of SDR Generated Opportunities - Sales Sourced SQLs vs Marketing Sourced SQLs\n",
    "\n",
    "#### Part 4) Quarterly Number of Open Opportunities by Stage\n",
    "\n",
    "#### Part 5) Quartely Conversion Rate Averages\n",
    "\n",
    "**TO DO:\n",
    "Quarterly Average Selling Price for New Business \n",
    "Conversion Rates**"
   ]
  },
  {
   "cell_type": "code",
   "execution_count": 27,
   "metadata": {
    "collapsed": false,
    "deletable": true,
    "editable": true
   },
   "outputs": [],
   "source": [
    "''' \n",
    "    1 - ARR by Industry \n",
    "'''\n",
    "\n",
    "# these are the industries we look at \n",
    "industries = list(set(industry_map.values())) + ['Other']\n",
    "industries.sort()"
   ]
  },
  {
   "cell_type": "code",
   "execution_count": 28,
   "metadata": {
    "collapsed": true,
    "deletable": true,
    "editable": true
   },
   "outputs": [],
   "source": [
    "# these are the marketing sources - anything else is other\n",
    "marketing_sources = ['Seminar/Conference', 'Website','Content Syndication', \n",
    "                     'Paid Search','Webinar','Email','Field Event','Social Media','Other']"
   ]
  },
  {
   "cell_type": "code",
   "execution_count": 906,
   "metadata": {
    "collapsed": false,
    "deletable": true,
    "editable": true
   },
   "outputs": [],
   "source": [
    "#new_ARR.applymap(lambda x: \"{0:,.2f}\".format(x))"
   ]
  },
  {
   "cell_type": "code",
   "execution_count": 29,
   "metadata": {
    "collapsed": true,
    "deletable": true,
    "editable": true
   },
   "outputs": [],
   "source": [
    "# copy Snapshot data\n",
    "snap_data = df_snap.copy()"
   ]
  },
  {
   "cell_type": "code",
   "execution_count": 30,
   "metadata": {
    "collapsed": false,
    "deletable": true,
    "editable": true
   },
   "outputs": [
    {
     "name": "stderr",
     "output_type": "stream",
     "text": [
      "/Users/Gabi/.virtualenvs/analysis/lib/python2.7/site-packages/ipykernel/__main__.py:11: DeprecationWarning:\n",
      "\n",
      "\n",
      ".ix is deprecated. Please use\n",
      ".loc for label based indexing or\n",
      ".iloc for positional indexing\n",
      "\n",
      "See the documentation here:\n",
      "http://pandas.pydata.org/pandas-docs/stable/indexing.html#deprecate_ix\n",
      "\n"
     ]
    }
   ],
   "source": [
    "# DataFrame for Quarterly ARR by Industry \n",
    "qt_ind_ARR = pd.DataFrame(columns = industries, index = sorted(qt_rpt_dates.keys()))\n",
    "\n",
    "# build summary table for grouped industry\n",
    "for q in sorted(qt_rpt_dates.keys()):\n",
    "    for i in industries:\n",
    "        temp_ind = snap_data[(snap_data.Report_Date__c == qt_rpt_dates.get(q)) & (snap_data.grouped_industry == i) &\n",
    "                            (~snap_data.Stage__c.isin(not_pipeline))]\n",
    "        # ARR EURO\n",
    "        arr = temp_ind.ARR_Delta_EURO__c.sum()\n",
    "        qt_ind_ARR.ix[q][i] = arr"
   ]
  },
  {
   "cell_type": "code",
   "execution_count": 31,
   "metadata": {
    "collapsed": false,
    "deletable": true,
    "editable": true
   },
   "outputs": [
    {
     "data": {
      "text/html": [
       "<div>\n",
       "<style>\n",
       "    .dataframe thead tr:only-child th {\n",
       "        text-align: right;\n",
       "    }\n",
       "\n",
       "    .dataframe thead th {\n",
       "        text-align: left;\n",
       "    }\n",
       "\n",
       "    .dataframe tbody tr th {\n",
       "        vertical-align: top;\n",
       "    }\n",
       "</style>\n",
       "<table border=\"1\" class=\"dataframe\">\n",
       "  <thead>\n",
       "    <tr style=\"text-align: right;\">\n",
       "      <th></th>\n",
       "      <th>Federal</th>\n",
       "      <th>Financial Services</th>\n",
       "      <th>Healthcare</th>\n",
       "      <th>Life Sciences</th>\n",
       "      <th>Other</th>\n",
       "      <th>Technology</th>\n",
       "    </tr>\n",
       "  </thead>\n",
       "  <tbody>\n",
       "    <tr>\n",
       "      <th>2017Q1</th>\n",
       "      <td>1257842.83</td>\n",
       "      <td>12027136.65</td>\n",
       "      <td>3461969.54</td>\n",
       "      <td>1292006.16</td>\n",
       "      <td>6669172.68</td>\n",
       "      <td>1233868.48</td>\n",
       "    </tr>\n",
       "    <tr>\n",
       "      <th>2017Q2</th>\n",
       "      <td>2821471.30</td>\n",
       "      <td>13028623.46</td>\n",
       "      <td>2998649.57</td>\n",
       "      <td>2022134.97</td>\n",
       "      <td>9181193.57</td>\n",
       "      <td>1593223.58</td>\n",
       "    </tr>\n",
       "    <tr>\n",
       "      <th>2017Q3</th>\n",
       "      <td>2855978.00</td>\n",
       "      <td>15348489.07</td>\n",
       "      <td>3501997.65</td>\n",
       "      <td>1196912.02</td>\n",
       "      <td>9045838.91</td>\n",
       "      <td>1992871.42</td>\n",
       "    </tr>\n",
       "    <tr>\n",
       "      <th>2017Q4</th>\n",
       "      <td>0.00</td>\n",
       "      <td>0.00</td>\n",
       "      <td>0.00</td>\n",
       "      <td>0.00</td>\n",
       "      <td>0.00</td>\n",
       "      <td>0.00</td>\n",
       "    </tr>\n",
       "  </tbody>\n",
       "</table>\n",
       "</div>"
      ],
      "text/plain": [
       "           Federal  Financial Services  Healthcare  Life Sciences       Other  \\\n",
       "2017Q1  1257842.83         12027136.65  3461969.54     1292006.16  6669172.68   \n",
       "2017Q2  2821471.30         13028623.46  2998649.57     2022134.97  9181193.57   \n",
       "2017Q3  2855978.00         15348489.07  3501997.65     1196912.02  9045838.91   \n",
       "2017Q4        0.00                0.00        0.00           0.00        0.00   \n",
       "\n",
       "        Technology  \n",
       "2017Q1  1233868.48  \n",
       "2017Q2  1593223.58  \n",
       "2017Q3  1992871.42  \n",
       "2017Q4        0.00  "
      ]
     },
     "execution_count": 31,
     "metadata": {},
     "output_type": "execute_result"
    }
   ],
   "source": [
    "# change data type\n",
    "qt_ind_ARR[industries] = qt_ind_ARR[industries].applymap(lambda x: np.float(x))\n",
    "\n",
    "# ARR by industry QT\n",
    "qt_ind_ARR"
   ]
  },
  {
   "cell_type": "code",
   "execution_count": 32,
   "metadata": {
    "collapsed": true,
    "deletable": true,
    "editable": true
   },
   "outputs": [],
   "source": [
    "''' \n",
    "    2 - Number of Marketing Leads by Lead Source:\n",
    "        a. All marketing leads\n",
    "        b. Direct Sales Marketing leads\n",
    "'''\n",
    "# copy lead data\n",
    "mk_data = df_mk.copy()"
   ]
  },
  {
   "cell_type": "code",
   "execution_count": 33,
   "metadata": {
    "collapsed": false,
    "deletable": true,
    "editable": true
   },
   "outputs": [
    {
     "data": {
      "text/plain": [
       "['Seminar/Conference',\n",
       " 'Website',\n",
       " 'Content Syndication',\n",
       " 'Paid Search',\n",
       " 'Webinar',\n",
       " 'Email',\n",
       " 'Field Event',\n",
       " 'Social Media',\n",
       " 'Other']"
      ]
     },
     "execution_count": 33,
     "metadata": {},
     "output_type": "execute_result"
    }
   ],
   "source": [
    "marketing_sources"
   ]
  },
  {
   "cell_type": "code",
   "execution_count": 34,
   "metadata": {
    "collapsed": false,
    "deletable": true,
    "editable": true
   },
   "outputs": [
    {
     "data": {
      "text/html": [
       "<div>\n",
       "<style>\n",
       "    .dataframe thead tr:only-child th {\n",
       "        text-align: right;\n",
       "    }\n",
       "\n",
       "    .dataframe thead th {\n",
       "        text-align: left;\n",
       "    }\n",
       "\n",
       "    .dataframe tbody tr th {\n",
       "        vertical-align: top;\n",
       "    }\n",
       "</style>\n",
       "<table border=\"1\" class=\"dataframe\">\n",
       "  <thead>\n",
       "    <tr style=\"text-align: right;\">\n",
       "      <th></th>\n",
       "      <th>leadSource</th>\n",
       "      <th>CreatedDate</th>\n",
       "      <th>title_Score__c</th>\n",
       "      <th>Managed_By__c</th>\n",
       "      <th>quarter</th>\n",
       "      <th>month</th>\n",
       "      <th>updated_leadSource</th>\n",
       "    </tr>\n",
       "  </thead>\n",
       "  <tbody>\n",
       "    <tr>\n",
       "      <th>0</th>\n",
       "      <td>Database</td>\n",
       "      <td>2015-08-28 12:57:36</td>\n",
       "      <td>70</td>\n",
       "      <td>Direct Sales</td>\n",
       "      <td>2015Q4</td>\n",
       "      <td>2015-08</td>\n",
       "      <td>Database</td>\n",
       "    </tr>\n",
       "    <tr>\n",
       "      <th>1</th>\n",
       "      <td>Website</td>\n",
       "      <td>2016-05-20 07:15:53</td>\n",
       "      <td>63</td>\n",
       "      <td>Direct Sales</td>\n",
       "      <td>2016Q3</td>\n",
       "      <td>2016-05</td>\n",
       "      <td>Website</td>\n",
       "    </tr>\n",
       "    <tr>\n",
       "      <th>2</th>\n",
       "      <td>Database</td>\n",
       "      <td>2015-08-21 11:38:56</td>\n",
       "      <td>58</td>\n",
       "      <td>Direct Sales</td>\n",
       "      <td>2015Q4</td>\n",
       "      <td>2015-08</td>\n",
       "      <td>Database</td>\n",
       "    </tr>\n",
       "    <tr>\n",
       "      <th>3</th>\n",
       "      <td>Seminar/Conference</td>\n",
       "      <td>2012-03-08 08:12:09</td>\n",
       "      <td>70</td>\n",
       "      <td>Direct Sales</td>\n",
       "      <td>2012Q2</td>\n",
       "      <td>2012-03</td>\n",
       "      <td>Seminar/Conference</td>\n",
       "    </tr>\n",
       "    <tr>\n",
       "      <th>4</th>\n",
       "      <td>Webinar</td>\n",
       "      <td>2016-05-17 17:11:33</td>\n",
       "      <td>63</td>\n",
       "      <td>Direct Sales</td>\n",
       "      <td>2016Q3</td>\n",
       "      <td>2016-05</td>\n",
       "      <td>Webinar</td>\n",
       "    </tr>\n",
       "  </tbody>\n",
       "</table>\n",
       "</div>"
      ],
      "text/plain": [
       "           leadSource         CreatedDate title_Score__c Managed_By__c  \\\n",
       "0            Database 2015-08-28 12:57:36             70  Direct Sales   \n",
       "1             Website 2016-05-20 07:15:53             63  Direct Sales   \n",
       "2            Database 2015-08-21 11:38:56             58  Direct Sales   \n",
       "3  Seminar/Conference 2012-03-08 08:12:09             70  Direct Sales   \n",
       "4             Webinar 2016-05-17 17:11:33             63  Direct Sales   \n",
       "\n",
       "  quarter   month  updated_leadSource  \n",
       "0  2015Q4 2015-08            Database  \n",
       "1  2016Q3 2016-05             Website  \n",
       "2  2015Q4 2015-08            Database  \n",
       "3  2012Q2 2012-03  Seminar/Conference  \n",
       "4  2016Q3 2016-05             Webinar  "
      ]
     },
     "execution_count": 34,
     "metadata": {},
     "output_type": "execute_result"
    }
   ],
   "source": [
    "mk_data.head()"
   ]
  },
  {
   "cell_type": "code",
   "execution_count": 35,
   "metadata": {
    "collapsed": false,
    "deletable": true,
    "editable": true
   },
   "outputs": [
    {
     "name": "stderr",
     "output_type": "stream",
     "text": [
      "/Users/Gabi/.virtualenvs/analysis/lib/python2.7/site-packages/ipykernel/__main__.py:26: DeprecationWarning:\n",
      "\n",
      "\n",
      ".ix is deprecated. Please use\n",
      ".loc for label based indexing or\n",
      ".iloc for positional indexing\n",
      "\n",
      "See the documentation here:\n",
      "http://pandas.pydata.org/pandas-docs/stable/indexing.html#deprecate_ix\n",
      "\n"
     ]
    }
   ],
   "source": [
    "cols = marketing_sources\n",
    "# DataFrame for Quarterly marketing leads by Lead Source - ALL\n",
    "qt_leads_source = pd.DataFrame(columns = cols , index = sorted(qt_rpt_dates.keys()))\n",
    "# DataFrame for Quarterly marketing leads by Lead Source - Direct Sales \n",
    "qt_leads_direct_sales = pd.DataFrame(columns = cols, index = sorted(qt_rpt_dates.keys()))\n",
    "\n",
    "# build summary table for Marketing leads by Managed By (ALL vs. Direct Sales)\n",
    "for q in sorted(qt_rpt_dates.keys()):\n",
    "    for m in cols:\n",
    "        if m == 'Other':\n",
    "            # group the \"Other\" marketing sources\n",
    "            temp_mk = mk_data[(mk_data.quarter == q) & (~mk_data.updated_leadSource.isin(marketing_sources))]\n",
    "            temp_directsales = temp_mk[(temp_mk.Managed_By__c == 'Direct Sales')]\n",
    "            # number of leads - All sources\n",
    "            num_leads = temp_mk.leadSource.count()\n",
    "            qt_leads_source.ix[q][m] = num_leads\n",
    "            # number of leads - All sources\n",
    "            num_leads_directsales = temp_directsales.leadSource.count()\n",
    "            qt_leads_direct_sales.loc[q][m] = num_leads_directsales\n",
    "        else:\n",
    "            temp_mk = mk_data[(mk_data.quarter == q) & (mk_data.updated_leadSource == m)]\n",
    "            # sales sourced leads\n",
    "            temp_directsales = temp_mk[(temp_mk.Managed_By__c == 'Direct Sales')]\n",
    "            # number of leads - All sources\n",
    "            num_leads = temp_mk.leadSource.count()\n",
    "            qt_leads_source.ix[q][m] = num_leads\n",
    "            # number of leads - All sources\n",
    "            num_leads_directsales = temp_directsales.leadSource.count()\n",
    "            qt_leads_direct_sales.loc[q][m] = num_leads_directsales\n",
    "        \n"
   ]
  },
  {
   "cell_type": "code",
   "execution_count": 36,
   "metadata": {
    "collapsed": false,
    "deletable": true,
    "editable": true
   },
   "outputs": [
    {
     "data": {
      "text/html": [
       "<div>\n",
       "<style>\n",
       "    .dataframe thead tr:only-child th {\n",
       "        text-align: right;\n",
       "    }\n",
       "\n",
       "    .dataframe thead th {\n",
       "        text-align: left;\n",
       "    }\n",
       "\n",
       "    .dataframe tbody tr th {\n",
       "        vertical-align: top;\n",
       "    }\n",
       "</style>\n",
       "<table border=\"1\" class=\"dataframe\">\n",
       "  <thead>\n",
       "    <tr style=\"text-align: right;\">\n",
       "      <th></th>\n",
       "      <th>Seminar/Conference</th>\n",
       "      <th>Website</th>\n",
       "      <th>Content Syndication</th>\n",
       "      <th>Paid Search</th>\n",
       "      <th>Webinar</th>\n",
       "      <th>Email</th>\n",
       "      <th>Field Event</th>\n",
       "      <th>Social Media</th>\n",
       "      <th>Other</th>\n",
       "    </tr>\n",
       "  </thead>\n",
       "  <tbody>\n",
       "    <tr>\n",
       "      <th>2017Q1</th>\n",
       "      <td>230</td>\n",
       "      <td>498</td>\n",
       "      <td>790</td>\n",
       "      <td>274</td>\n",
       "      <td>278</td>\n",
       "      <td>7</td>\n",
       "      <td>35</td>\n",
       "      <td>0</td>\n",
       "      <td>5</td>\n",
       "    </tr>\n",
       "    <tr>\n",
       "      <th>2017Q2</th>\n",
       "      <td>1046</td>\n",
       "      <td>777</td>\n",
       "      <td>1164</td>\n",
       "      <td>525</td>\n",
       "      <td>679</td>\n",
       "      <td>82</td>\n",
       "      <td>60</td>\n",
       "      <td>3</td>\n",
       "      <td>11</td>\n",
       "    </tr>\n",
       "    <tr>\n",
       "      <th>2017Q3</th>\n",
       "      <td>297</td>\n",
       "      <td>780</td>\n",
       "      <td>1270</td>\n",
       "      <td>756</td>\n",
       "      <td>1120</td>\n",
       "      <td>12</td>\n",
       "      <td>13</td>\n",
       "      <td>30</td>\n",
       "      <td>1428</td>\n",
       "    </tr>\n",
       "    <tr>\n",
       "      <th>2017Q4</th>\n",
       "      <td>0</td>\n",
       "      <td>0</td>\n",
       "      <td>0</td>\n",
       "      <td>0</td>\n",
       "      <td>0</td>\n",
       "      <td>0</td>\n",
       "      <td>0</td>\n",
       "      <td>0</td>\n",
       "      <td>0</td>\n",
       "    </tr>\n",
       "  </tbody>\n",
       "</table>\n",
       "</div>"
      ],
      "text/plain": [
       "       Seminar/Conference Website Content Syndication Paid Search Webinar  \\\n",
       "2017Q1                230     498                 790         274     278   \n",
       "2017Q2               1046     777                1164         525     679   \n",
       "2017Q3                297     780                1270         756    1120   \n",
       "2017Q4                  0       0                   0           0       0   \n",
       "\n",
       "       Email Field Event Social Media Other  \n",
       "2017Q1     7          35            0     5  \n",
       "2017Q2    82          60            3    11  \n",
       "2017Q3    12          13           30  1428  \n",
       "2017Q4     0           0            0     0  "
      ]
     },
     "execution_count": 36,
     "metadata": {},
     "output_type": "execute_result"
    }
   ],
   "source": [
    "# Direct Sales Sourced Marketing Leads\n",
    "qt_leads_direct_sales"
   ]
  },
  {
   "cell_type": "code",
   "execution_count": 37,
   "metadata": {
    "collapsed": false,
    "deletable": true,
    "editable": true
   },
   "outputs": [
    {
     "data": {
      "text/html": [
       "<div>\n",
       "<style>\n",
       "    .dataframe thead tr:only-child th {\n",
       "        text-align: right;\n",
       "    }\n",
       "\n",
       "    .dataframe thead th {\n",
       "        text-align: left;\n",
       "    }\n",
       "\n",
       "    .dataframe tbody tr th {\n",
       "        vertical-align: top;\n",
       "    }\n",
       "</style>\n",
       "<table border=\"1\" class=\"dataframe\">\n",
       "  <thead>\n",
       "    <tr style=\"text-align: right;\">\n",
       "      <th></th>\n",
       "      <th>Seminar/Conference</th>\n",
       "      <th>Website</th>\n",
       "      <th>Content Syndication</th>\n",
       "      <th>Paid Search</th>\n",
       "      <th>Webinar</th>\n",
       "      <th>Email</th>\n",
       "      <th>Field Event</th>\n",
       "      <th>Social Media</th>\n",
       "      <th>Other</th>\n",
       "    </tr>\n",
       "  </thead>\n",
       "  <tbody>\n",
       "    <tr>\n",
       "      <th>2017Q1</th>\n",
       "      <td>353</td>\n",
       "      <td>854</td>\n",
       "      <td>924</td>\n",
       "      <td>455</td>\n",
       "      <td>388</td>\n",
       "      <td>11</td>\n",
       "      <td>35</td>\n",
       "      <td>0</td>\n",
       "      <td>5</td>\n",
       "    </tr>\n",
       "    <tr>\n",
       "      <th>2017Q2</th>\n",
       "      <td>1184</td>\n",
       "      <td>1341</td>\n",
       "      <td>1425</td>\n",
       "      <td>780</td>\n",
       "      <td>912</td>\n",
       "      <td>94</td>\n",
       "      <td>67</td>\n",
       "      <td>6</td>\n",
       "      <td>12</td>\n",
       "    </tr>\n",
       "    <tr>\n",
       "      <th>2017Q3</th>\n",
       "      <td>361</td>\n",
       "      <td>1321</td>\n",
       "      <td>1405</td>\n",
       "      <td>891</td>\n",
       "      <td>1425</td>\n",
       "      <td>15</td>\n",
       "      <td>18</td>\n",
       "      <td>31</td>\n",
       "      <td>1523</td>\n",
       "    </tr>\n",
       "    <tr>\n",
       "      <th>2017Q4</th>\n",
       "      <td>0</td>\n",
       "      <td>0</td>\n",
       "      <td>0</td>\n",
       "      <td>0</td>\n",
       "      <td>0</td>\n",
       "      <td>0</td>\n",
       "      <td>0</td>\n",
       "      <td>0</td>\n",
       "      <td>0</td>\n",
       "    </tr>\n",
       "  </tbody>\n",
       "</table>\n",
       "</div>"
      ],
      "text/plain": [
       "       Seminar/Conference Website Content Syndication Paid Search Webinar  \\\n",
       "2017Q1                353     854                 924         455     388   \n",
       "2017Q2               1184    1341                1425         780     912   \n",
       "2017Q3                361    1321                1405         891    1425   \n",
       "2017Q4                  0       0                   0           0       0   \n",
       "\n",
       "       Email Field Event Social Media Other  \n",
       "2017Q1    11          35            0     5  \n",
       "2017Q2    94          67            6    12  \n",
       "2017Q3    15          18           31  1523  \n",
       "2017Q4     0           0            0     0  "
      ]
     },
     "execution_count": 37,
     "metadata": {},
     "output_type": "execute_result"
    }
   ],
   "source": [
    "# Marketing Leads\n",
    "qt_leads_source"
   ]
  },
  {
   "cell_type": "code",
   "execution_count": 38,
   "metadata": {
    "collapsed": true,
    "deletable": true,
    "editable": true
   },
   "outputs": [],
   "source": [
    "'''\n",
    "    3 - Number of SQLs - Sales Sourced vs. Marketing Sourced\n",
    "'''\n",
    "\n",
    "pipe_dat = df_pipe.copy()"
   ]
  },
  {
   "cell_type": "code",
   "execution_count": 39,
   "metadata": {
    "collapsed": false,
    "deletable": true,
    "editable": true
   },
   "outputs": [
    {
     "name": "stderr",
     "output_type": "stream",
     "text": [
      "/Users/Gabi/.virtualenvs/analysis/lib/python2.7/site-packages/ipykernel/__main__.py:12: DeprecationWarning:\n",
      "\n",
      "\n",
      ".ix is deprecated. Please use\n",
      ".loc for label based indexing or\n",
      ".iloc for positional indexing\n",
      "\n",
      "See the documentation here:\n",
      "http://pandas.pydata.org/pandas-docs/stable/indexing.html#deprecate_ix\n",
      "\n"
     ]
    }
   ],
   "source": [
    "sources = ['Marketing','Sales']\n",
    "\n",
    "# DataFrame for Quarterly SQLs - Marketing vs. Sales Sourced SQLs\n",
    "qt_sql = pd.DataFrame(columns = sources, index = sorted(qt_rpt_dates.keys()))\n",
    "\n",
    "# build summary table for Marketing leads by Managed By (ALL vs. Direct Sales)\n",
    "for q in sorted(qt_rpt_dates.keys()):\n",
    "    for s in sources:\n",
    "        temp_sql = pipe_dat[(pipe_dat.quarterStart == q) & (pipe_dat.lead_source == s)]\n",
    "        # number of SQLs - Marketing vs Sales\n",
    "        num_sql = temp_sql.lead_source.count()\n",
    "        qt_sql.ix[q][s] = num_sql"
   ]
  },
  {
   "cell_type": "code",
   "execution_count": 40,
   "metadata": {
    "collapsed": false,
    "deletable": true,
    "editable": true
   },
   "outputs": [
    {
     "data": {
      "text/html": [
       "<div>\n",
       "<style>\n",
       "    .dataframe thead tr:only-child th {\n",
       "        text-align: right;\n",
       "    }\n",
       "\n",
       "    .dataframe thead th {\n",
       "        text-align: left;\n",
       "    }\n",
       "\n",
       "    .dataframe tbody tr th {\n",
       "        vertical-align: top;\n",
       "    }\n",
       "</style>\n",
       "<table border=\"1\" class=\"dataframe\">\n",
       "  <thead>\n",
       "    <tr style=\"text-align: right;\">\n",
       "      <th></th>\n",
       "      <th>Marketing</th>\n",
       "      <th>Sales</th>\n",
       "    </tr>\n",
       "  </thead>\n",
       "  <tbody>\n",
       "    <tr>\n",
       "      <th>2017Q1</th>\n",
       "      <td>104</td>\n",
       "      <td>27</td>\n",
       "    </tr>\n",
       "    <tr>\n",
       "      <th>2017Q2</th>\n",
       "      <td>174</td>\n",
       "      <td>28</td>\n",
       "    </tr>\n",
       "    <tr>\n",
       "      <th>2017Q3</th>\n",
       "      <td>157</td>\n",
       "      <td>12</td>\n",
       "    </tr>\n",
       "    <tr>\n",
       "      <th>2017Q4</th>\n",
       "      <td>0</td>\n",
       "      <td>0</td>\n",
       "    </tr>\n",
       "  </tbody>\n",
       "</table>\n",
       "</div>"
      ],
      "text/plain": [
       "       Marketing Sales\n",
       "2017Q1       104    27\n",
       "2017Q2       174    28\n",
       "2017Q3       157    12\n",
       "2017Q4         0     0"
      ]
     },
     "execution_count": 40,
     "metadata": {},
     "output_type": "execute_result"
    }
   ],
   "source": [
    "# SQLS - Marketing vs. Sales\n",
    "qt_sql"
   ]
  },
  {
   "cell_type": "code",
   "execution_count": 41,
   "metadata": {
    "collapsed": false,
    "deletable": true,
    "editable": true
   },
   "outputs": [
    {
     "data": {
      "text/plain": [
       "'\\n    4 - Quarterly ARR and number of Open Opportunities by Stage in Pipeline\\n        a. ARR Pipeline by Stage in Open Pipeline\\n        b. Number of Opportunities by Stage in Open Pipeline\\n'"
      ]
     },
     "execution_count": 41,
     "metadata": {},
     "output_type": "execute_result"
    }
   ],
   "source": [
    "'''\n",
    "    4 - Quarterly ARR and number of Open Opportunities by Stage in Pipeline\n",
    "        a. ARR Pipeline by Stage in Open Pipeline\n",
    "        b. Number of Opportunities by Stage in Open Pipeline\n",
    "''' \n"
   ]
  },
  {
   "cell_type": "code",
   "execution_count": 42,
   "metadata": {
    "collapsed": false,
    "deletable": true,
    "editable": true
   },
   "outputs": [
    {
     "name": "stderr",
     "output_type": "stream",
     "text": [
      "/Users/Gabi/.virtualenvs/analysis/lib/python2.7/site-packages/ipykernel/__main__.py:13: DeprecationWarning:\n",
      "\n",
      "\n",
      ".ix is deprecated. Please use\n",
      ".loc for label based indexing or\n",
      ".iloc for positional indexing\n",
      "\n",
      "See the documentation here:\n",
      "http://pandas.pydata.org/pandas-docs/stable/indexing.html#deprecate_ix\n",
      "\n",
      "/Users/Gabi/.virtualenvs/analysis/lib/python2.7/site-packages/ipykernel/__main__.py:16: DeprecationWarning:\n",
      "\n",
      "\n",
      ".ix is deprecated. Please use\n",
      ".loc for label based indexing or\n",
      ".iloc for positional indexing\n",
      "\n",
      "See the documentation here:\n",
      "http://pandas.pydata.org/pandas-docs/stable/indexing.html#deprecate_ix\n",
      "\n"
     ]
    }
   ],
   "source": [
    "\n",
    "# DataFrame for Quarterly ARR by stage for 2017\n",
    "qt_stage_ARR = pd.DataFrame(columns = stages[:-1], index = sorted(qt_rpt_dates.keys()))\n",
    "# DataFrame for Quarterly opps by stage\n",
    "qt_stage_opp = pd.DataFrame(columns= stages[:-1], index = sorted(qt_rpt_dates.keys()))\n",
    "\n",
    "# build summary tables fo r ARR & num of opps\n",
    "for q in sorted(qt_rpt_dates.keys()):\n",
    "    for s in stages[:-1]:\n",
    "        temp = snap_data[(snap_data.Report_Date__c == qt_rpt_dates.get(q)) & (snap_data.Stage__c == s)]\n",
    "        # ARR EURO\n",
    "        arr = temp.ARR_Delta_EURO__c.sum()\n",
    "        qt_stage_ARR.ix[q][s] = arr\n",
    "        # number of opportunities\n",
    "        num_opps = temp.Opportunity_ID__c.count()\n",
    "        qt_stage_opp.ix[q][s] = num_opps\n",
    "\n",
    "# change data type\n",
    "qt_stage_ARR[stages[0:-1]] = qt_stage_ARR[stages[0:-1]].applymap(lambda x: np.float(x))"
   ]
  },
  {
   "cell_type": "code",
   "execution_count": 43,
   "metadata": {
    "collapsed": false,
    "deletable": true,
    "editable": true
   },
   "outputs": [
    {
     "data": {
      "text/html": [
       "<div>\n",
       "<style>\n",
       "    .dataframe thead tr:only-child th {\n",
       "        text-align: right;\n",
       "    }\n",
       "\n",
       "    .dataframe thead th {\n",
       "        text-align: left;\n",
       "    }\n",
       "\n",
       "    .dataframe tbody tr th {\n",
       "        vertical-align: top;\n",
       "    }\n",
       "</style>\n",
       "<table border=\"1\" class=\"dataframe\">\n",
       "  <thead>\n",
       "    <tr style=\"text-align: right;\">\n",
       "      <th></th>\n",
       "      <th>Prospect</th>\n",
       "      <th>Qualified</th>\n",
       "      <th>Buying Process id.</th>\n",
       "      <th>Short List</th>\n",
       "      <th>Chosen Vendor</th>\n",
       "      <th>Negotiation/Review</th>\n",
       "      <th>PO In Progress</th>\n",
       "    </tr>\n",
       "  </thead>\n",
       "  <tbody>\n",
       "    <tr>\n",
       "      <th>2017Q1</th>\n",
       "      <td>739375.74</td>\n",
       "      <td>4197747.56</td>\n",
       "      <td>9013988.72</td>\n",
       "      <td>10307890.77</td>\n",
       "      <td>3948588.93</td>\n",
       "      <td>2671527.92</td>\n",
       "      <td>0.0</td>\n",
       "    </tr>\n",
       "    <tr>\n",
       "      <th>2017Q2</th>\n",
       "      <td>1651656.46</td>\n",
       "      <td>11772525.84</td>\n",
       "      <td>12917868.66</td>\n",
       "      <td>11803447.52</td>\n",
       "      <td>4051256.84</td>\n",
       "      <td>2854551.03</td>\n",
       "      <td>18172.4</td>\n",
       "    </tr>\n",
       "    <tr>\n",
       "      <th>2017Q3</th>\n",
       "      <td>0.00</td>\n",
       "      <td>22452663.19</td>\n",
       "      <td>14455770.09</td>\n",
       "      <td>13434413.34</td>\n",
       "      <td>3622196.14</td>\n",
       "      <td>1965934.50</td>\n",
       "      <td>463773.0</td>\n",
       "    </tr>\n",
       "    <tr>\n",
       "      <th>2017Q4</th>\n",
       "      <td>0.00</td>\n",
       "      <td>0.00</td>\n",
       "      <td>0.00</td>\n",
       "      <td>0.00</td>\n",
       "      <td>0.00</td>\n",
       "      <td>0.00</td>\n",
       "      <td>0.0</td>\n",
       "    </tr>\n",
       "  </tbody>\n",
       "</table>\n",
       "</div>"
      ],
      "text/plain": [
       "          Prospect    Qualified  Buying Process id.   Short List  \\\n",
       "2017Q1   739375.74   4197747.56          9013988.72  10307890.77   \n",
       "2017Q2  1651656.46  11772525.84         12917868.66  11803447.52   \n",
       "2017Q3        0.00  22452663.19         14455770.09  13434413.34   \n",
       "2017Q4        0.00         0.00                0.00         0.00   \n",
       "\n",
       "        Chosen Vendor  Negotiation/Review  PO In Progress  \n",
       "2017Q1     3948588.93          2671527.92             0.0  \n",
       "2017Q2     4051256.84          2854551.03         18172.4  \n",
       "2017Q3     3622196.14          1965934.50        463773.0  \n",
       "2017Q4           0.00                0.00             0.0  "
      ]
     },
     "execution_count": 43,
     "metadata": {},
     "output_type": "execute_result"
    }
   ],
   "source": [
    "# ARR by QT\n",
    "qt_stage_ARR"
   ]
  },
  {
   "cell_type": "code",
   "execution_count": 44,
   "metadata": {
    "collapsed": false,
    "deletable": true,
    "editable": true
   },
   "outputs": [
    {
     "data": {
      "text/html": [
       "<div>\n",
       "<style>\n",
       "    .dataframe thead tr:only-child th {\n",
       "        text-align: right;\n",
       "    }\n",
       "\n",
       "    .dataframe thead th {\n",
       "        text-align: left;\n",
       "    }\n",
       "\n",
       "    .dataframe tbody tr th {\n",
       "        vertical-align: top;\n",
       "    }\n",
       "</style>\n",
       "<table border=\"1\" class=\"dataframe\">\n",
       "  <thead>\n",
       "    <tr style=\"text-align: right;\">\n",
       "      <th></th>\n",
       "      <th>Prospect</th>\n",
       "      <th>Qualified</th>\n",
       "      <th>Buying Process id.</th>\n",
       "      <th>Short List</th>\n",
       "      <th>Chosen Vendor</th>\n",
       "      <th>Negotiation/Review</th>\n",
       "      <th>PO In Progress</th>\n",
       "    </tr>\n",
       "  </thead>\n",
       "  <tbody>\n",
       "    <tr>\n",
       "      <th>2017Q1</th>\n",
       "      <td>118</td>\n",
       "      <td>264</td>\n",
       "      <td>93</td>\n",
       "      <td>67</td>\n",
       "      <td>26</td>\n",
       "      <td>23</td>\n",
       "      <td>6</td>\n",
       "    </tr>\n",
       "    <tr>\n",
       "      <th>2017Q2</th>\n",
       "      <td>84</td>\n",
       "      <td>336</td>\n",
       "      <td>103</td>\n",
       "      <td>68</td>\n",
       "      <td>31</td>\n",
       "      <td>18</td>\n",
       "      <td>2</td>\n",
       "    </tr>\n",
       "    <tr>\n",
       "      <th>2017Q3</th>\n",
       "      <td>0</td>\n",
       "      <td>489</td>\n",
       "      <td>91</td>\n",
       "      <td>74</td>\n",
       "      <td>28</td>\n",
       "      <td>15</td>\n",
       "      <td>5</td>\n",
       "    </tr>\n",
       "    <tr>\n",
       "      <th>2017Q4</th>\n",
       "      <td>0</td>\n",
       "      <td>0</td>\n",
       "      <td>0</td>\n",
       "      <td>0</td>\n",
       "      <td>0</td>\n",
       "      <td>0</td>\n",
       "      <td>0</td>\n",
       "    </tr>\n",
       "  </tbody>\n",
       "</table>\n",
       "</div>"
      ],
      "text/plain": [
       "       Prospect Qualified Buying Process id. Short List Chosen Vendor  \\\n",
       "2017Q1      118       264                 93         67            26   \n",
       "2017Q2       84       336                103         68            31   \n",
       "2017Q3        0       489                 91         74            28   \n",
       "2017Q4        0         0                  0          0             0   \n",
       "\n",
       "       Negotiation/Review PO In Progress  \n",
       "2017Q1                 23              6  \n",
       "2017Q2                 18              2  \n",
       "2017Q3                 15              5  \n",
       "2017Q4                  0              0  "
      ]
     },
     "execution_count": 44,
     "metadata": {},
     "output_type": "execute_result"
    }
   ],
   "source": [
    "# number of opps bt QT\n",
    "qt_stage_opp"
   ]
  },
  {
   "cell_type": "code",
   "execution_count": null,
   "metadata": {
    "collapsed": true,
    "deletable": true,
    "editable": true
   },
   "outputs": [],
   "source": [
    "'''\n",
    "    5 - Quarterly Closed Won ARR by Industry\n",
    "        Filters: Closed Won Opportunities\n",
    "'''"
   ]
  },
  {
   "cell_type": "code",
   "execution_count": 45,
   "metadata": {
    "collapsed": false,
    "deletable": true,
    "editable": true
   },
   "outputs": [
    {
     "name": "stderr",
     "output_type": "stream",
     "text": [
      "/Users/Gabi/.virtualenvs/analysis/lib/python2.7/site-packages/ipykernel/__main__.py:11: DeprecationWarning:\n",
      "\n",
      "\n",
      ".ix is deprecated. Please use\n",
      ".loc for label based indexing or\n",
      ".iloc for positional indexing\n",
      "\n",
      "See the documentation here:\n",
      "http://pandas.pydata.org/pandas-docs/stable/indexing.html#deprecate_ix\n",
      "\n"
     ]
    }
   ],
   "source": [
    "# DataFrame for Quarterly ARR by Industry for 2017 - Closed Won\n",
    "qt_ind_ARR_closed = pd.DataFrame(columns = industries, index = sorted(qt_rpt_dates.keys()))\n",
    "# only looking at closed won opportunities ARR EURO\n",
    "df_closed = df_opps[df_opps.StageName=='Closed Won']\n",
    "# build summary table for grouped industry\n",
    "for q in sorted(qt_rpt_dates.keys()):\n",
    "    for i in industries:\n",
    "        temp_ind_closed = df_closed[(df_closed.quarterClose == q) & (df_closed.grouped_industry == i)]\n",
    "        # ARR EURO\n",
    "        arr_closed = temp_ind_closed.New_ARR_EURO__c.sum()\n",
    "        qt_ind_ARR_closed.ix[q][i] = arr_closed\n",
    "\n",
    "# change data type\n",
    "qt_ind_ARR_closed = qt_ind_ARR_closed.applymap(lambda x: np.float(x))"
   ]
  },
  {
   "cell_type": "code",
   "execution_count": 46,
   "metadata": {
    "collapsed": false,
    "deletable": true,
    "editable": true
   },
   "outputs": [
    {
     "data": {
      "text/html": [
       "<div>\n",
       "<style>\n",
       "    .dataframe thead tr:only-child th {\n",
       "        text-align: right;\n",
       "    }\n",
       "\n",
       "    .dataframe thead th {\n",
       "        text-align: left;\n",
       "    }\n",
       "\n",
       "    .dataframe tbody tr th {\n",
       "        vertical-align: top;\n",
       "    }\n",
       "</style>\n",
       "<table border=\"1\" class=\"dataframe\">\n",
       "  <thead>\n",
       "    <tr style=\"text-align: right;\">\n",
       "      <th></th>\n",
       "      <th>Federal</th>\n",
       "      <th>Financial Services</th>\n",
       "      <th>Healthcare</th>\n",
       "      <th>Life Sciences</th>\n",
       "      <th>Other</th>\n",
       "      <th>Technology</th>\n",
       "    </tr>\n",
       "  </thead>\n",
       "  <tbody>\n",
       "    <tr>\n",
       "      <th>2017Q1</th>\n",
       "      <td>0.00</td>\n",
       "      <td>2,117,753.52</td>\n",
       "      <td>464,686.94</td>\n",
       "      <td>0.00</td>\n",
       "      <td>260,878.38</td>\n",
       "      <td>0.00</td>\n",
       "    </tr>\n",
       "    <tr>\n",
       "      <th>2017Q2</th>\n",
       "      <td>0.00</td>\n",
       "      <td>1,396,555.11</td>\n",
       "      <td>136,785.68</td>\n",
       "      <td>0.00</td>\n",
       "      <td>908,620.37</td>\n",
       "      <td>276,090.56</td>\n",
       "    </tr>\n",
       "    <tr>\n",
       "      <th>2017Q3</th>\n",
       "      <td>0.00</td>\n",
       "      <td>1,145,457.23</td>\n",
       "      <td>306,530.83</td>\n",
       "      <td>0.00</td>\n",
       "      <td>487,327.57</td>\n",
       "      <td>29,919.77</td>\n",
       "    </tr>\n",
       "    <tr>\n",
       "      <th>2017Q4</th>\n",
       "      <td>0.00</td>\n",
       "      <td>0.00</td>\n",
       "      <td>0.00</td>\n",
       "      <td>0.00</td>\n",
       "      <td>0.00</td>\n",
       "      <td>0.00</td>\n",
       "    </tr>\n",
       "  </tbody>\n",
       "</table>\n",
       "</div>"
      ],
      "text/plain": [
       "       Federal Financial Services  Healthcare Life Sciences       Other  \\\n",
       "2017Q1    0.00       2,117,753.52  464,686.94          0.00  260,878.38   \n",
       "2017Q2    0.00       1,396,555.11  136,785.68          0.00  908,620.37   \n",
       "2017Q3    0.00       1,145,457.23  306,530.83          0.00  487,327.57   \n",
       "2017Q4    0.00               0.00        0.00          0.00        0.00   \n",
       "\n",
       "        Technology  \n",
       "2017Q1        0.00  \n",
       "2017Q2  276,090.56  \n",
       "2017Q3   29,919.77  \n",
       "2017Q4        0.00  "
      ]
     },
     "execution_count": 46,
     "metadata": {},
     "output_type": "execute_result"
    }
   ],
   "source": [
    "# New ARR Closed Won by Industry and Quarter\n",
    "qt_ind_ARR_closed.applymap(lambda x: \"{0:,.2f}\".format(x))"
   ]
  },
  {
   "cell_type": "code",
   "execution_count": 47,
   "metadata": {
    "collapsed": true,
    "deletable": true,
    "editable": true
   },
   "outputs": [],
   "source": [
    "'''\n",
    "    6 - Quarterly Conversion Rate Averages\n",
    "        a. Stage to Stage\n",
    "        b. Stage to Closed Won\n",
    "''' \n",
    "# stage to stage conversion rates\n",
    "convrate_stages = list(df_convrates.ToStage__c.unique())\n"
   ]
  },
  {
   "cell_type": "code",
   "execution_count": 48,
   "metadata": {
    "collapsed": false,
    "deletable": true,
    "editable": true
   },
   "outputs": [
    {
     "name": "stderr",
     "output_type": "stream",
     "text": [
      "/Users/Gabi/.virtualenvs/analysis/lib/python2.7/site-packages/ipykernel/__main__.py:14: DeprecationWarning:\n",
      "\n",
      "\n",
      ".ix is deprecated. Please use\n",
      ".loc for label based indexing or\n",
      ".iloc for positional indexing\n",
      "\n",
      "See the documentation here:\n",
      "http://pandas.pydata.org/pandas-docs/stable/indexing.html#deprecate_ix\n",
      "\n"
     ]
    }
   ],
   "source": [
    "'''\n",
    "    Quarterly Conversion Rate Averages\n",
    "        a. Stage to Stage\n",
    "'''\n",
    "# DataFrame for Quarterly Conversion Rates for Stage to Stage for 2017\n",
    "qt_convrates = pd.DataFrame(index = convrate_stages, columns = sorted(qt_rpt_dates.keys()))\n",
    "\n",
    "# build summary tables for Conversion Rates for Stage to Stage\n",
    "for q in sorted(qt_rpt_dates.keys()):\n",
    "    for s in convrate_stages:\n",
    "        temp = df_convrates[(df_convrates.quarter_ToDate == q) & (df_convrates.ToStage__c == s)]\n",
    "        # Conversion rates - stage to stage\n",
    "        convrate = temp.ConversionRate__c.mean()\n",
    "        qt_convrates.ix[s][q] = convrate\n",
    "\n"
   ]
  },
  {
   "cell_type": "code",
   "execution_count": 49,
   "metadata": {
    "collapsed": false,
    "deletable": true,
    "editable": true
   },
   "outputs": [
    {
     "data": {
      "text/html": [
       "<div>\n",
       "<style>\n",
       "    .dataframe thead tr:only-child th {\n",
       "        text-align: right;\n",
       "    }\n",
       "\n",
       "    .dataframe thead th {\n",
       "        text-align: left;\n",
       "    }\n",
       "\n",
       "    .dataframe tbody tr th {\n",
       "        vertical-align: top;\n",
       "    }\n",
       "</style>\n",
       "<table border=\"1\" class=\"dataframe\">\n",
       "  <thead>\n",
       "    <tr style=\"text-align: right;\">\n",
       "      <th></th>\n",
       "      <th>2017Q1</th>\n",
       "      <th>2017Q2</th>\n",
       "      <th>2017Q3</th>\n",
       "      <th>2017Q4</th>\n",
       "    </tr>\n",
       "  </thead>\n",
       "  <tbody>\n",
       "    <tr>\n",
       "      <th>Qualified to Buying Process Id.</th>\n",
       "      <td>0.288424</td>\n",
       "      <td>0.274861</td>\n",
       "      <td>0.281871</td>\n",
       "      <td>NaN</td>\n",
       "    </tr>\n",
       "    <tr>\n",
       "      <th>Buying Process Id. to Short List</th>\n",
       "      <td>0.363671</td>\n",
       "      <td>0.38061</td>\n",
       "      <td>0.388423</td>\n",
       "      <td>NaN</td>\n",
       "    </tr>\n",
       "    <tr>\n",
       "      <th>Short List to Chosen Vendor</th>\n",
       "      <td>0.441969</td>\n",
       "      <td>0.387677</td>\n",
       "      <td>0.354626</td>\n",
       "      <td>NaN</td>\n",
       "    </tr>\n",
       "    <tr>\n",
       "      <th>Chosen Vendor to Negotiation/Review</th>\n",
       "      <td>0.648052</td>\n",
       "      <td>0.597106</td>\n",
       "      <td>0.54525</td>\n",
       "      <td>NaN</td>\n",
       "    </tr>\n",
       "    <tr>\n",
       "      <th>Negotiation/Review to PO In Progress</th>\n",
       "      <td>0.832687</td>\n",
       "      <td>0.839492</td>\n",
       "      <td>0.841866</td>\n",
       "      <td>NaN</td>\n",
       "    </tr>\n",
       "    <tr>\n",
       "      <th>PO In Progress to Closed Won</th>\n",
       "      <td>0.927646</td>\n",
       "      <td>0.926337</td>\n",
       "      <td>0.923362</td>\n",
       "      <td>NaN</td>\n",
       "    </tr>\n",
       "  </tbody>\n",
       "</table>\n",
       "</div>"
      ],
      "text/plain": [
       "                                        2017Q1    2017Q2    2017Q3 2017Q4\n",
       "Qualified to Buying Process Id.       0.288424  0.274861  0.281871    NaN\n",
       "Buying Process Id. to Short List      0.363671   0.38061  0.388423    NaN\n",
       "Short List to Chosen Vendor           0.441969  0.387677  0.354626    NaN\n",
       "Chosen Vendor to Negotiation/Review   0.648052  0.597106   0.54525    NaN\n",
       "Negotiation/Review to PO In Progress  0.832687  0.839492  0.841866    NaN\n",
       "PO In Progress to Closed Won          0.927646  0.926337  0.923362    NaN"
      ]
     },
     "execution_count": 49,
     "metadata": {},
     "output_type": "execute_result"
    }
   ],
   "source": [
    "qt_convrates"
   ]
  },
  {
   "cell_type": "code",
   "execution_count": 59,
   "metadata": {
    "collapsed": false,
    "deletable": true,
    "editable": true
   },
   "outputs": [
    {
     "name": "stderr",
     "output_type": "stream",
     "text": [
      "/Users/Gabi/.virtualenvs/analysis/lib/python2.7/site-packages/ipykernel/__main__.py:14: DeprecationWarning:\n",
      "\n",
      "\n",
      ".ix is deprecated. Please use\n",
      ".loc for label based indexing or\n",
      ".iloc for positional indexing\n",
      "\n",
      "See the documentation here:\n",
      "http://pandas.pydata.org/pandas-docs/stable/indexing.html#deprecate_ix\n",
      "\n"
     ]
    }
   ],
   "source": [
    "'''\n",
    "    5 - Quarterly Conversion Rate Averages\n",
    "        b. stage to Closed Won conversion rates\n",
    "'''\n",
    "convrates_to_closedWon = [s + ' to ClosedWon' for s in stages[1:-1]]\n",
    "# DataFrame for Quarterly Conversion Rates for Stage to Closed Won for 2017\n",
    "qt_convrates_toClosedWon = pd.DataFrame(columns = stages[1:-1], index = sorted(qt_rpt_dates.keys()))\n",
    "\n",
    "# build summary tables for Conversion Rates for Stage to Closed Won\n",
    "for q in sorted(qt_rpt_dates.keys()):\n",
    "    for i, s in enumerate(stages[1:-1]):\n",
    "        # get product for each stage to closed won\n",
    "        avg_convrate = qt_convrates[q][i:].product() \n",
    "        qt_convrates_toClosedWon.ix[q][s] = avg_convrate\n",
    "\n"
   ]
  },
  {
   "cell_type": "code",
   "execution_count": 60,
   "metadata": {
    "collapsed": false
   },
   "outputs": [
    {
     "data": {
      "text/html": [
       "<div>\n",
       "<style>\n",
       "    .dataframe thead tr:only-child th {\n",
       "        text-align: right;\n",
       "    }\n",
       "\n",
       "    .dataframe thead th {\n",
       "        text-align: left;\n",
       "    }\n",
       "\n",
       "    .dataframe tbody tr th {\n",
       "        vertical-align: top;\n",
       "    }\n",
       "</style>\n",
       "<table border=\"1\" class=\"dataframe\">\n",
       "  <thead>\n",
       "    <tr style=\"text-align: right;\">\n",
       "      <th></th>\n",
       "      <th>Qualified</th>\n",
       "      <th>Buying Process id.</th>\n",
       "      <th>Short List</th>\n",
       "      <th>Chosen Vendor</th>\n",
       "      <th>Negotiation/Review</th>\n",
       "      <th>PO In Progress</th>\n",
       "    </tr>\n",
       "  </thead>\n",
       "  <tbody>\n",
       "    <tr>\n",
       "      <th>2017Q1</th>\n",
       "      <td>0.0232063</td>\n",
       "      <td>0.0804589</td>\n",
       "      <td>0.221241</td>\n",
       "      <td>0.500581</td>\n",
       "      <td>0.772439</td>\n",
       "      <td>0.927646</td>\n",
       "    </tr>\n",
       "    <tr>\n",
       "      <th>2017Q2</th>\n",
       "      <td>0.0188321</td>\n",
       "      <td>0.0685152</td>\n",
       "      <td>0.180014</td>\n",
       "      <td>0.464341</td>\n",
       "      <td>0.777652</td>\n",
       "      <td>0.926337</td>\n",
       "    </tr>\n",
       "    <tr>\n",
       "      <th>2017Q3</th>\n",
       "      <td>0.0164564</td>\n",
       "      <td>0.0583829</td>\n",
       "      <td>0.150308</td>\n",
       "      <td>0.423849</td>\n",
       "      <td>0.777347</td>\n",
       "      <td>0.923362</td>\n",
       "    </tr>\n",
       "    <tr>\n",
       "      <th>2017Q4</th>\n",
       "      <td>NaN</td>\n",
       "      <td>NaN</td>\n",
       "      <td>NaN</td>\n",
       "      <td>NaN</td>\n",
       "      <td>NaN</td>\n",
       "      <td>NaN</td>\n",
       "    </tr>\n",
       "  </tbody>\n",
       "</table>\n",
       "</div>"
      ],
      "text/plain": [
       "        Qualified Buying Process id. Short List Chosen Vendor  \\\n",
       "2017Q1  0.0232063          0.0804589   0.221241      0.500581   \n",
       "2017Q2  0.0188321          0.0685152   0.180014      0.464341   \n",
       "2017Q3  0.0164564          0.0583829   0.150308      0.423849   \n",
       "2017Q4        NaN                NaN        NaN           NaN   \n",
       "\n",
       "       Negotiation/Review PO In Progress  \n",
       "2017Q1           0.772439       0.927646  \n",
       "2017Q2           0.777652       0.926337  \n",
       "2017Q3           0.777347       0.923362  \n",
       "2017Q4                NaN            NaN  "
      ]
     },
     "execution_count": 60,
     "metadata": {},
     "output_type": "execute_result"
    }
   ],
   "source": [
    "qt_convrates_toClosedWon"
   ]
  },
  {
   "cell_type": "code",
   "execution_count": 62,
   "metadata": {
    "collapsed": false,
    "deletable": true,
    "editable": true
   },
   "outputs": [
    {
     "data": {
      "text/plain": [
       "2017Q1           NaN\n",
       "2017Q2   -0.00437413\n",
       "2017Q3   -0.00237571\n",
       "Freq: Q-SEP, Name: Qualified, dtype: object"
      ]
     },
     "execution_count": 62,
     "metadata": {},
     "output_type": "execute_result"
    }
   ],
   "source": [
    "qt_convrates_toClosedWon[stages[1]][0:3].diff()#.apply(lambda x: \"{0:.2f}%\".format(x * 100.00))"
   ]
  },
  {
   "cell_type": "code",
   "execution_count": 63,
   "metadata": {
    "collapsed": false
   },
   "outputs": [
    {
     "data": {
      "text/html": [
       "<div>\n",
       "<style>\n",
       "    .dataframe thead tr:only-child th {\n",
       "        text-align: right;\n",
       "    }\n",
       "\n",
       "    .dataframe thead th {\n",
       "        text-align: left;\n",
       "    }\n",
       "\n",
       "    .dataframe tbody tr th {\n",
       "        vertical-align: top;\n",
       "    }\n",
       "</style>\n",
       "<table border=\"1\" class=\"dataframe\">\n",
       "  <thead>\n",
       "    <tr style=\"text-align: right;\">\n",
       "      <th></th>\n",
       "      <th>Qualified</th>\n",
       "      <th>Buying Process id.</th>\n",
       "      <th>Short List</th>\n",
       "      <th>Chosen Vendor</th>\n",
       "      <th>Negotiation/Review</th>\n",
       "      <th>PO In Progress</th>\n",
       "    </tr>\n",
       "  </thead>\n",
       "  <tbody>\n",
       "    <tr>\n",
       "      <th>2017Q1</th>\n",
       "      <td>2.32%</td>\n",
       "      <td>8.05%</td>\n",
       "      <td>22.12%</td>\n",
       "      <td>50.06%</td>\n",
       "      <td>77.24%</td>\n",
       "      <td>92.76%</td>\n",
       "    </tr>\n",
       "    <tr>\n",
       "      <th>2017Q2</th>\n",
       "      <td>1.88%</td>\n",
       "      <td>6.85%</td>\n",
       "      <td>18.00%</td>\n",
       "      <td>46.43%</td>\n",
       "      <td>77.77%</td>\n",
       "      <td>92.63%</td>\n",
       "    </tr>\n",
       "    <tr>\n",
       "      <th>2017Q3</th>\n",
       "      <td>1.65%</td>\n",
       "      <td>5.84%</td>\n",
       "      <td>15.03%</td>\n",
       "      <td>42.38%</td>\n",
       "      <td>77.73%</td>\n",
       "      <td>92.34%</td>\n",
       "    </tr>\n",
       "    <tr>\n",
       "      <th>2017Q4</th>\n",
       "      <td>nan%</td>\n",
       "      <td>nan%</td>\n",
       "      <td>nan%</td>\n",
       "      <td>nan%</td>\n",
       "      <td>nan%</td>\n",
       "      <td>nan%</td>\n",
       "    </tr>\n",
       "  </tbody>\n",
       "</table>\n",
       "</div>"
      ],
      "text/plain": [
       "       Qualified Buying Process id. Short List Chosen Vendor  \\\n",
       "2017Q1     2.32%              8.05%     22.12%        50.06%   \n",
       "2017Q2     1.88%              6.85%     18.00%        46.43%   \n",
       "2017Q3     1.65%              5.84%     15.03%        42.38%   \n",
       "2017Q4      nan%               nan%       nan%          nan%   \n",
       "\n",
       "       Negotiation/Review PO In Progress  \n",
       "2017Q1             77.24%         92.76%  \n",
       "2017Q2             77.77%         92.63%  \n",
       "2017Q3             77.73%         92.34%  \n",
       "2017Q4               nan%           nan%  "
      ]
     },
     "execution_count": 63,
     "metadata": {},
     "output_type": "execute_result"
    }
   ],
   "source": [
    "# change table formatting        \n",
    "qt_convrates_toClosedWon.applymap(lambda x: \"{0:.2f}%\".format(x * 100.00))\n",
    "#qt_convrates_toClosedWon.columns = convrates_to_closedWon"
   ]
  },
  {
   "cell_type": "markdown",
   "metadata": {
    "deletable": true,
    "editable": true
   },
   "source": [
    "### Charts using matplotlib"
   ]
  },
  {
   "cell_type": "code",
   "execution_count": 64,
   "metadata": {
    "collapsed": false,
    "deletable": true,
    "editable": true
   },
   "outputs": [
    {
     "data": {
      "text/plain": [
       "'/Users/Gabi/Documents/projects/reporting'"
      ]
     },
     "execution_count": 64,
     "metadata": {},
     "output_type": "execute_result"
    }
   ],
   "source": [
    "os.getcwd()"
   ]
  },
  {
   "cell_type": "code",
   "execution_count": 65,
   "metadata": {
    "collapsed": true,
    "deletable": true,
    "editable": true
   },
   "outputs": [],
   "source": [
    "# set image path\n",
    "img_path = os.getcwd()+ '/images/'"
   ]
  },
  {
   "cell_type": "markdown",
   "metadata": {
    "deletable": true,
    "editable": true
   },
   "source": [
    "#### 1 - ARR by Industry "
   ]
  },
  {
   "cell_type": "code",
   "execution_count": 66,
   "metadata": {
    "collapsed": false,
    "deletable": true,
    "editable": true
   },
   "outputs": [
    {
     "data": {
      "text/html": [
       "<div>\n",
       "<style>\n",
       "    .dataframe thead tr:only-child th {\n",
       "        text-align: right;\n",
       "    }\n",
       "\n",
       "    .dataframe thead th {\n",
       "        text-align: left;\n",
       "    }\n",
       "\n",
       "    .dataframe tbody tr th {\n",
       "        vertical-align: top;\n",
       "    }\n",
       "</style>\n",
       "<table border=\"1\" class=\"dataframe\">\n",
       "  <thead>\n",
       "    <tr style=\"text-align: right;\">\n",
       "      <th></th>\n",
       "      <th>Federal</th>\n",
       "      <th>Financial Services</th>\n",
       "      <th>Healthcare</th>\n",
       "      <th>Life Sciences</th>\n",
       "      <th>Other</th>\n",
       "      <th>Technology</th>\n",
       "    </tr>\n",
       "  </thead>\n",
       "  <tbody>\n",
       "    <tr>\n",
       "      <th>2017Q1</th>\n",
       "      <td>1257842.83</td>\n",
       "      <td>12027136.65</td>\n",
       "      <td>3461969.54</td>\n",
       "      <td>1292006.16</td>\n",
       "      <td>6669172.68</td>\n",
       "      <td>1233868.48</td>\n",
       "    </tr>\n",
       "    <tr>\n",
       "      <th>2017Q2</th>\n",
       "      <td>2821471.30</td>\n",
       "      <td>13028623.46</td>\n",
       "      <td>2998649.57</td>\n",
       "      <td>2022134.97</td>\n",
       "      <td>9181193.57</td>\n",
       "      <td>1593223.58</td>\n",
       "    </tr>\n",
       "    <tr>\n",
       "      <th>2017Q3</th>\n",
       "      <td>2855978.00</td>\n",
       "      <td>15348489.07</td>\n",
       "      <td>3501997.65</td>\n",
       "      <td>1196912.02</td>\n",
       "      <td>9045838.91</td>\n",
       "      <td>1992871.42</td>\n",
       "    </tr>\n",
       "    <tr>\n",
       "      <th>2017Q4</th>\n",
       "      <td>0.00</td>\n",
       "      <td>0.00</td>\n",
       "      <td>0.00</td>\n",
       "      <td>0.00</td>\n",
       "      <td>0.00</td>\n",
       "      <td>0.00</td>\n",
       "    </tr>\n",
       "  </tbody>\n",
       "</table>\n",
       "</div>"
      ],
      "text/plain": [
       "           Federal  Financial Services  Healthcare  Life Sciences       Other  \\\n",
       "2017Q1  1257842.83         12027136.65  3461969.54     1292006.16  6669172.68   \n",
       "2017Q2  2821471.30         13028623.46  2998649.57     2022134.97  9181193.57   \n",
       "2017Q3  2855978.00         15348489.07  3501997.65     1196912.02  9045838.91   \n",
       "2017Q4        0.00                0.00        0.00           0.00        0.00   \n",
       "\n",
       "        Technology  \n",
       "2017Q1  1233868.48  \n",
       "2017Q2  1593223.58  \n",
       "2017Q3  1992871.42  \n",
       "2017Q4        0.00  "
      ]
     },
     "execution_count": 66,
     "metadata": {},
     "output_type": "execute_result"
    }
   ],
   "source": [
    "qt_ind_ARR"
   ]
  },
  {
   "cell_type": "code",
   "execution_count": 67,
   "metadata": {
    "collapsed": false,
    "deletable": true,
    "editable": true
   },
   "outputs": [
    {
     "data": {
      "image/png": "[encoded data removed]",
      "text/plain": [
       "<matplotlib.figure.Figure at 0x10e3c4490>"
      ]
     },
     "metadata": {},
     "output_type": "display_data"
    }
   ],
   "source": [
    "# create ticklabel formatter - in millions\n",
    "formatter = mtick.FuncFormatter(millions)\n",
    "\n",
    "fig, ax = plt.subplots(figsize=(10,6))\n",
    "ind_arr_plt = qt_ind_ARR.plot(kind = 'bar', stacked = True, color = sns.light_palette('green',7), \n",
    "                              ax = ax, title = 'New ARR by Industry')\n",
    "ax.yaxis.set_major_formatter(formatter)\n",
    "ax.yaxis.grid(which='major', color='gray', linestyle='-', linewidth=.25)\n",
    "ax.xaxis.grid(False)\n",
    "ind_arr_plt.set_ylabel('')\n",
    "xticks = [item.get_text() for item in ind_arr_plt.get_xticklabels()]\n",
    "xticks = [i[4:6] + '-' + str(i[0:4]) for i in xticks]\n",
    "ind_arr_plt.set_xticklabels(labels= xticks, rotation = 0)\n",
    "ind_arr_plt.legend(loc =1, fancybox=True, ncol=1)\n",
    "plt.show(fig)"
   ]
  },
  {
   "cell_type": "code",
   "execution_count": 68,
   "metadata": {
    "collapsed": false,
    "deletable": true,
    "editable": true
   },
   "outputs": [
    {
     "data": {
      "text/html": [
       "<div>\n",
       "<style>\n",
       "    .dataframe thead tr:only-child th {\n",
       "        text-align: right;\n",
       "    }\n",
       "\n",
       "    .dataframe thead th {\n",
       "        text-align: left;\n",
       "    }\n",
       "\n",
       "    .dataframe tbody tr th {\n",
       "        vertical-align: top;\n",
       "    }\n",
       "</style>\n",
       "<table border=\"1\" class=\"dataframe\">\n",
       "  <thead>\n",
       "    <tr style=\"text-align: right;\">\n",
       "      <th></th>\n",
       "      <th>Seminar/Conference</th>\n",
       "      <th>Website</th>\n",
       "      <th>Content Syndication</th>\n",
       "      <th>Paid Search</th>\n",
       "      <th>Webinar</th>\n",
       "      <th>Email</th>\n",
       "      <th>Field Event</th>\n",
       "      <th>Social Media</th>\n",
       "      <th>Other</th>\n",
       "    </tr>\n",
       "  </thead>\n",
       "  <tbody>\n",
       "    <tr>\n",
       "      <th>2017Q1</th>\n",
       "      <td>230</td>\n",
       "      <td>498</td>\n",
       "      <td>790</td>\n",
       "      <td>274</td>\n",
       "      <td>278</td>\n",
       "      <td>7</td>\n",
       "      <td>35</td>\n",
       "      <td>0</td>\n",
       "      <td>5</td>\n",
       "    </tr>\n",
       "    <tr>\n",
       "      <th>2017Q2</th>\n",
       "      <td>1046</td>\n",
       "      <td>777</td>\n",
       "      <td>1164</td>\n",
       "      <td>525</td>\n",
       "      <td>679</td>\n",
       "      <td>82</td>\n",
       "      <td>60</td>\n",
       "      <td>3</td>\n",
       "      <td>11</td>\n",
       "    </tr>\n",
       "    <tr>\n",
       "      <th>2017Q3</th>\n",
       "      <td>297</td>\n",
       "      <td>780</td>\n",
       "      <td>1270</td>\n",
       "      <td>756</td>\n",
       "      <td>1120</td>\n",
       "      <td>12</td>\n",
       "      <td>13</td>\n",
       "      <td>30</td>\n",
       "      <td>1428</td>\n",
       "    </tr>\n",
       "    <tr>\n",
       "      <th>2017Q4</th>\n",
       "      <td>0</td>\n",
       "      <td>0</td>\n",
       "      <td>0</td>\n",
       "      <td>0</td>\n",
       "      <td>0</td>\n",
       "      <td>0</td>\n",
       "      <td>0</td>\n",
       "      <td>0</td>\n",
       "      <td>0</td>\n",
       "    </tr>\n",
       "  </tbody>\n",
       "</table>\n",
       "</div>"
      ],
      "text/plain": [
       "       Seminar/Conference Website Content Syndication Paid Search Webinar  \\\n",
       "2017Q1                230     498                 790         274     278   \n",
       "2017Q2               1046     777                1164         525     679   \n",
       "2017Q3                297     780                1270         756    1120   \n",
       "2017Q4                  0       0                   0           0       0   \n",
       "\n",
       "       Email Field Event Social Media Other  \n",
       "2017Q1     7          35            0     5  \n",
       "2017Q2    82          60            3    11  \n",
       "2017Q3    12          13           30  1428  \n",
       "2017Q4     0           0            0     0  "
      ]
     },
     "execution_count": 68,
     "metadata": {},
     "output_type": "execute_result"
    }
   ],
   "source": [
    "qt_leads_direct_sales"
   ]
  },
  {
   "cell_type": "markdown",
   "metadata": {
    "deletable": true,
    "editable": true
   },
   "source": [
    "#### 2 - Number of Leads by Lead Source:\n",
    "\n",
    "* a. All marketing leads\n",
    "\n",
    "* b. Direct Sales Marketing leads"
   ]
  },
  {
   "cell_type": "code",
   "execution_count": 69,
   "metadata": {
    "collapsed": false,
    "deletable": true,
    "editable": true
   },
   "outputs": [
    {
     "data": {
      "image/png": "[encoded data removed]",
      "text/plain": [
       "<matplotlib.figure.Figure at 0x10e595350>"
      ]
     },
     "metadata": {},
     "output_type": "display_data"
    }
   ],
   "source": [
    "fig, axes = plt.subplots(nrows = 2, ncols = 1, figsize= (10,12), sharey = False)\n",
    "fig.subplots_adjust(hspace=.5, wspace=.5)\n",
    "\n",
    "mk_leads_plt = qt_leads_source.plot(kind = 'bar', stacked = True, color = sns.light_palette('green',9), \n",
    "                                    ax = axes[0], title = 'Net New Marketing Sourced Leads')\n",
    "mk_salesdirected_plt = qt_leads_direct_sales.plot(kind = 'bar', stacked = True, color = sns.light_palette('green',9), \n",
    "    ax = axes[1], title = 'Direct Sales Net New Marketing Sourced Leads', legend=False)\n",
    "\n",
    "# update tick labels\n",
    "xticks = [item.get_text() for item in mk_leads_plt.get_xticklabels()]\n",
    "xticks = [i[4:6] + '-' + str(i[0:4]) for i in xticks]\n",
    "axes[0].set_xticklabels(labels= xticks, rotation = 0)\n",
    "axes[1].set_xticklabels(labels= xticks, rotation = 0)\n",
    "# update legend\n",
    "axes[0].legend(loc = 3,bbox_to_anchor=(1.0, .750), ncol=2)\n",
    "axes[1].legend(loc = 3,bbox_to_anchor=(1.0, .750), ncol=2)\n",
    "# update grid\n",
    "axes[0].yaxis.grid(which='major', color='gray', linestyle='-', linewidth=.25)\n",
    "axes[1].yaxis.grid(which='major', color='gray', linestyle='-', linewidth=.25)\n",
    "axes[0].xaxis.grid(False)\n",
    "axes[1].xaxis.grid(False)\n",
    "plt.show(fig)"
   ]
  },
  {
   "cell_type": "markdown",
   "metadata": {
    "deletable": true,
    "editable": true
   },
   "source": [
    "#### 3 - Number of SQLs - Sales Sourced vs. Marketing Sourced"
   ]
  },
  {
   "cell_type": "code",
   "execution_count": 70,
   "metadata": {
    "collapsed": false,
    "deletable": true,
    "editable": true
   },
   "outputs": [
    {
     "data": {
      "image/png": "[encoded data removed]",
      "text/plain": [
       "<matplotlib.figure.Figure at 0x1169adf50>"
      ]
     },
     "metadata": {},
     "output_type": "display_data"
    }
   ],
   "source": [
    "cols = ['dimgray','darkgreen'] \n",
    "fig, ax = plt.subplots(figsize=(10,6))\n",
    "\n",
    "sql_plt = qt_sql.plot(kind = 'bar', stacked = True, color = cols,#sns.light_palette('green',2), \n",
    "                              ax = ax, title = \"SDR Generated Opportunities 20% (SQL's)\")\n",
    "#ax.yaxis.set_major_formatter(formatter)\n",
    "ax.yaxis.grid(which='major', color='gray', linestyle='-', linewidth=.25)\n",
    "ax.xaxis.grid(False)\n",
    "sql_plt.set_ylabel('')\n",
    "xticks = [item.get_text() for item in sql_plt.get_xticklabels()]\n",
    "xticks = [i[4:6] + '-' + str(i[0:4]) for i in xticks]\n",
    "sql_plt.set_xticklabels(labels= xticks, rotation = 0)\n",
    "sql_plt.legend(loc =1, fancybox=True, ncol=1)\n",
    "plt.show(fig)"
   ]
  },
  {
   "cell_type": "markdown",
   "metadata": {
    "deletable": true,
    "editable": true
   },
   "source": [
    "#### 4 - a. Quarterly Number of Open Opportunities by Stage"
   ]
  },
  {
   "cell_type": "code",
   "execution_count": 71,
   "metadata": {
    "collapsed": false,
    "deletable": true,
    "editable": true
   },
   "outputs": [
    {
     "data": {
      "image/png": "[encoded data removed]",
      "text/plain": [
       "<matplotlib.figure.Figure at 0x10ddb8a90>"
      ]
     },
     "metadata": {},
     "output_type": "display_data"
    }
   ],
   "source": [
    "fig, ax = plt.subplots(figsize=(10,6))\n",
    "num_opps_plt = qt_stage_opp.plot(kind = 'bar', stacked = True, color = sns.light_palette('green',7), \n",
    "                            ax = ax, title = 'Open Opportunities by Fiscal Quarter')\n",
    "\n",
    "num_opps_plt.set_ylabel('')\n",
    "# change grid lines\n",
    "ax.yaxis.grid(which='major', color='gray', linestyle='-', linewidth=.25)\n",
    "ax.xaxis.grid(False)\n",
    "# change x-axis labels\n",
    "xticks = [item.get_text() for item in sql_plt.get_xticklabels()]\n",
    "num_opps_plt.set_xticklabels(labels= xticks, rotation = 0)\n",
    "num_opps_plt.legend(loc =0)\n",
    "plt.show(fig)"
   ]
  },
  {
   "cell_type": "markdown",
   "metadata": {
    "deletable": true,
    "editable": true
   },
   "source": [
    "#### 4 - b. Quarterly ARR in Open Pipeline by Stage"
   ]
  },
  {
   "cell_type": "code",
   "execution_count": 72,
   "metadata": {
    "collapsed": false,
    "deletable": true,
    "editable": true
   },
   "outputs": [
    {
     "data": {
      "image/png": "[encoded data removed]",
      "text/plain": [
       "<matplotlib.figure.Figure at 0x10fb61bd0>"
      ]
     },
     "metadata": {},
     "output_type": "display_data"
    }
   ],
   "source": [
    "# create ticklabel formatter - in millions\n",
    "formatter = mtick.FuncFormatter(millions)\n",
    "\n",
    "fig, ax = plt.subplots(figsize=(10,6))\n",
    "arr_plt = qt_stage_ARR.plot(kind = 'bar', stacked = True, color = sns.light_palette('green',7), ax = ax, title = 'Quarterly ARR (EURO) by Stage')\n",
    "ax.yaxis.set_major_formatter(formatter)\n",
    "arr_plt.set_ylabel('ARR (EURO)')\n",
    "# update tick labels\n",
    "xticks = [item.get_text() for item in arr_plt.get_xticklabels()]\n",
    "xticks = [i[4:6] + '-' + str(i[0:4]) for i in xticks]\n",
    "arr_plt.set_xticklabels(labels= xticks, rotation = 0)\n",
    "# update grid\n",
    "ax.yaxis.grid(which='major', color='gray', linestyle='-', linewidth=.25)\n",
    "ax.xaxis.grid(False)\n",
    "arr_plt.legend(loc =0)\n",
    "plt.show(fig)"
   ]
  },
  {
   "cell_type": "markdown",
   "metadata": {
    "deletable": true,
    "editable": true
   },
   "source": [
    "#### 5 - Quarterly Closed Won ARR by Industry"
   ]
  },
  {
   "cell_type": "code",
   "execution_count": 73,
   "metadata": {
    "collapsed": false,
    "deletable": true,
    "editable": true
   },
   "outputs": [
    {
     "data": {
      "text/html": [
       "<div>\n",
       "<style>\n",
       "    .dataframe thead tr:only-child th {\n",
       "        text-align: right;\n",
       "    }\n",
       "\n",
       "    .dataframe thead th {\n",
       "        text-align: left;\n",
       "    }\n",
       "\n",
       "    .dataframe tbody tr th {\n",
       "        vertical-align: top;\n",
       "    }\n",
       "</style>\n",
       "<table border=\"1\" class=\"dataframe\">\n",
       "  <thead>\n",
       "    <tr style=\"text-align: right;\">\n",
       "      <th></th>\n",
       "      <th>Federal</th>\n",
       "      <th>Financial Services</th>\n",
       "      <th>Healthcare</th>\n",
       "      <th>Life Sciences</th>\n",
       "      <th>Other</th>\n",
       "      <th>Technology</th>\n",
       "    </tr>\n",
       "  </thead>\n",
       "  <tbody>\n",
       "    <tr>\n",
       "      <th>2017Q1</th>\n",
       "      <td>0.0</td>\n",
       "      <td>2117753.52</td>\n",
       "      <td>464686.94</td>\n",
       "      <td>0.0</td>\n",
       "      <td>260878.38</td>\n",
       "      <td>0.00</td>\n",
       "    </tr>\n",
       "    <tr>\n",
       "      <th>2017Q2</th>\n",
       "      <td>0.0</td>\n",
       "      <td>1396555.11</td>\n",
       "      <td>136785.68</td>\n",
       "      <td>0.0</td>\n",
       "      <td>908620.37</td>\n",
       "      <td>276090.56</td>\n",
       "    </tr>\n",
       "    <tr>\n",
       "      <th>2017Q3</th>\n",
       "      <td>0.0</td>\n",
       "      <td>1145457.23</td>\n",
       "      <td>306530.83</td>\n",
       "      <td>0.0</td>\n",
       "      <td>487327.57</td>\n",
       "      <td>29919.77</td>\n",
       "    </tr>\n",
       "    <tr>\n",
       "      <th>2017Q4</th>\n",
       "      <td>0.0</td>\n",
       "      <td>0.00</td>\n",
       "      <td>0.00</td>\n",
       "      <td>0.0</td>\n",
       "      <td>0.00</td>\n",
       "      <td>0.00</td>\n",
       "    </tr>\n",
       "  </tbody>\n",
       "</table>\n",
       "</div>"
      ],
      "text/plain": [
       "        Federal  Financial Services  Healthcare  Life Sciences      Other  \\\n",
       "2017Q1      0.0          2117753.52   464686.94            0.0  260878.38   \n",
       "2017Q2      0.0          1396555.11   136785.68            0.0  908620.37   \n",
       "2017Q3      0.0          1145457.23   306530.83            0.0  487327.57   \n",
       "2017Q4      0.0                0.00        0.00            0.0       0.00   \n",
       "\n",
       "        Technology  \n",
       "2017Q1        0.00  \n",
       "2017Q2   276090.56  \n",
       "2017Q3    29919.77  \n",
       "2017Q4        0.00  "
      ]
     },
     "execution_count": 73,
     "metadata": {},
     "output_type": "execute_result"
    }
   ],
   "source": [
    "qt_ind_ARR_closed"
   ]
  },
  {
   "cell_type": "code",
   "execution_count": 74,
   "metadata": {
    "collapsed": false,
    "deletable": true,
    "editable": true
   },
   "outputs": [
    {
     "data": {
      "image/png": "[encoded data removed]",
      "text/plain": [
       "<matplotlib.figure.Figure at 0x1115e5f90>"
      ]
     },
     "metadata": {},
     "output_type": "display_data"
    }
   ],
   "source": [
    "# create ticklabel formatter - in millions\n",
    "formatter = mtick.FuncFormatter(millions)\n",
    "\n",
    "cols = ['lightgreen','darkgreen','green','g','palegreen','honeydew']\n",
    "#cols = ['darkgreen', 'palegreen','limegreen','green','mediumseagreen','seagreen'] \n",
    "\n",
    "fig, ax = plt.subplots(figsize=(10,6))\n",
    "arr_closed_plt = qt_ind_ARR_closed.plot(kind = 'bar', stacked = True, color = cols, ax = ax) \n",
    "ax.yaxis.set_major_formatter(formatter)\n",
    "arr_closed_plt.set_ylabel('')\n",
    "# update tick labels\n",
    "xticks = [item.get_text() for item in arr_closed_plt.get_xticklabels()]\n",
    "xticks = [i[4:6] + '-' + str(i[0:4]) for i in xticks]\n",
    "arr_closed_plt.set_xticklabels(labels= xticks, rotation = 0)\n",
    "# update grid\n",
    "ax.yaxis.grid(which='major', color='gray', linestyle='-', linewidth=.25)\n",
    "ax.xaxis.grid(False)\n",
    "arr_closed_plt.legend(loc =0)\n",
    "\n",
    "plt.savefig(img_path + 'arr_closed_plt.png', format = 'png')\n",
    "plt.show(fig)"
   ]
  }
 ],
 "metadata": {
  "kernelspec": {
   "display_name": "Python 2",
   "language": "python",
   "name": "python2"
  },
  "language_info": {
   "codemirror_mode": {
    "name": "ipython",
    "version": 2
   },
   "file_extension": ".py",
   "mimetype": "text/x-python",
   "name": "python",
   "nbconvert_exporter": "python",
   "pygments_lexer": "ipython2",
   "version": "2.7.11"
  }
 },
 "nbformat": 4,
 "nbformat_minor": 2
}
