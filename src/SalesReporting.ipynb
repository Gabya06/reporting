{
 "cells": [
  {
   "cell_type": "code",
   "execution_count": 158,
   "metadata": {
    "collapsed": false,
    "deletable": true,
    "editable": true
   },
   "outputs": [],
   "source": [
    "import os\n",
    "import numpy as np\n",
    "import pandas as pd\n",
    "from pandas.tseries.offsets import BMonthEnd\n",
    "import pymssql\n",
    "import beatbox\n",
    "import datetime as dt\n",
    "import matplotlib.pyplot as plt\n",
    "import matplotlib.ticker as mtick\n",
    "%matplotlib inline "
   ]
  },
  {
   "cell_type": "code",
   "execution_count": 595,
   "metadata": {
    "collapsed": false,
    "deletable": true,
    "editable": true
   },
   "outputs": [],
   "source": [
    "import seaborn as sns\n",
    "sns.set_style('whitegrid')\n",
    "import plotly\n",
    "import plotly.plotly as py\n",
    "import plotly.graph_objs as go\n",
    "import plotly.figure_factory as ff\n",
    "import colorlover as cl\n",
    "from IPython.display import HTML"
   ]
  },
  {
   "cell_type": "code",
   "execution_count": 3,
   "metadata": {
    "collapsed": false,
    "deletable": true,
    "editable": true
   },
   "outputs": [],
   "source": [
    "plotly.tools.set_credentials_file(username='Gabrielle.Agrocostea', api_key='Cb1kH6PHRhg7D8HyN1Bn')\n",
    "plotly.tools.set_config_file(world_readable=False, sharing='secret')"
   ]
  },
  {
   "cell_type": "code",
   "execution_count": 4,
   "metadata": {
    "collapsed": true,
    "deletable": true,
    "editable": true
   },
   "outputs": [],
   "source": [
    "def login_salesforce():\n",
    "    '''\n",
    "    \n",
    "    :return: connection to SalesForce backup database using pymssql (mssql)\n",
    "    '''\n",
    "    server = \"10.0.123.212\"\n",
    "    user = \"dbamp\"\n",
    "    password = \"ua4yCAnolhxV\"\n",
    "    conn = pymssql.connect(server, user, password, \"salesforce backups\")\n",
    "    return conn\n",
    "\n",
    "\n",
    "def get_column_headers(cursor):\n",
    "    '''\n",
    "\n",
    "    :param cursor: mySQL cursor with query that has been executed\n",
    "    :return: column headers based on query\n",
    "    '''\n",
    "    col_headers = list(cursor.description)\n",
    "    col_headers = [x[0] for x in col_headers]\n",
    "    return col_headers\n",
    "\n",
    "def get_SF_data(query_string, connection):\n",
    "    cursor = connection.cursor()\n",
    "    # Execute query to obtain opportunity data\n",
    "    cursor.execute(query_string)\n",
    "    qr_results = cursor.fetchall()\n",
    "    # get column headers\n",
    "    headers = get_column_headers(cursor)\n",
    "    # put in DataFrame\n",
    "    df = pd.DataFrame(data=qr_results, columns=headers)\n",
    "    return df\n",
    "\n",
    "# query for exchange rates\n",
    "def get_exchange_df(connection):\n",
    "    cursor = connection.cursor()\n",
    "    exchangeRates = \"select dc.ConversionRate, dc.IsoCode, dc.StartDate, dc.NextStartDate \"\n",
    "    exchangeRates += \"from dbo.DatedConversionRate dc\"\n",
    "    cursor.execute(exchangeRates)\n",
    "    rates_res = cursor.fetchall()\n",
    "    # put in DataFrame\n",
    "    rates = pd.DataFrame(data=rates_res, columns=get_column_headers(cursor))\n",
    "    return rates\n",
    "\n",
    "def get_object_fields(svc, sf_object):\n",
    "    '''\n",
    "    function to get SalesForce object fields\n",
    "    :param svc: beatbox connection\n",
    "    :param sf_object: object to get description\n",
    "    :return: list of column names\n",
    "\n",
    "    ex: obj_desc = svc.describeSObjects(\"Conversion_Rate__c\")\n",
    "    '''\n",
    "\n",
    "    obj_desc = svc.describeSObjects(sf_object)[0]\n",
    "    names = [name for name in obj_desc.fields]\n",
    "    return names\n",
    "\n",
    "def get_opportunity_df(connection):\n",
    "    '''\n",
    "    Function used to query opportunity data for opportunity snapshots\n",
    "    Query all new & existing opportunities, join with User table\n",
    "    :param connection: pymysql open connection to SalesForce\n",
    "    :return: DataFrame with opportunity & owner data\n",
    "    '''\n",
    "    q = \"SELECT o.Services_Total__c, o.CreatedDate as Created_Date__c, Maintenance_ARR_Delta__c, o.ARR_Delta__c, \"\n",
    "    q += \"u.Name as Opportunity_Owner__c, Account_Industry__c as Industry__c, a.Name as Account_Name__c, \"\n",
    "    q += \"o.Id as Opportunity_ID__c, o.Cloud_Total__c, o.Probability as Probability__c, o.CurrencyIsoCode, \"\n",
    "    q += \"o.Subscription_Total__c, o.Maintenance_Total__c, o.StageName as Stage__c, o.Amount as Amount__c, \"\n",
    "    q += \"NextStep Next_Step__c, o.Name as Opportunity_Name__c, \"\n",
    "    q += \"Subscription_ARR_Delta__c, Cloud_ARR_Delta__c, o.Type as Type__c, \"\n",
    "    q += \"o.CloseDate as Close_Date__c, o.Previous_Stage__c as Prev_Stage__c, o.Region__c, \"\n",
    "    q += \"u1.Name as Created_By__c, License_Total__c, o.Date_Opp_Moved_40__c  \"\n",
    "    q += \"from dbo.Opportunity o \"\n",
    "    q += \"join dbo.[User] u \"\n",
    "    q += \"on o.OwnerId = u.Id \"\n",
    "    q += \"join dbo.Account a \"\n",
    "    q += \"on o.AccountId = a.Id \"\n",
    "    q += \"join dbo.[User] u1 \"\n",
    "    q += \"on o.CreatedById = u1.Id \"\n",
    "    q += \"where o.Type in ('New Business','Existing Business');\"\n",
    "    cursor = connection.cursor()\n",
    "    # Execute query to obtain opportunity data\n",
    "    cursor.execute(q)\n",
    "    qr_res = cursor.fetchall()\n",
    "    # get column headers\n",
    "    headers = get_column_headers(cursor)\n",
    "    # put in DataFrame\n",
    "    df = pd.DataFrame(data=qr_res, columns=headers)\n",
    "    return df\n",
    "\n",
    "\n",
    "## TODO: merge based on startdate and enddate\n",
    "def lookup_rates(cur, close_date, rates_df, rates_dict):\n",
    "    from datetime import datetime as dt\n",
    "    '''\n",
    "    Function to lookup exchange rates, based on currency code & close date\n",
    "    Need to pass in latest exchange rates (rates_df) and current rates (rates_dict)\n",
    "        If opportunity close date is in current month or in the future, use current rates\n",
    "        Else: use past currency rates\n",
    "\n",
    "    :param cur: currency, string ('USD','GBP')\n",
    "    :param close_date: datetime.date. Close date of opportunity\n",
    "    :param rates_df: DataFrame with exchange rates (past rates)\n",
    "    :param rates_dict: dictionary with today's rates {IsoCode: exchange rate}\n",
    "    :return: exchange rate\n",
    "    '''\n",
    "    today = dt.today().date()\n",
    "    offset = BMonthEnd()\n",
    "    first_day = offset.rollback(today).date()\n",
    "    last_day = offset.rollforward(today).date()\n",
    "\n",
    "    # EUR is always 1.0\n",
    "    if cur == 'EUR':\n",
    "        return 1.0\n",
    "    # if close date is in future: use current rates\n",
    "    elif close_date > today:\n",
    "        return float(rates_dict['ConversionRate'][cur])\n",
    "    # if close date is in past:\n",
    "        # find rate where the date is in between startdate & next start date\n",
    "        # or use present rate\n",
    "    elif close_date < today:\n",
    "        rate = rates_df[(rates_df.IsoCode ==cur)&(rates_df.NextStartDate > close_date) & (rates_df.StartDate <= close_date)].ConversionRate\n",
    "        if len(rate) ==0:\n",
    "            return float(rates_dict['ConversionRate'][cur])\n",
    "        else:\n",
    "            return float(rate)\n",
    "\n",
    "def opp_age(stage, createdDate, closeDate):\n",
    "    '''\n",
    "    Function to calculate the age of an opportunity\n",
    "        If opp is closed, age = closed date - created date\n",
    "        Else: age = today - created date\n",
    "    :param stage: str, StageName\n",
    "    :param createdDate: datetime\n",
    "    :param closeDate: datetime\n",
    "    :return: integer\n",
    "    '''\n",
    "    closed = 'Closed' in stage\n",
    "    if closed:\n",
    "        age = closeDate - createdDate\n",
    "    else:\n",
    "        age = dt.today().date() - createdDate\n",
    "    return age.days\n",
    "\n",
    "def query_data_bb(svc, query_string):\n",
    "    \"\"\"\n",
    "    Function using BeatBox to query data and return results for any query\n",
    "\n",
    "    :param svc: beatbox connection\n",
    "    :param query_string: query string\n",
    "    :return: list with data\n",
    "    \"\"\"\n",
    "    record_list = []\n",
    "\n",
    "    query_res = svc.query(query_string)\n",
    "    record_list += query_res['records']\n",
    "\n",
    "    # if need to get more records\n",
    "    while not query_res.done:\n",
    "        print \" ******** FETCHING MORE DATAS ********\"\n",
    "        query_res = svc.queryMore(query_res.queryLocator)\n",
    "        record_list += query_res\n",
    "    # df = pd.DataFrame(data=record_list)\n",
    "    # df.columns = df.columns.map(lambda x: x.replace(\"__c\", \"\").replace(\"_\", \"\"))\n",
    "\n",
    "    return record_list\n",
    "\n",
    "def millions(x, pos):\n",
    "    'The two args are the value and tick position'\n",
    "    # use like this in matplotlib\n",
    "    # formatter = FuncFormatter(millions)\n",
    "#    return '€%1.1fM' % (x*1e-6)\n",
    "    return '%1.1fM' % (x*1e-6)\n",
    "\n"
   ]
  },
  {
   "cell_type": "code",
   "execution_count": 258,
   "metadata": {
    "collapsed": true,
    "deletable": true,
    "editable": true
   },
   "outputs": [],
   "source": [
    "stages = ['Prospect', 'Qualified', 'Buying Process id.', 'Short List', 'Chosen Vendor', 'Negotiation/Review',\n",
    "          'PO In Progress', 'Closed Won']\n",
    "lost = ['Closed Deferred', 'Closed Lost']\n",
    "# open stages\n",
    "stages_open = list(set(stages) - set(lost) - set(['Closed Won']))\n",
    "\n",
    "not_pipeline = ['Qualified','Qualification','Prospect','Re-Qualify']\n",
    "\n",
    "# dict to order stages\n",
    "stage_order = dict(zip(stages, xrange(0, len(stages))))\n",
    "\n",
    "industry_map = {\n",
    "    \"Asset Management\": \"Financial Services\",\n",
    "    \"Banking\": \"Financial Services\",\n",
    "    \"Insurance\": \"Financial Services\",\n",
    "    \"Financial Services: Other\": \"Financial Services\",\n",
    "    \"Healthcare Payer\": \"Healthcare\",\n",
    "    \"Healthcare Provider\": \"Healthcare\",\n",
    "    \"Healthcare Payer and Provider\": \"Healthcare\",\n",
    "    \"Technology\": \"Technology\",\n",
    "    \"Government: Federal\": \"Federal\",\n",
    "    \"Government\": \"Federal\",\n",
    "    \"Government: State and Local\": \"Federal\",\n",
    "    \"Life Sciences\": \"Life Sciences\"}\n",
    "\n",
    "\n",
    "# reporting dates for board reports - when opportunity Snapshot was run\n",
    "rpt_dates_1 = ['10-15-2015','1-14-2016','4-14-2016','7-14-2016','10-14-2016','1-13-2017','4-14-2017','7-14-2017']\n",
    "rpt_dates_1 = [pd.to_datetime(x) for x in rpt_dates_1]\n",
    "rpt_dates_1 = [x.date() for x in rpt_dates_1]\n",
    "rpt_dates_2 =['10-1-2015','11-5-2015','12-3-2015','1-7-2016','2-4-2016','3-3-2016','4-7-2016','5-5-2016','6-2-2016',\n",
    "             '7-7-2016','8-5-2016','9-2-2016','10-7-2016','11-4-2016','12-2-2016','1-6-2017','2-3-2017','3-3-2017','4-7-2017',\n",
    "             '5-5-2017','6-2-2017','7-7-2017','8-4-2017','9-1-2017']\n",
    "rpt_dates_2 = [pd.to_datetime(x) for x in rpt_dates_2]\n",
    "rpt_dates_2 = [x.date() for x in rpt_dates_2]\n",
    "\n",
    "# dictionary with quarterly reporting dates\n",
    "qt_rpt_dates = {\n",
    "    pd.Period('2017Q1', freq = 'Q-SEP'):pd.to_datetime('2016-10-14').date(),\n",
    "    pd.Period('2017Q2', freq = 'Q-SEP'):pd.to_datetime('2017-01-13').date(),\n",
    "    pd.Period('2017Q3', freq = 'Q-SEP'):pd.to_datetime('2017-04-14').date(),\n",
    "    pd.Period('2017Q4', freq = 'Q-SEP'):pd.to_datetime('2017-07-14').date()\n",
    "}\n",
    "\n",
    "qt_start_end_dates = {\n",
    "    pd.Period('2017Q1', freq = 'Q-SEP'): [pd.to_datetime('2016-10-01').date(), pd.to_datetime('2016-12-31').date()],\n",
    "    pd.Period('2017Q2', freq = 'Q-SEP'): [pd.to_datetime('2017-01-01').date(), pd.to_datetime('2017-03-31').date()],\n",
    "    pd.Period('2017Q3', freq = 'Q-SEP'): [pd.to_datetime('2017-04-01').date(), pd.to_datetime('2017-06-30').date()],\n",
    "    pd.Period('2017Q4', freq = 'Q-SEP'): [pd.to_datetime('2017-07-01').date(), pd.to_datetime('2017-09-30').date()]\n",
    "}\n",
    "\n",
    "\n",
    "\n",
    "# Field Event - leave as is bc John didnt update in SF per Marketing request to leave as is\n",
    "lead_mapping = {'Rep List': 'Sales Rep',\n",
    "                'Rep Sourced Social': 'SDR'}  #, 'Field Event':'Collibra Event'}\n",
    "\n",
    "# Sales and Marketing sources\n",
    "lead_source_mapping ={\n",
    "    'Advertisement': 'Marketing', # this shouldnt be used anymore - old\n",
    "    'Content Syndication': 'Marketing',\n",
    "    'Direct Mail': 'Marketing',\n",
    "    'Email': 'Marketing',\n",
    "    'Field Event' : 'Marketing',\n",
    "    'Paid Search': 'Marketing',\n",
    "    'RainKing':'Marketing', # this shouldnt be used anymore - old\n",
    "    'Seminar/Conference': 'Marketing',\n",
    "    'Social Media': 'Marketing',\n",
    "    'TechTarget': 'Marketing',\n",
    "    'Webinar': 'Marketing',\n",
    "    'Website': 'Marketing',\n",
    "    'Database': 'Sales',  # this shouldnt be used anymore - old\n",
    "    'External Referral': 'Sales', # this shouldnt be used anymore - old\n",
    "    'Jigsaw': 'Sales',  # this shouldnt be used anymore - old\n",
    "    'Partner': 'Sales',\n",
    "    'Other': 'Sales', # this shouldnt be used anymore - old\n",
    "    'Sales Operations':'Sales',\n",
    "    'Sales Rep':'Sales',\n",
    "    'SDR':'Sales',\n",
    "    'University':'tbd'}\n",
    "\n",
    "# these are the marketing sources - anything else is other\n",
    "marketing_sources = ['Seminar/Conference', 'Website','Content Syndication', 'Paid Search',\n",
    "                     'Webinar','Email','Field Event','Social Media']"
   ]
  },
  {
   "cell_type": "code",
   "execution_count": 6,
   "metadata": {
    "collapsed": true,
    "deletable": true,
    "editable": true
   },
   "outputs": [],
   "source": [
    "project_path = '/Users/Gabi/Documents/projects/reporting/'\n",
    "data_path = '/Users/Gabi/Documents/projects/reporting/data'"
   ]
  },
  {
   "cell_type": "code",
   "execution_count": 7,
   "metadata": {
    "collapsed": true,
    "deletable": true,
    "editable": true
   },
   "outputs": [],
   "source": [
    "os.chdir(project_path)"
   ]
  },
  {
   "cell_type": "code",
   "execution_count": 949,
   "metadata": {
    "collapsed": false,
    "deletable": true,
    "editable": true
   },
   "outputs": [],
   "source": [
    "# connect to SalesForce\n",
    "conn_SF = login_salesforce()"
   ]
  },
  {
   "cell_type": "code",
   "execution_count": 9,
   "metadata": {
    "collapsed": true,
    "deletable": true,
    "editable": true
   },
   "outputs": [],
   "source": [
    "'''\n",
    "    1 - Opportunity Snapshot Data: New and Existing Business Open Opportunities (Not Closed/Not won)\n",
    "    Objects used: Opportunitiy Snapshot\n",
    "'''\n",
    "\n",
    "q_snap = \"Select o.Report_Date__c, o.Stage__c, o.Amount__c, ARR_Delta_EURO__c, o.Type__c, o.Close_Date__c, o.Industry__c, \"\n",
    "q_snap += \"Created_Date__c, CurrencyIsoCode, Date_Opp_Moved_40__c, Opportunity_ID__c \"\n",
    "q_snap += \"from dbo.Opportunity_Snapshot__c o \"\n",
    "q_snap += \"where o.Type__c in ('New Business','Existing Business') \"\n",
    "q_snap += \"and o.Stage__c not in ('Closed Won','Closed Lost','Closed Deferred','Re-Qualify');\"\n",
    "\n",
    "# get Opportunity Snapshot - SF backup data\n",
    "df_snap = get_SF_data(connection=conn_SF, query_string=q_snap)"
   ]
  },
  {
   "cell_type": "code",
   "execution_count": 574,
   "metadata": {
    "collapsed": false,
    "deletable": true,
    "editable": true
   },
   "outputs": [],
   "source": [
    "'''\n",
    "    2 - Lead Data: Sales Sourced Leads & Marketing Sourced Leads\n",
    "    Objects used:  Lead\n",
    "'''\n",
    "# get Lead data - SF backup data\n",
    "q_leads =  \"select l.leadSource, l.CreatedDate, l.title_Score__c, l.Managed_By__c from dbo.Lead as l\"\n",
    "\n",
    "# run query for Lead Data\n",
    "df_leads = get_SF_data(connection=conn_SF, query_string=q_leads)\n",
    "\n",
    "# get Marketing Sourced Lead Data - replicate of: Board Reporting: Marketing Sourced Leads\n",
    "q_marketing = \"select l.leadSource, l.CreatedDate, l.title_Score__c, l.Managed_By__c from dbo.Lead as l \"\n",
    "q_marketing += \"where l.leadSource not in ('Partner','Rep List','Sales Rep','External Referral','Rep Sourced Social','SDR','Sales Operations') \"\n",
    "q_marketing += \"and l.leadSource <> '';\"\n",
    "\n",
    "# run query for Marketing Sourced Lead Data\n",
    "df_mk = get_SF_data(connection=conn_SF, query_string=q_marketing)\n",
    "\n",
    "\n",
    "# get Sales Sourced Lead Data - replicate of: Board Reporting: Sales Sourced Leads\n",
    "q_sales = \"select l.leadSource, l.CreatedDate, l.title_Score__c, l.Managed_By__c from dbo.Lead as l \"\n",
    "q_sales += \"where l.leadSource in ('Partner','Rep List','Sales Rep','External Referral','Rep Sourced Social','SDR','Sales Operations') \"\n",
    "q_sales += \"and l.leadSource <> '';\"\n",
    "\n",
    "# run query for Sourced Lead Data\n",
    "df_sales = get_SF_data(connection=conn_SF, query_string=q_sales)\n"
   ]
  },
  {
   "cell_type": "code",
   "execution_count": 292,
   "metadata": {
    "collapsed": true,
    "deletable": true,
    "editable": true
   },
   "outputs": [],
   "source": [
    "'''\n",
    "    3 - Pipeline Generation - Leads created by SDR's with opportunities attached\n",
    "    Objects used: Task, Opportunities, User\n",
    "    *** Leadsource may need to be updated - this uses Opportunity Lead Source, the board report uses Contact Role Lead Source\n",
    "'''\n",
    "\n",
    "q_pipe = \"select u1.Name as CreatedBy, u2.Name as AccountOwner, t.ActivityDate as StartDate, \"\n",
    "q_pipe += \"o.Name as OpportunityName,  t.AccountId, t.Attach_to_an_Existing_Opportunity__c, o.Id as OpportunityId, \"\n",
    "q_pipe += \"o.LeadSource, o.Type, o.StageName, o.New_ARR__c, o.CreatedDate, o.CloseDate \"\n",
    "q_pipe += \"from dbo.Task as t \"\n",
    "q_pipe += \"inner join dbo.Opportunity as o \"\n",
    "q_pipe += \"on o.Id = t.WhatID \"\n",
    "q_pipe += \"inner join dbo.[User] as u1 \"\n",
    "q_pipe += \"on t.CreatedById = u1.Id  \" #--SDR Created\n",
    "q_pipe += \"inner join dbo.[User] as u2 \"\n",
    "q_pipe += \"on o.OwnerId = u2.Id \" #-- Acct Owner\n",
    "q_pipe += \"where t.Type = 'Product Intro' \"  # API name hasnt changed to discovery call\n",
    "q_pipe += \"and t.Created_by_Division__c = 'SDR' \"\n",
    "q_pipe += \"and o.Name != '' \"\n",
    "q_pipe += \"and t.Status != 'Deferred' \"\n",
    "q_pipe += \"and t.ActivityDate >='2016-04-01' \"\n",
    "q_pipe += \"and t.ActivityDate <= GetDate(); \"\n",
    "\n",
    "# get Pipeline Generation data - SF backup data\n",
    "df_pipe = get_SF_data(connection=conn_SF, query_string=q_pipe)"
   ]
  },
  {
   "cell_type": "code",
   "execution_count": 950,
   "metadata": {
    "collapsed": true,
    "deletable": true,
    "editable": true
   },
   "outputs": [],
   "source": [
    "'''\n",
    "    4) Opportunity Data - New and Exisiting Opportunities\n",
    "    Objects used: Opportunity, User\n",
    "'''\n",
    "\n",
    "q_opps = \"select u1.Name as AccountOwner, o.Name as OpportunityName, o.Id as OpportunityId, o.Account_Industry__c, \"\n",
    "q_opps += \"o.LeadSource, o.Type, o.StageName, o.New_ARR__c, o.New_ARR_EURO__c,o.CreatedDate, o.CloseDate \"\n",
    "q_opps += \"from dbo.Opportunity as o \"\n",
    "q_opps += \"inner join dbo.[User] as u1 \"\n",
    "q_opps += \"on o.OwnerId = u1.Id \" #-- Acct Owner\n",
    "q_opps += \" where o.Type in ('New Business','Existing Business')\"\n",
    "\n",
    "# get Pipeline Generation data - SF backup data\n",
    "df_opps = get_SF_data(connection=conn_SF, query_string=q_opps)"
   ]
  },
  {
   "cell_type": "code",
   "execution_count": 696,
   "metadata": {
    "collapsed": false,
    "deletable": true,
    "editable": true
   },
   "outputs": [],
   "source": [
    "'''\n",
    "    5) Conversion Rates Data - New Business\n",
    "    Objects used: Conversion Rate\n",
    "'''\n",
    "\n",
    "# q_convrates = \"select * from dbo.Conversion_Rate__c\"\n",
    "\n",
    "q_convrates = \"select cv.FromDate__c, cv.ToDate__c, cv.FromStage__c, cv.ConversionRate__c, \"\n",
    "q_convrates += \"cv.Numerator__c, cv.Denominator__c, cv.ToStage__c, cv.ReportDate__c \"\n",
    "q_convrates += \"from dbo.Conversion_Rate__c as cv;\"\n",
    "\n",
    "# get Pipeline Generation data - SF backup data\n",
    "df_convrates = get_SF_data(connection=conn_SF, query_string=q_convrates)"
   ]
  },
  {
   "cell_type": "code",
   "execution_count": 857,
   "metadata": {
    "collapsed": true
   },
   "outputs": [],
   "source": [
    "''' ################## DONT NEED THIS!! ##################\n",
    "    6 - Opportunity Snapshot Data: New and Existing Business Open Opportunities Closed Won\n",
    "    Objects used: Opportunitiy Snapshot\n",
    "'''\n",
    "\n",
    "q_snap_closed = \"Select o.Report_Date__c, o.Stage__c, o.Amount__c, ARR_Delta_EURO__c, o.Type__c, o.Close_Date__c, o.Industry__c, \"\n",
    "q_snap_closed += \"Created_Date__c, CurrencyIsoCode, Date_Opp_Moved_40__c, Opportunity_ID__c \"\n",
    "q_snap_closed += \"from dbo.Opportunity_Snapshot__c o \"\n",
    "q_snap_closed += \"where o.Type__c in ('New Business','Existing Business') \"\n",
    "q_snap_closed += \"and o.Stage__c = 'Closed Won';\"\n",
    "\n",
    "# get Opportunity Snapshot - SF backup data\n",
    "df_snap_closed = get_SF_data(connection=conn_SF, query_string=q_snap_closed)"
   ]
  },
  {
   "cell_type": "code",
   "execution_count": 699,
   "metadata": {
    "collapsed": true
   },
   "outputs": [],
   "source": [
    "# close connection to SalesForce\n",
    "conn_SF.close()"
   ]
  },
  {
   "cell_type": "markdown",
   "metadata": {
    "deletable": true,
    "editable": true
   },
   "source": [
    "### Opportunity Snapshot Data Cleaning and Pre-processing:\n",
    "* Clean industry\n",
    "* Include snapshots dates from Board report\n",
    "* add Fiscal Year\n",
    "\n",
    "#### Filters: \n",
    "* Exclude Closed Won, Closed Lost/Deferred, Re-Qualify"
   ]
  },
  {
   "cell_type": "code",
   "execution_count": 14,
   "metadata": {
    "collapsed": true,
    "deletable": true,
    "editable": true
   },
   "outputs": [],
   "source": [
    "'''\n",
    "    1 - Opportunity Snapshot Data Pre-processing:\n",
    "        Clean industry, include snapshots dates from Board report, add Fiscal Year\n",
    "        Filters: Exclude Closed Won, Closed Lost/Deferred, Re-Qualify\n",
    "'''\n",
    "# clean up industry\n",
    "df_snap['grouped_industry'] = df_snap.Industry__c.map(lambda  x: industry_map.get(x,'Other'))\n",
    "# clean up date columns\n",
    "date_cols = ['Created_Date__c', 'Close_Date__c','Report_Date__c']\n",
    "df_snap[date_cols] = df_snap[date_cols].applymap(lambda x: np.datetime64(x))\n",
    "\n",
    "# clean up numeric columns\n",
    "numeric_cols = ['Amount__c','ARR_Delta_EURO__c']\n",
    "df_snap[numeric_cols] = df_snap[numeric_cols].fillna(0.0)\n",
    "df_snap[numeric_cols] = df_snap[numeric_cols].applymap(lambda x: np.float(x))\n",
    "\n",
    "# create periods\n",
    "monthly_periods = pd.period_range(df_snap.Report_Date__c.min(),df_snap.Report_Date__c.max(), freq='M')\n",
    "quarter_periods = pd.period_range(df_snap.Report_Date__c.min(),df_snap.Report_Date__c.max(), freq='Q-SEP')\n",
    "# add in Fiscal Quarter and Month\n",
    "df_snap['quarter'] = df_snap.Report_Date__c.dt.to_period('Q-SEP')\n",
    "df_snap['month'] = df_snap.Report_Date__c.dt.to_period('M')\n",
    "\n",
    "# Filter out Closed Won, Closed Lost and Closed Deferred\n",
    "df_snap = df_snap[~(df_snap.Stage__c.isin(['Closed Won','Closed Lost','Closed Deferred']))]\n",
    "# Clean up old stage data\n",
    "df_snap.Stage__c.replace('Qualification', 'Qualified', inplace = True)\n",
    "df_snap = df_snap[df_snap.Stage__c != 'Re-Qualify']\n",
    "\n",
    "rpt_dates_1 = ['10-15-2015','1-14-2016','4-14-2016','7-14-2016','10-14-2016','1-13-2017','4-14-2017','7-14-2017']\n",
    "rpt_dates_1 = [pd.to_datetime(x) for x in rpt_dates_1]\n",
    "rpt_dates_1 = [x.date() for x in rpt_dates_1]\n",
    "rpt_dates_2 =['10-1-2015','11-5-2015','12-3-2015','1-7-2016','2-4-2016','3-3-2016','4-7-2016','5-5-2016','6-2-2016',\n",
    "             '7-7-2016','8-5-2016','9-2-2016','10-7-2016','11-4-2016','12-2-2016','1-6-2017','2-3-2017','3-3-2017','4-7-2017',\n",
    "             '5-5-2017','6-2-2017','7-7-2017','8-4-2017','9-1-2017']\n",
    "rpt_dates_2 = [pd.to_datetime(x) for x in rpt_dates_2]\n",
    "rpt_dates_2 = [x.date() for x in rpt_dates_2]\n",
    "# Filter out dates\n",
    "df_snap = df_snap[(df_snap.Report_Date__c.isin(rpt_dates_1)) | (df_snap.Report_Date__c.isin(rpt_dates_2))]\n",
    "# add order for stage sorting\n",
    "df_snap['stage_order'] = df_snap.Stage__c.map(lambda x : stage_order.get(x))\n",
    "\n"
   ]
  },
  {
   "cell_type": "markdown",
   "metadata": {
    "deletable": true,
    "editable": true
   },
   "source": [
    "### Lead Data Cleaning and Pre-processing:\n",
    "* Add in Fiscal Quarter and Year\n",
    "* Clean up Marketing Sources\n",
    "* Clean up lead sources (based on recent updates made by Erica)\n",
    "* Split up leads: Sales, Reseller"
   ]
  },
  {
   "cell_type": "code",
   "execution_count": 529,
   "metadata": {
    "collapsed": false,
    "deletable": true,
    "editable": true
   },
   "outputs": [],
   "source": [
    "'''\n",
    "    2 - Lead Data Pre-processing:\n",
    "        Clean up Marketing Lead Data\n",
    "        Clean up Sales Lead Data        \n",
    "'''\n",
    "# clean up Created date\n",
    "df_leads.CreatedDate = df_leads.CreatedDate.map(lambda x: np.datetime64(x))\n",
    "# add in Fiscal Quarter and Month based on Created Date\n",
    "df_leads['quarter'] = df_leads.CreatedDate.dt.to_period('Q-SEP')\n",
    "df_leads['month'] = df_leads.CreatedDate.dt.to_period('M')\n",
    "\n",
    "df_leads['source'] = df_leads.leadSource.map(lambda x: lead_source_mapping.get(x,'Old'))\n",
    "# this is the updated lead sources based on updates made by Erica\n",
    "df_leads['updated_leadSource'] = df_leads.leadSource\n",
    "df_leads.updated_leadSource = df_leads.updated_leadSource.replace({'Rep List':'Sales Rep',\n",
    "                                    'Rep Sourced Social':'SDR'} , axis=0) # ,'Field Event':'Collibra Event'}, axis=0)\n",
    "# add lead source - Marketing, Sales, Other\n",
    "df_leads['lead_source'] = df_leads.updated_leadSource.map(lambda x: lead_source_mapping.get(x))"
   ]
  },
  {
   "cell_type": "code",
   "execution_count": 122,
   "metadata": {
    "collapsed": true,
    "deletable": true,
    "editable": true
   },
   "outputs": [],
   "source": [
    "# Sales Sourced Leads - Direct Sales\n",
    "sales_leads = df_leads[df_leads.Managed_By__c=='Direct Sales']\n",
    "# Sales Sourced Leads - Reseller\n",
    "reseller_leads = df_leads[df_leads.Managed_By__c=='Reseller']\n",
    "# Sales Sourced Leads - Partner Org\n",
    "partner_leads = df_leads[df_leads.Managed_By__c=='Partner Org']\n",
    "# Sales Sourced Leads - Unmanaged\n",
    "unmanaged_leads = df_leads[df_leads.Managed_By__c=='Unmanaged']"
   ]
  },
  {
   "cell_type": "code",
   "execution_count": 575,
   "metadata": {
    "collapsed": false
   },
   "outputs": [],
   "source": [
    "'''\n",
    "    Clean up Marketing Lead Data\n",
    "    Note: leads with sources 'Database', 'Jigsaw', 'Other' are counting in Marketing - should these be Sales?\n",
    "'''\n",
    "# clean up Created date\n",
    "df_mk.CreatedDate = df_mk.CreatedDate.map(lambda x: np.datetime64(x))\n",
    "# add in Fiscal Quarter and Month based on Created Date\n",
    "df_mk['quarter'] = df_mk.CreatedDate.dt.to_period('Q-SEP')\n",
    "df_mk['month'] = df_mk.CreatedDate.dt.to_period('M')\n",
    "\n",
    "# this is the updated lead sources based on updates made by Erica\n",
    "df_mk['updated_leadSource'] = df_mk.leadSource\n"
   ]
  },
  {
   "cell_type": "code",
   "execution_count": 576,
   "metadata": {
    "collapsed": false
   },
   "outputs": [],
   "source": [
    "'''\n",
    "    Clean up Sales Lead Data\n",
    "    Note: leads with sources 'Database', 'Jigsaw', 'Other' are counting in Marketing - should these be Sales?\n",
    "'''\n",
    "# clean up Created date\n",
    "df_sales.CreatedDate = df_sales.CreatedDate.map(lambda x: np.datetime64(x))\n",
    "# add in Fiscal Quarter and Month based on Created Date\n",
    "df_sales['quarter'] = df_sales.CreatedDate.dt.to_period('Q-SEP')\n",
    "df_sales['month'] = df_sales.CreatedDate.dt.to_period('M')\n",
    "\n",
    "# this is the updated lead sources based on updates made by Erica\n",
    "df_sales['updated_leadSource'] = df_sales.leadSource\n",
    "df_sales.updated_leadSource = df_sales.updated_leadSource.replace({'Rep List':'Sales Rep',\n",
    "                                    'Rep Sourced Social':'SDR'} , axis=0) # ,'Field Event':'Collibra Event'}, axis=0)\n"
   ]
  },
  {
   "cell_type": "markdown",
   "metadata": {
    "deletable": true,
    "editable": true
   },
   "source": [
    "### Pipeline Data Cleaning and Pre-processing:\n",
    "** THIS DATA USES ORIGINAL LEAD SOURCE ON OPPORTUNITY --> SHOULD THIS BE ON THE PRIMARY CONTACT ROLE? \n",
    "* Add in Fiscal Quarter and Year for closed date"
   ]
  },
  {
   "cell_type": "code",
   "execution_count": 294,
   "metadata": {
    "collapsed": false,
    "deletable": true,
    "editable": true
   },
   "outputs": [],
   "source": [
    "'''\n",
    "    3 - Pipeline Data Cleaning and Pre-processing:\n",
    "        *** Map Lead Sources - these are based on Opportunity lead sources and not contact role ***\n",
    "'''\n",
    "\n",
    "# clean up date columns\n",
    "date_cols = ['StartDate', 'CreatedDate','CloseDate']\n",
    "df_pipe[date_cols] = df_pipe[date_cols].applymap(lambda x: np.datetime64(x))\n",
    "# add in fiscal quarter for close date on opportunity\n",
    "df_pipe['quarterClose'] = df_pipe.CloseDate.dt.to_period('Q-SEP')\n",
    "# add in fiscal quarter for created date on opportunity\n",
    "df_pipe['quarter'] = df_pipe.CreatedDate.dt.to_period('Q-SEP')\n",
    "# add in fiscal quarter for Start date on task\n",
    "df_pipe['quarterStart'] = df_pipe.StartDate.dt.to_period('Q-SEP')\n",
    "\n",
    "# add lead source - Marketing, Sales\n",
    "df_pipe['lead_source'] = df_pipe.LeadSource.map(lambda x: lead_source_mapping.get(x))"
   ]
  },
  {
   "cell_type": "code",
   "execution_count": 320,
   "metadata": {
    "collapsed": false
   },
   "outputs": [
    {
     "data": {
      "text/html": [
       "<div>\n",
       "<style>\n",
       "    .dataframe thead tr:only-child th {\n",
       "        text-align: right;\n",
       "    }\n",
       "\n",
       "    .dataframe thead th {\n",
       "        text-align: left;\n",
       "    }\n",
       "\n",
       "    .dataframe tbody tr th {\n",
       "        vertical-align: top;\n",
       "    }\n",
       "</style>\n",
       "<table border=\"1\" class=\"dataframe\">\n",
       "  <thead>\n",
       "    <tr style=\"text-align: right;\">\n",
       "      <th>lead_source</th>\n",
       "      <th>Marketing</th>\n",
       "      <th>Sales</th>\n",
       "    </tr>\n",
       "    <tr>\n",
       "      <th>quarterStart</th>\n",
       "      <th></th>\n",
       "      <th></th>\n",
       "    </tr>\n",
       "  </thead>\n",
       "  <tbody>\n",
       "    <tr>\n",
       "      <th>2016Q3</th>\n",
       "      <td>12</td>\n",
       "      <td>3</td>\n",
       "    </tr>\n",
       "    <tr>\n",
       "      <th>2016Q4</th>\n",
       "      <td>93</td>\n",
       "      <td>13</td>\n",
       "    </tr>\n",
       "    <tr>\n",
       "      <th>2017Q1</th>\n",
       "      <td>104</td>\n",
       "      <td>27</td>\n",
       "    </tr>\n",
       "    <tr>\n",
       "      <th>2017Q2</th>\n",
       "      <td>174</td>\n",
       "      <td>28</td>\n",
       "    </tr>\n",
       "    <tr>\n",
       "      <th>2017Q3</th>\n",
       "      <td>144</td>\n",
       "      <td>9</td>\n",
       "    </tr>\n",
       "  </tbody>\n",
       "</table>\n",
       "</div>"
      ],
      "text/plain": [
       "lead_source   Marketing  Sales\n",
       "quarterStart                  \n",
       "2016Q3               12      3\n",
       "2016Q4               93     13\n",
       "2017Q1              104     27\n",
       "2017Q2              174     28\n",
       "2017Q3              144      9"
      ]
     },
     "execution_count": 320,
     "metadata": {},
     "output_type": "execute_result"
    }
   ],
   "source": [
    "df_pipe.groupby(['quarterStart','lead_source']).lead_source.count().unstack()"
   ]
  },
  {
   "cell_type": "markdown",
   "metadata": {
    "collapsed": false,
    "deletable": true,
    "editable": true
   },
   "source": [
    "### Opportunity Data Cleaning and Pre-processing"
   ]
  },
  {
   "cell_type": "code",
   "execution_count": 951,
   "metadata": {
    "collapsed": false,
    "deletable": true,
    "editable": true
   },
   "outputs": [],
   "source": [
    "'''\n",
    "    Opportunity Data Cleaning and Pre-processing\n",
    "'''\n",
    "# clean up industry\n",
    "df_opps['grouped_industry'] = df_opps.Account_Industry__c.map(lambda  x: industry_map.get(x,'Other'))\n",
    "\n",
    "# clean up datetype\n",
    "date_cols = ['CreatedDate', 'CloseDate']\n",
    "df_opps[date_cols] = df_opps[date_cols].applymap(lambda x: np.datetime64(x))\n",
    "# add in quarter closed\n",
    "df_opps['quarterClose'] = df_opps.CloseDate.dt.to_period('Q-SEP')\n",
    "# change types to numeric\n",
    "numeric_cols = ['New_ARR__c','New_ARR_EURO__c']\n",
    "df_opps[numeric_cols] = df_opps[numeric_cols].astype(np.float)"
   ]
  },
  {
   "cell_type": "code",
   "execution_count": 943,
   "metadata": {
    "collapsed": false,
    "deletable": true,
    "editable": true
   },
   "outputs": [],
   "source": [
    "#df_opps[(df_opps.quarterClose == pd.Period('2017Q2', freq='Q-SEP')) & (df_opps.StageName == 'Closed Won')].New_ARR_EURO__c.sum()"
   ]
  },
  {
   "cell_type": "markdown",
   "metadata": {},
   "source": [
    "### Conversion Rates Data Cleaning and Pre-processing"
   ]
  },
  {
   "cell_type": "code",
   "execution_count": 701,
   "metadata": {
    "collapsed": true
   },
   "outputs": [],
   "source": [
    "'''\n",
    "    Conversion Rates Data Cleaning and Pre-processing:\n",
    "        Add in Quarter dates\n",
    "'''\n",
    "# clean up datetype\n",
    "df_convrates.ToDate__c = df_convrates.ToDate__c.map(lambda x: np.datetime64(x))\n",
    "# add in quarter - based on ToDate\n",
    "df_convrates['quarter_ToDate'] = df_convrates.ToDate__c.dt.to_period('Q-SEP')"
   ]
  },
  {
   "cell_type": "markdown",
   "metadata": {},
   "source": [
    "### Closed Won Data Cleaning and Pre-processing"
   ]
  },
  {
   "cell_type": "code",
   "execution_count": 858,
   "metadata": {
    "collapsed": true
   },
   "outputs": [],
   "source": [
    "''' ################## DONT NEED THIS ##################\n",
    "6 - Opportunity Snapshot Closed Won Data and Pre-processing:\n",
    "    Clean industry, include snapshots dates from Board report, add Fiscal Year\n",
    "'''\n",
    "# clean up industry\n",
    "df_snap_closed['grouped_industry'] = df_snap_closed.Industry__c.map(lambda  x: industry_map.get(x,'Other'))\n",
    "# clean up date columns\n",
    "date_cols = ['Created_Date__c', 'Close_Date__c','Report_Date__c']\n",
    "df_snap_closed[date_cols] = df_snap_closed[date_cols].applymap(lambda x: np.datetime64(x))\n",
    "\n",
    "# clean up numeric columns\n",
    "numeric_cols = ['Amount__c','ARR_Delta_EURO__c']\n",
    "df_snap_closed[numeric_cols] = df_snap_closed[numeric_cols].fillna(0.0)\n",
    "df_snap_closed[numeric_cols] = df_snap_closed[numeric_cols].applymap(lambda x: np.float(x))\n",
    "\n",
    "# create periods\n",
    "monthly_periods = pd.period_range(df_snap_closed.Report_Date__c.min(),df_snap_closed.Report_Date__c.max(), freq='M')\n",
    "quarter_periods = pd.period_range(df_snap_closed.Report_Date__c.min(),df_snap_closed.Report_Date__c.max(), freq='Q-SEP')\n",
    "# add in Fiscal Quarter and Month\n",
    "df_snap_closed['quarter'] = df_snap_closed.Report_Date__c.dt.to_period('Q-SEP')\n",
    "df_snap_closed['month'] = df_snap_closed.Report_Date__c.dt.to_period('M')\n",
    "df_snap_closed['quarterClosed'] = df_snap_closed.Close_Date__c.dt.to_period('Q-SEP')\n",
    "# Filter out Closed Won, Closed Lost and Closed Deferred\n",
    "#df_snap_closed = df_snap_closed[~(df_snap_closed.Stage__c.isin(['Closed Won','Closed Lost','Closed Deferred']))]\n",
    "# Clean up old stage data\n",
    "# df_snap.Stage__c.replace('Qualification', 'Qualified', inplace = True)\n",
    "# df_snap = df_snap[df_snap.Stage__c != 'Re-Qualify']\n",
    "\n",
    "rpt_dates_1 = ['10-15-2015','1-14-2016','4-14-2016','7-14-2016','10-14-2016','1-13-2017','4-14-2017','7-14-2017']\n",
    "rpt_dates_1 = [pd.to_datetime(x) for x in rpt_dates_1]\n",
    "rpt_dates_1 = [x.date() for x in rpt_dates_1]\n",
    "rpt_dates_2 =['10-1-2015','11-5-2015','12-3-2015','1-7-2016','2-4-2016','3-3-2016','4-7-2016','5-5-2016','6-2-2016',\n",
    "             '7-7-2016','8-5-2016','9-2-2016','10-7-2016','11-4-2016','12-2-2016','1-6-2017','2-3-2017','3-3-2017','4-7-2017',\n",
    "             '5-5-2017','6-2-2017','7-7-2017','8-4-2017','9-1-2017']\n",
    "rpt_dates_2 = [pd.to_datetime(x) for x in rpt_dates_2]\n",
    "rpt_dates_2 = [x.date() for x in rpt_dates_2]\n",
    "# Filter out dates\n",
    "df_snap_closed = df_snap_closed[(df_snap_closed.Report_Date__c.isin(rpt_dates_1)) | (df_snap_closed.Report_Date__c.isin(rpt_dates_2))]\n",
    "# add order for stage sorting\n",
    "df_snap_closed['stage_order'] = df_snap_closed.Stage__c.map(lambda x : stage_order.get(x))\n"
   ]
  },
  {
   "cell_type": "markdown",
   "metadata": {
    "deletable": true,
    "editable": true
   },
   "source": [
    "### Summary tables\n",
    "\n",
    "#### Part 1) Quarterly ARR by Industry\n",
    "\n",
    "#### Part 2) Quarterly Number of Leads by Source - ALL Leads & Direct Sales Leads\n",
    "\n",
    "#### Part 3) Quarterly Number of SDR Generated Opportunities - Sales Sourced SQLs vs Marketing Sourced SQLs\n",
    "\n",
    "#### Part 4) Quarterly Number of Open Opportunities by Stage\n",
    "\n",
    "#### Part 5) Quartely Conversion Rate Averages\n",
    "\n",
    "**TO DO:\n",
    "Quarterly Average Selling Price for New Business \n",
    "Conversion Rates**"
   ]
  },
  {
   "cell_type": "code",
   "execution_count": 60,
   "metadata": {
    "collapsed": false,
    "deletable": true,
    "editable": true
   },
   "outputs": [
    {
     "data": {
      "text/plain": [
       "['Federal',\n",
       " 'Financial Services',\n",
       " 'Healthcare',\n",
       " 'Life Sciences',\n",
       " 'Other',\n",
       " 'Technology']"
      ]
     },
     "execution_count": 60,
     "metadata": {},
     "output_type": "execute_result"
    }
   ],
   "source": [
    "''' \n",
    "    1 - ARR by Industry \n",
    "'''\n",
    "\n",
    "# these are the industries we look at \n",
    "industries = list(set(industry_map.values())) + ['Other']\n",
    "industries.sort()"
   ]
  },
  {
   "cell_type": "code",
   "execution_count": 534,
   "metadata": {
    "collapsed": true,
    "deletable": true,
    "editable": true
   },
   "outputs": [],
   "source": [
    "# these are the marketing sources - anything else is other\n",
    "marketing_sources = ['Seminar/Conference', 'Website','Content Syndication', \n",
    "                     'Paid Search','Webinar','Email','Field Event','Social Media','Other']"
   ]
  },
  {
   "cell_type": "code",
   "execution_count": 906,
   "metadata": {
    "collapsed": false
   },
   "outputs": [],
   "source": [
    "#new_ARR.applymap(lambda x: \"{0:,.2f}\".format(x))"
   ]
  },
  {
   "cell_type": "code",
   "execution_count": null,
   "metadata": {
    "collapsed": true
   },
   "outputs": [],
   "source": [
    "# copy Snapshot data\n",
    "snap_data = df_snap.copy()"
   ]
  },
  {
   "cell_type": "code",
   "execution_count": 321,
   "metadata": {
    "collapsed": false
   },
   "outputs": [
    {
     "name": "stderr",
     "output_type": "stream",
     "text": [
      "/Users/Gabi/.virtualenvs/analysis/lib/python2.7/site-packages/ipykernel/__main__.py:11: DeprecationWarning:\n",
      "\n",
      "\n",
      ".ix is deprecated. Please use\n",
      ".loc for label based indexing or\n",
      ".iloc for positional indexing\n",
      "\n",
      "See the documentation here:\n",
      "http://pandas.pydata.org/pandas-docs/stable/indexing.html#deprecate_ix\n",
      "\n"
     ]
    }
   ],
   "source": [
    "# DataFrame for Quarterly ARR by Industry \n",
    "qt_ind_ARR = pd.DataFrame(columns = industries, index = sorted(qt_rpt_dates.keys()))\n",
    "\n",
    "# build summary table for grouped industry\n",
    "for q in sorted(qt_rpt_dates.keys()):\n",
    "    for i in industries:\n",
    "        temp_ind = snap_data[(snap_data.Report_Date__c == qt_rpt_dates.get(q)) & (snap_data.grouped_industry == i) &\n",
    "                            (~snap_data.Stage__c.isin(not_pipeline))]\n",
    "        # ARR EURO\n",
    "        arr = temp_ind.ARR_Delta_EURO__c.sum()\n",
    "        qt_ind_ARR.ix[q][i] = arr"
   ]
  },
  {
   "cell_type": "code",
   "execution_count": 322,
   "metadata": {
    "collapsed": false
   },
   "outputs": [
    {
     "data": {
      "text/html": [
       "<div>\n",
       "<style>\n",
       "    .dataframe thead tr:only-child th {\n",
       "        text-align: right;\n",
       "    }\n",
       "\n",
       "    .dataframe thead th {\n",
       "        text-align: left;\n",
       "    }\n",
       "\n",
       "    .dataframe tbody tr th {\n",
       "        vertical-align: top;\n",
       "    }\n",
       "</style>\n",
       "<table border=\"1\" class=\"dataframe\">\n",
       "  <thead>\n",
       "    <tr style=\"text-align: right;\">\n",
       "      <th></th>\n",
       "      <th>Federal</th>\n",
       "      <th>Financial Services</th>\n",
       "      <th>Healthcare</th>\n",
       "      <th>Life Sciences</th>\n",
       "      <th>Other</th>\n",
       "      <th>Technology</th>\n",
       "    </tr>\n",
       "  </thead>\n",
       "  <tbody>\n",
       "    <tr>\n",
       "      <th>2017Q1</th>\n",
       "      <td>1257842.83</td>\n",
       "      <td>12027136.65</td>\n",
       "      <td>3461969.54</td>\n",
       "      <td>1292006.16</td>\n",
       "      <td>6669172.68</td>\n",
       "      <td>1233868.48</td>\n",
       "    </tr>\n",
       "    <tr>\n",
       "      <th>2017Q2</th>\n",
       "      <td>2821471.30</td>\n",
       "      <td>13028623.46</td>\n",
       "      <td>2998649.57</td>\n",
       "      <td>2022134.97</td>\n",
       "      <td>9181193.57</td>\n",
       "      <td>1593223.58</td>\n",
       "    </tr>\n",
       "    <tr>\n",
       "      <th>2017Q3</th>\n",
       "      <td>2855978.00</td>\n",
       "      <td>15348489.07</td>\n",
       "      <td>3501997.65</td>\n",
       "      <td>1196912.02</td>\n",
       "      <td>9045838.91</td>\n",
       "      <td>1992871.42</td>\n",
       "    </tr>\n",
       "    <tr>\n",
       "      <th>2017Q4</th>\n",
       "      <td>0.00</td>\n",
       "      <td>0.00</td>\n",
       "      <td>0.00</td>\n",
       "      <td>0.00</td>\n",
       "      <td>0.00</td>\n",
       "      <td>0.00</td>\n",
       "    </tr>\n",
       "  </tbody>\n",
       "</table>\n",
       "</div>"
      ],
      "text/plain": [
       "           Federal  Financial Services  Healthcare  Life Sciences       Other  \\\n",
       "2017Q1  1257842.83         12027136.65  3461969.54     1292006.16  6669172.68   \n",
       "2017Q2  2821471.30         13028623.46  2998649.57     2022134.97  9181193.57   \n",
       "2017Q3  2855978.00         15348489.07  3501997.65     1196912.02  9045838.91   \n",
       "2017Q4        0.00                0.00        0.00           0.00        0.00   \n",
       "\n",
       "        Technology  \n",
       "2017Q1  1233868.48  \n",
       "2017Q2  1593223.58  \n",
       "2017Q3  1992871.42  \n",
       "2017Q4        0.00  "
      ]
     },
     "execution_count": 322,
     "metadata": {},
     "output_type": "execute_result"
    }
   ],
   "source": [
    "# change data type\n",
    "qt_ind_ARR[industries] = qt_ind_ARR[industries].applymap(lambda x: np.float(x))\n",
    "\n",
    "# ARR by industry QT\n",
    "qt_ind_ARR"
   ]
  },
  {
   "cell_type": "code",
   "execution_count": 579,
   "metadata": {
    "collapsed": true
   },
   "outputs": [],
   "source": [
    "''' \n",
    "    2 - Number of Marketing Leads by Lead Source:\n",
    "        a. All marketing leads\n",
    "        b. Direct Sales Marketing leads\n",
    "'''\n",
    "# copy lead data\n",
    "mk_data = df_mk.copy()"
   ]
  },
  {
   "cell_type": "code",
   "execution_count": 581,
   "metadata": {
    "collapsed": false
   },
   "outputs": [
    {
     "data": {
      "text/plain": [
       "['Seminar/Conference',\n",
       " 'Website',\n",
       " 'Content Syndication',\n",
       " 'Paid Search',\n",
       " 'Webinar',\n",
       " 'Email',\n",
       " 'Field Event',\n",
       " 'Social Media',\n",
       " 'Other']"
      ]
     },
     "execution_count": 581,
     "metadata": {},
     "output_type": "execute_result"
    }
   ],
   "source": [
    "marketing_sources"
   ]
  },
  {
   "cell_type": "code",
   "execution_count": 583,
   "metadata": {
    "collapsed": false
   },
   "outputs": [
    {
     "data": {
      "text/html": [
       "<div>\n",
       "<style>\n",
       "    .dataframe thead tr:only-child th {\n",
       "        text-align: right;\n",
       "    }\n",
       "\n",
       "    .dataframe thead th {\n",
       "        text-align: left;\n",
       "    }\n",
       "\n",
       "    .dataframe tbody tr th {\n",
       "        vertical-align: top;\n",
       "    }\n",
       "</style>\n",
       "<table border=\"1\" class=\"dataframe\">\n",
       "  <thead>\n",
       "    <tr style=\"text-align: right;\">\n",
       "      <th></th>\n",
       "      <th>leadSource</th>\n",
       "      <th>CreatedDate</th>\n",
       "      <th>title_Score__c</th>\n",
       "      <th>Managed_By__c</th>\n",
       "      <th>quarter</th>\n",
       "      <th>month</th>\n",
       "      <th>updated_leadSource</th>\n",
       "    </tr>\n",
       "  </thead>\n",
       "  <tbody>\n",
       "    <tr>\n",
       "      <th>0</th>\n",
       "      <td>Database</td>\n",
       "      <td>2015-08-28 12:57:36</td>\n",
       "      <td>70</td>\n",
       "      <td>Direct Sales</td>\n",
       "      <td>2015Q4</td>\n",
       "      <td>2015-08</td>\n",
       "      <td>Database</td>\n",
       "    </tr>\n",
       "    <tr>\n",
       "      <th>1</th>\n",
       "      <td>Website</td>\n",
       "      <td>2016-05-20 07:15:53</td>\n",
       "      <td>63</td>\n",
       "      <td>Direct Sales</td>\n",
       "      <td>2016Q3</td>\n",
       "      <td>2016-05</td>\n",
       "      <td>Website</td>\n",
       "    </tr>\n",
       "    <tr>\n",
       "      <th>2</th>\n",
       "      <td>Database</td>\n",
       "      <td>2015-08-21 11:38:56</td>\n",
       "      <td>58</td>\n",
       "      <td>Direct Sales</td>\n",
       "      <td>2015Q4</td>\n",
       "      <td>2015-08</td>\n",
       "      <td>Database</td>\n",
       "    </tr>\n",
       "    <tr>\n",
       "      <th>3</th>\n",
       "      <td>Seminar/Conference</td>\n",
       "      <td>2012-03-08 08:12:09</td>\n",
       "      <td>70</td>\n",
       "      <td>Direct Sales</td>\n",
       "      <td>2012Q2</td>\n",
       "      <td>2012-03</td>\n",
       "      <td>Seminar/Conference</td>\n",
       "    </tr>\n",
       "    <tr>\n",
       "      <th>4</th>\n",
       "      <td>Webinar</td>\n",
       "      <td>2016-05-17 17:11:33</td>\n",
       "      <td>63</td>\n",
       "      <td>Direct Sales</td>\n",
       "      <td>2016Q3</td>\n",
       "      <td>2016-05</td>\n",
       "      <td>Webinar</td>\n",
       "    </tr>\n",
       "  </tbody>\n",
       "</table>\n",
       "</div>"
      ],
      "text/plain": [
       "           leadSource         CreatedDate title_Score__c Managed_By__c  \\\n",
       "0            Database 2015-08-28 12:57:36             70  Direct Sales   \n",
       "1             Website 2016-05-20 07:15:53             63  Direct Sales   \n",
       "2            Database 2015-08-21 11:38:56             58  Direct Sales   \n",
       "3  Seminar/Conference 2012-03-08 08:12:09             70  Direct Sales   \n",
       "4             Webinar 2016-05-17 17:11:33             63  Direct Sales   \n",
       "\n",
       "  quarter   month  updated_leadSource  \n",
       "0  2015Q4 2015-08            Database  \n",
       "1  2016Q3 2016-05             Website  \n",
       "2  2015Q4 2015-08            Database  \n",
       "3  2012Q2 2012-03  Seminar/Conference  \n",
       "4  2016Q3 2016-05             Webinar  "
      ]
     },
     "execution_count": 583,
     "metadata": {},
     "output_type": "execute_result"
    }
   ],
   "source": [
    "mk_data.head()"
   ]
  },
  {
   "cell_type": "code",
   "execution_count": 585,
   "metadata": {
    "collapsed": false
   },
   "outputs": [
    {
     "name": "stderr",
     "output_type": "stream",
     "text": [
      "/Users/Gabi/.virtualenvs/analysis/lib/python2.7/site-packages/ipykernel/__main__.py:26: DeprecationWarning:\n",
      "\n",
      "\n",
      ".ix is deprecated. Please use\n",
      ".loc for label based indexing or\n",
      ".iloc for positional indexing\n",
      "\n",
      "See the documentation here:\n",
      "http://pandas.pydata.org/pandas-docs/stable/indexing.html#deprecate_ix\n",
      "\n"
     ]
    }
   ],
   "source": [
    "cols = marketing_sources\n",
    "# DataFrame for Quarterly marketing leads by Lead Source - ALL\n",
    "qt_leads_source = pd.DataFrame(columns = cols , index = sorted(qt_rpt_dates.keys()))\n",
    "# DataFrame for Quarterly marketing leads by Lead Source - Direct Sales \n",
    "qt_leads_direct_sales = pd.DataFrame(columns = cols, index = sorted(qt_rpt_dates.keys()))\n",
    "\n",
    "# build summary table for Marketing leads by Managed By (ALL vs. Direct Sales)\n",
    "for q in sorted(qt_rpt_dates.keys()):\n",
    "    for m in cols:\n",
    "        if m == 'Other':\n",
    "            # group the \"Other\" marketing sources\n",
    "            temp_mk = mk_data[(mk_data.quarter == q) & (~mk_data.updated_leadSource.isin(marketing_sources))]\n",
    "            temp_directsales = temp_mk[(temp_mk.Managed_By__c == 'Direct Sales')]\n",
    "            # number of leads - All sources\n",
    "            num_leads = temp_mk.leadSource.count()\n",
    "            qt_leads_source.ix[q][m] = num_leads\n",
    "            # number of leads - All sources\n",
    "            num_leads_directsales = temp_directsales.leadSource.count()\n",
    "            qt_leads_direct_sales.loc[q][m] = num_leads_directsales\n",
    "        else:\n",
    "            temp_mk = mk_data[(mk_data.quarter == q) & (mk_data.updated_leadSource == m)]\n",
    "            # sales sourced leads\n",
    "            temp_directsales = temp_mk[(temp_mk.Managed_By__c == 'Direct Sales')]\n",
    "            # number of leads - All sources\n",
    "            num_leads = temp_mk.leadSource.count()\n",
    "            qt_leads_source.ix[q][m] = num_leads\n",
    "            # number of leads - All sources\n",
    "            num_leads_directsales = temp_directsales.leadSource.count()\n",
    "            qt_leads_direct_sales.loc[q][m] = num_leads_directsales\n",
    "        \n"
   ]
  },
  {
   "cell_type": "code",
   "execution_count": 591,
   "metadata": {
    "collapsed": false
   },
   "outputs": [
    {
     "data": {
      "text/html": [
       "<div>\n",
       "<style>\n",
       "    .dataframe thead tr:only-child th {\n",
       "        text-align: right;\n",
       "    }\n",
       "\n",
       "    .dataframe thead th {\n",
       "        text-align: left;\n",
       "    }\n",
       "\n",
       "    .dataframe tbody tr th {\n",
       "        vertical-align: top;\n",
       "    }\n",
       "</style>\n",
       "<table border=\"1\" class=\"dataframe\">\n",
       "  <thead>\n",
       "    <tr style=\"text-align: right;\">\n",
       "      <th></th>\n",
       "      <th>Seminar/Conference</th>\n",
       "      <th>Website</th>\n",
       "      <th>Content Syndication</th>\n",
       "      <th>Paid Search</th>\n",
       "      <th>Webinar</th>\n",
       "      <th>Email</th>\n",
       "      <th>Field Event</th>\n",
       "      <th>Social Media</th>\n",
       "      <th>Other</th>\n",
       "    </tr>\n",
       "  </thead>\n",
       "  <tbody>\n",
       "    <tr>\n",
       "      <th>2017Q1</th>\n",
       "      <td>231</td>\n",
       "      <td>497</td>\n",
       "      <td>790</td>\n",
       "      <td>274</td>\n",
       "      <td>279</td>\n",
       "      <td>7</td>\n",
       "      <td>35</td>\n",
       "      <td>0</td>\n",
       "      <td>5</td>\n",
       "    </tr>\n",
       "    <tr>\n",
       "      <th>2017Q2</th>\n",
       "      <td>1047</td>\n",
       "      <td>777</td>\n",
       "      <td>1164</td>\n",
       "      <td>524</td>\n",
       "      <td>681</td>\n",
       "      <td>82</td>\n",
       "      <td>60</td>\n",
       "      <td>3</td>\n",
       "      <td>11</td>\n",
       "    </tr>\n",
       "    <tr>\n",
       "      <th>2017Q3</th>\n",
       "      <td>270</td>\n",
       "      <td>714</td>\n",
       "      <td>1180</td>\n",
       "      <td>660</td>\n",
       "      <td>905</td>\n",
       "      <td>10</td>\n",
       "      <td>13</td>\n",
       "      <td>30</td>\n",
       "      <td>1324</td>\n",
       "    </tr>\n",
       "    <tr>\n",
       "      <th>2017Q4</th>\n",
       "      <td>0</td>\n",
       "      <td>0</td>\n",
       "      <td>0</td>\n",
       "      <td>0</td>\n",
       "      <td>0</td>\n",
       "      <td>0</td>\n",
       "      <td>0</td>\n",
       "      <td>0</td>\n",
       "      <td>0</td>\n",
       "    </tr>\n",
       "  </tbody>\n",
       "</table>\n",
       "</div>"
      ],
      "text/plain": [
       "       Seminar/Conference Website Content Syndication Paid Search Webinar  \\\n",
       "2017Q1                231     497                 790         274     279   \n",
       "2017Q2               1047     777                1164         524     681   \n",
       "2017Q3                270     714                1180         660     905   \n",
       "2017Q4                  0       0                   0           0       0   \n",
       "\n",
       "       Email Field Event Social Media Other  \n",
       "2017Q1     7          35            0     5  \n",
       "2017Q2    82          60            3    11  \n",
       "2017Q3    10          13           30  1324  \n",
       "2017Q4     0           0            0     0  "
      ]
     },
     "execution_count": 591,
     "metadata": {},
     "output_type": "execute_result"
    }
   ],
   "source": [
    "# Direct Sales Sourced Marketing Leads\n",
    "qt_leads_direct_sales"
   ]
  },
  {
   "cell_type": "code",
   "execution_count": 592,
   "metadata": {
    "collapsed": false,
    "deletable": true,
    "editable": true
   },
   "outputs": [
    {
     "data": {
      "text/html": [
       "<div>\n",
       "<style>\n",
       "    .dataframe thead tr:only-child th {\n",
       "        text-align: right;\n",
       "    }\n",
       "\n",
       "    .dataframe thead th {\n",
       "        text-align: left;\n",
       "    }\n",
       "\n",
       "    .dataframe tbody tr th {\n",
       "        vertical-align: top;\n",
       "    }\n",
       "</style>\n",
       "<table border=\"1\" class=\"dataframe\">\n",
       "  <thead>\n",
       "    <tr style=\"text-align: right;\">\n",
       "      <th></th>\n",
       "      <th>Seminar/Conference</th>\n",
       "      <th>Website</th>\n",
       "      <th>Content Syndication</th>\n",
       "      <th>Paid Search</th>\n",
       "      <th>Webinar</th>\n",
       "      <th>Email</th>\n",
       "      <th>Field Event</th>\n",
       "      <th>Social Media</th>\n",
       "      <th>Other</th>\n",
       "    </tr>\n",
       "  </thead>\n",
       "  <tbody>\n",
       "    <tr>\n",
       "      <th>2017Q1</th>\n",
       "      <td>353</td>\n",
       "      <td>854</td>\n",
       "      <td>924</td>\n",
       "      <td>455</td>\n",
       "      <td>388</td>\n",
       "      <td>11</td>\n",
       "      <td>35</td>\n",
       "      <td>0</td>\n",
       "      <td>5</td>\n",
       "    </tr>\n",
       "    <tr>\n",
       "      <th>2017Q2</th>\n",
       "      <td>1184</td>\n",
       "      <td>1342</td>\n",
       "      <td>1425</td>\n",
       "      <td>781</td>\n",
       "      <td>912</td>\n",
       "      <td>94</td>\n",
       "      <td>67</td>\n",
       "      <td>6</td>\n",
       "      <td>12</td>\n",
       "    </tr>\n",
       "    <tr>\n",
       "      <th>2017Q3</th>\n",
       "      <td>322</td>\n",
       "      <td>1204</td>\n",
       "      <td>1305</td>\n",
       "      <td>777</td>\n",
       "      <td>1123</td>\n",
       "      <td>14</td>\n",
       "      <td>18</td>\n",
       "      <td>31</td>\n",
       "      <td>1411</td>\n",
       "    </tr>\n",
       "    <tr>\n",
       "      <th>2017Q4</th>\n",
       "      <td>0</td>\n",
       "      <td>0</td>\n",
       "      <td>0</td>\n",
       "      <td>0</td>\n",
       "      <td>0</td>\n",
       "      <td>0</td>\n",
       "      <td>0</td>\n",
       "      <td>0</td>\n",
       "      <td>0</td>\n",
       "    </tr>\n",
       "  </tbody>\n",
       "</table>\n",
       "</div>"
      ],
      "text/plain": [
       "       Seminar/Conference Website Content Syndication Paid Search Webinar  \\\n",
       "2017Q1                353     854                 924         455     388   \n",
       "2017Q2               1184    1342                1425         781     912   \n",
       "2017Q3                322    1204                1305         777    1123   \n",
       "2017Q4                  0       0                   0           0       0   \n",
       "\n",
       "       Email Field Event Social Media Other  \n",
       "2017Q1    11          35            0     5  \n",
       "2017Q2    94          67            6    12  \n",
       "2017Q3    14          18           31  1411  \n",
       "2017Q4     0           0            0     0  "
      ]
     },
     "execution_count": 592,
     "metadata": {},
     "output_type": "execute_result"
    }
   ],
   "source": [
    "# Marketing Leads\n",
    "qt_leads_source"
   ]
  },
  {
   "cell_type": "code",
   "execution_count": 326,
   "metadata": {
    "collapsed": true
   },
   "outputs": [],
   "source": [
    "'''\n",
    "    3 - Number of SQLs - Sales Sourced vs. Marketing Sourced\n",
    "'''\n",
    "\n",
    "pipe_dat = df_pipe.copy()"
   ]
  },
  {
   "cell_type": "code",
   "execution_count": 376,
   "metadata": {
    "collapsed": false
   },
   "outputs": [
    {
     "name": "stderr",
     "output_type": "stream",
     "text": [
      "/Users/Gabi/.virtualenvs/analysis/lib/python2.7/site-packages/ipykernel/__main__.py:13: DeprecationWarning:\n",
      "\n",
      "\n",
      ".ix is deprecated. Please use\n",
      ".loc for label based indexing or\n",
      ".iloc for positional indexing\n",
      "\n",
      "See the documentation here:\n",
      "http://pandas.pydata.org/pandas-docs/stable/indexing.html#deprecate_ix\n",
      "\n"
     ]
    }
   ],
   "source": [
    "sources = ['Marketing','Sales']\n",
    "\n",
    "# DataFrame for Quarterly SQLs - Marketing vs. Sales Sourced SQLs\n",
    "qt_sql = pd.DataFrame(columns = sources, index = sorted(qt_rpt_dates.keys()))\n",
    "\n",
    "# build summary table for Marketing leads by Managed By (ALL vs. Direct Sales)\n",
    "for q in sorted(qt_rpt_dates.keys()):\n",
    "    for s in sources:\n",
    "        temp_sql = pipe_dat[(pipe_dat.quarterStart == q) & (pipe_dat.lead_source == s)]\n",
    "        # number of SQLs - Marketing vs Sales\n",
    "        num_sql = temp_sql.lead_source.count()\n",
    "        qt_sql.ix[q][s] = num_sql"
   ]
  },
  {
   "cell_type": "code",
   "execution_count": 972,
   "metadata": {
    "collapsed": false
   },
   "outputs": [
    {
     "data": {
      "text/html": [
       "<div>\n",
       "<style>\n",
       "    .dataframe thead tr:only-child th {\n",
       "        text-align: right;\n",
       "    }\n",
       "\n",
       "    .dataframe thead th {\n",
       "        text-align: left;\n",
       "    }\n",
       "\n",
       "    .dataframe tbody tr th {\n",
       "        vertical-align: top;\n",
       "    }\n",
       "</style>\n",
       "<table border=\"1\" class=\"dataframe\">\n",
       "  <thead>\n",
       "    <tr style=\"text-align: right;\">\n",
       "      <th></th>\n",
       "      <th>Marketing</th>\n",
       "      <th>Sales</th>\n",
       "    </tr>\n",
       "  </thead>\n",
       "  <tbody>\n",
       "    <tr>\n",
       "      <th>2017Q1</th>\n",
       "      <td>104</td>\n",
       "      <td>27</td>\n",
       "    </tr>\n",
       "    <tr>\n",
       "      <th>2017Q2</th>\n",
       "      <td>174</td>\n",
       "      <td>28</td>\n",
       "    </tr>\n",
       "    <tr>\n",
       "      <th>2017Q3</th>\n",
       "      <td>144</td>\n",
       "      <td>9</td>\n",
       "    </tr>\n",
       "    <tr>\n",
       "      <th>2017Q4</th>\n",
       "      <td>0</td>\n",
       "      <td>0</td>\n",
       "    </tr>\n",
       "  </tbody>\n",
       "</table>\n",
       "</div>"
      ],
      "text/plain": [
       "       Marketing Sales\n",
       "2017Q1       104    27\n",
       "2017Q2       174    28\n",
       "2017Q3       144     9\n",
       "2017Q4         0     0"
      ]
     },
     "execution_count": 972,
     "metadata": {},
     "output_type": "execute_result"
    }
   ],
   "source": [
    "# SQLS - Marketing vs. Sales\n",
    "qt_sql"
   ]
  },
  {
   "cell_type": "code",
   "execution_count": null,
   "metadata": {
    "collapsed": true
   },
   "outputs": [],
   "source": [
    "'''\n",
    "    4 - Quarterly ARR and number of Open Opportunities by Stage in Pipeline\n",
    "        a. ARR Pipeline by Stage in Open Pipeline\n",
    "        b. Number of Opportunities by Stage in Open Pipeline\n",
    "''' \n"
   ]
  },
  {
   "cell_type": "code",
   "execution_count": 380,
   "metadata": {
    "collapsed": false,
    "deletable": true,
    "editable": true
   },
   "outputs": [
    {
     "name": "stderr",
     "output_type": "stream",
     "text": [
      "/Users/Gabi/.virtualenvs/analysis/lib/python2.7/site-packages/ipykernel/__main__.py:16: DeprecationWarning:\n",
      "\n",
      "\n",
      ".ix is deprecated. Please use\n",
      ".loc for label based indexing or\n",
      ".iloc for positional indexing\n",
      "\n",
      "See the documentation here:\n",
      "http://pandas.pydata.org/pandas-docs/stable/indexing.html#deprecate_ix\n",
      "\n",
      "/Users/Gabi/.virtualenvs/analysis/lib/python2.7/site-packages/ipykernel/__main__.py:19: DeprecationWarning:\n",
      "\n",
      "\n",
      ".ix is deprecated. Please use\n",
      ".loc for label based indexing or\n",
      ".iloc for positional indexing\n",
      "\n",
      "See the documentation here:\n",
      "http://pandas.pydata.org/pandas-docs/stable/indexing.html#deprecate_ix\n",
      "\n"
     ]
    }
   ],
   "source": [
    "\n",
    "# DataFrame for Quarterly ARR by stage for 2017\n",
    "qt_stage_ARR = pd.DataFrame(columns = stages[:-1], index = sorted(qt_rpt_dates.keys()))\n",
    "# DataFrame for Quarterly opps by stage\n",
    "qt_stage_opp = pd.DataFrame(columns= stages[:-1], index = sorted(qt_rpt_dates.keys()))\n",
    "\n",
    "# build summary tables fo r ARR & num of opps\n",
    "for q in sorted(qt_rpt_dates.keys()):\n",
    "    for s in stages[:-1]:\n",
    "        temp = snap_data[(snap_data.Report_Date__c == qt_rpt_dates.get(q)) & (snap_data.Stage__c == s)]\n",
    "        # ARR EURO\n",
    "        arr = temp.ARR_Delta_EURO__c.sum()\n",
    "        qt_stage_ARR.ix[q][s] = arr\n",
    "        # number of opportunities\n",
    "        num_opps = temp.Opportunity_ID__c.count()\n",
    "        qt_stage_opp.ix[q][s] = num_opps\n",
    "\n",
    "# change data type\n",
    "qt_stage_ARR[stages[0:-1]] = qt_stage_ARR[stages[0:-1]].applymap(lambda x: np.float(x))"
   ]
  },
  {
   "cell_type": "code",
   "execution_count": 382,
   "metadata": {
    "collapsed": false,
    "deletable": true,
    "editable": true
   },
   "outputs": [
    {
     "data": {
      "text/html": [
       "<div>\n",
       "<style>\n",
       "    .dataframe thead tr:only-child th {\n",
       "        text-align: right;\n",
       "    }\n",
       "\n",
       "    .dataframe thead th {\n",
       "        text-align: left;\n",
       "    }\n",
       "\n",
       "    .dataframe tbody tr th {\n",
       "        vertical-align: top;\n",
       "    }\n",
       "</style>\n",
       "<table border=\"1\" class=\"dataframe\">\n",
       "  <thead>\n",
       "    <tr style=\"text-align: right;\">\n",
       "      <th></th>\n",
       "      <th>Prospect</th>\n",
       "      <th>Qualified</th>\n",
       "      <th>Buying Process id.</th>\n",
       "      <th>Short List</th>\n",
       "      <th>Chosen Vendor</th>\n",
       "      <th>Negotiation/Review</th>\n",
       "      <th>PO In Progress</th>\n",
       "    </tr>\n",
       "  </thead>\n",
       "  <tbody>\n",
       "    <tr>\n",
       "      <th>2017Q1</th>\n",
       "      <td>739375.74</td>\n",
       "      <td>4197747.56</td>\n",
       "      <td>9013988.72</td>\n",
       "      <td>10307890.77</td>\n",
       "      <td>3948588.93</td>\n",
       "      <td>2671527.92</td>\n",
       "      <td>0.0</td>\n",
       "    </tr>\n",
       "    <tr>\n",
       "      <th>2017Q2</th>\n",
       "      <td>1651656.46</td>\n",
       "      <td>11772525.84</td>\n",
       "      <td>12917868.66</td>\n",
       "      <td>11803447.52</td>\n",
       "      <td>4051256.84</td>\n",
       "      <td>2854551.03</td>\n",
       "      <td>18172.4</td>\n",
       "    </tr>\n",
       "    <tr>\n",
       "      <th>2017Q3</th>\n",
       "      <td>0.00</td>\n",
       "      <td>22452663.19</td>\n",
       "      <td>14455770.09</td>\n",
       "      <td>13434413.34</td>\n",
       "      <td>3622196.14</td>\n",
       "      <td>1965934.50</td>\n",
       "      <td>463773.0</td>\n",
       "    </tr>\n",
       "    <tr>\n",
       "      <th>2017Q4</th>\n",
       "      <td>0.00</td>\n",
       "      <td>0.00</td>\n",
       "      <td>0.00</td>\n",
       "      <td>0.00</td>\n",
       "      <td>0.00</td>\n",
       "      <td>0.00</td>\n",
       "      <td>0.0</td>\n",
       "    </tr>\n",
       "  </tbody>\n",
       "</table>\n",
       "</div>"
      ],
      "text/plain": [
       "          Prospect    Qualified  Buying Process id.   Short List  \\\n",
       "2017Q1   739375.74   4197747.56          9013988.72  10307890.77   \n",
       "2017Q2  1651656.46  11772525.84         12917868.66  11803447.52   \n",
       "2017Q3        0.00  22452663.19         14455770.09  13434413.34   \n",
       "2017Q4        0.00         0.00                0.00         0.00   \n",
       "\n",
       "        Chosen Vendor  Negotiation/Review  PO In Progress  \n",
       "2017Q1     3948588.93          2671527.92             0.0  \n",
       "2017Q2     4051256.84          2854551.03         18172.4  \n",
       "2017Q3     3622196.14          1965934.50        463773.0  \n",
       "2017Q4           0.00                0.00             0.0  "
      ]
     },
     "execution_count": 382,
     "metadata": {},
     "output_type": "execute_result"
    }
   ],
   "source": [
    "# ARR by QT\n",
    "qt_stage_ARR"
   ]
  },
  {
   "cell_type": "code",
   "execution_count": 956,
   "metadata": {
    "collapsed": false,
    "deletable": true,
    "editable": true
   },
   "outputs": [
    {
     "data": {
      "text/html": [
       "<div>\n",
       "<style>\n",
       "    .dataframe thead tr:only-child th {\n",
       "        text-align: right;\n",
       "    }\n",
       "\n",
       "    .dataframe thead th {\n",
       "        text-align: left;\n",
       "    }\n",
       "\n",
       "    .dataframe tbody tr th {\n",
       "        vertical-align: top;\n",
       "    }\n",
       "</style>\n",
       "<table border=\"1\" class=\"dataframe\">\n",
       "  <thead>\n",
       "    <tr style=\"text-align: right;\">\n",
       "      <th></th>\n",
       "      <th>Prospect</th>\n",
       "      <th>Qualified</th>\n",
       "      <th>Buying Process id.</th>\n",
       "      <th>Short List</th>\n",
       "      <th>Chosen Vendor</th>\n",
       "      <th>Negotiation/Review</th>\n",
       "      <th>PO In Progress</th>\n",
       "    </tr>\n",
       "  </thead>\n",
       "  <tbody>\n",
       "    <tr>\n",
       "      <th>2017Q1</th>\n",
       "      <td>118</td>\n",
       "      <td>264</td>\n",
       "      <td>93</td>\n",
       "      <td>67</td>\n",
       "      <td>26</td>\n",
       "      <td>23</td>\n",
       "      <td>6</td>\n",
       "    </tr>\n",
       "    <tr>\n",
       "      <th>2017Q2</th>\n",
       "      <td>84</td>\n",
       "      <td>336</td>\n",
       "      <td>103</td>\n",
       "      <td>68</td>\n",
       "      <td>31</td>\n",
       "      <td>18</td>\n",
       "      <td>2</td>\n",
       "    </tr>\n",
       "    <tr>\n",
       "      <th>2017Q3</th>\n",
       "      <td>0</td>\n",
       "      <td>489</td>\n",
       "      <td>91</td>\n",
       "      <td>74</td>\n",
       "      <td>28</td>\n",
       "      <td>15</td>\n",
       "      <td>5</td>\n",
       "    </tr>\n",
       "    <tr>\n",
       "      <th>2017Q4</th>\n",
       "      <td>0</td>\n",
       "      <td>0</td>\n",
       "      <td>0</td>\n",
       "      <td>0</td>\n",
       "      <td>0</td>\n",
       "      <td>0</td>\n",
       "      <td>0</td>\n",
       "    </tr>\n",
       "  </tbody>\n",
       "</table>\n",
       "</div>"
      ],
      "text/plain": [
       "       Prospect Qualified Buying Process id. Short List Chosen Vendor  \\\n",
       "2017Q1      118       264                 93         67            26   \n",
       "2017Q2       84       336                103         68            31   \n",
       "2017Q3        0       489                 91         74            28   \n",
       "2017Q4        0         0                  0          0             0   \n",
       "\n",
       "       Negotiation/Review PO In Progress  \n",
       "2017Q1                 23              6  \n",
       "2017Q2                 18              2  \n",
       "2017Q3                 15              5  \n",
       "2017Q4                  0              0  "
      ]
     },
     "execution_count": 956,
     "metadata": {},
     "output_type": "execute_result"
    }
   ],
   "source": [
    "# number of opps bt QT\n",
    "qt_stage_opp"
   ]
  },
  {
   "cell_type": "code",
   "execution_count": null,
   "metadata": {
    "collapsed": true
   },
   "outputs": [],
   "source": [
    "'''\n",
    "    5 - Quarterly Closed Won ARR by Industry\n",
    "        Filters: Closed Won Opportunities\n",
    "'''"
   ]
  },
  {
   "cell_type": "code",
   "execution_count": 970,
   "metadata": {
    "collapsed": false
   },
   "outputs": [
    {
     "name": "stderr",
     "output_type": "stream",
     "text": [
      "/Users/Gabi/.virtualenvs/analysis/lib/python2.7/site-packages/ipykernel/__main__.py:11: DeprecationWarning:\n",
      "\n",
      "\n",
      ".ix is deprecated. Please use\n",
      ".loc for label based indexing or\n",
      ".iloc for positional indexing\n",
      "\n",
      "See the documentation here:\n",
      "http://pandas.pydata.org/pandas-docs/stable/indexing.html#deprecate_ix\n",
      "\n"
     ]
    }
   ],
   "source": [
    "# DataFrame for Quarterly ARR by Industry for 2017 - Closed Won\n",
    "qt_ind_ARR_closed = pd.DataFrame(columns = industries, index = sorted(qt_rpt_dates.keys()))\n",
    "# only looking at closed won opportunities ARR EURO\n",
    "df_closed = df_opps[df_opps.StageName=='Closed Won']\n",
    "# build summary table for grouped industry\n",
    "for q in sorted(qt_rpt_dates.keys()):\n",
    "    for i in industries:\n",
    "        temp_ind_closed = df_closed[(df_closed.quarterClose == q) & (df_closed.grouped_industry == i)]\n",
    "        # ARR EURO\n",
    "        arr_closed = temp_ind_closed.New_ARR_EURO__c.sum()\n",
    "        qt_ind_ARR_closed.ix[q][i] = arr_closed\n",
    "\n",
    "# change data type\n",
    "qt_ind_ARR_closed = qt_ind_ARR_closed.applymap(lambda x: np.float(x))"
   ]
  },
  {
   "cell_type": "code",
   "execution_count": 973,
   "metadata": {
    "collapsed": false
   },
   "outputs": [
    {
     "data": {
      "text/html": [
       "<div>\n",
       "<style>\n",
       "    .dataframe thead tr:only-child th {\n",
       "        text-align: right;\n",
       "    }\n",
       "\n",
       "    .dataframe thead th {\n",
       "        text-align: left;\n",
       "    }\n",
       "\n",
       "    .dataframe tbody tr th {\n",
       "        vertical-align: top;\n",
       "    }\n",
       "</style>\n",
       "<table border=\"1\" class=\"dataframe\">\n",
       "  <thead>\n",
       "    <tr style=\"text-align: right;\">\n",
       "      <th></th>\n",
       "      <th>Federal</th>\n",
       "      <th>Financial Services</th>\n",
       "      <th>Healthcare</th>\n",
       "      <th>Life Sciences</th>\n",
       "      <th>Other</th>\n",
       "      <th>Technology</th>\n",
       "    </tr>\n",
       "  </thead>\n",
       "  <tbody>\n",
       "    <tr>\n",
       "      <th>2017Q1</th>\n",
       "      <td>0.00</td>\n",
       "      <td>2,117,753.52</td>\n",
       "      <td>464,686.94</td>\n",
       "      <td>0.00</td>\n",
       "      <td>260,878.38</td>\n",
       "      <td>0.00</td>\n",
       "    </tr>\n",
       "    <tr>\n",
       "      <th>2017Q2</th>\n",
       "      <td>0.00</td>\n",
       "      <td>1,396,555.11</td>\n",
       "      <td>136,785.68</td>\n",
       "      <td>0.00</td>\n",
       "      <td>908,620.37</td>\n",
       "      <td>276,090.56</td>\n",
       "    </tr>\n",
       "    <tr>\n",
       "      <th>2017Q3</th>\n",
       "      <td>0.00</td>\n",
       "      <td>1,145,457.23</td>\n",
       "      <td>306,530.83</td>\n",
       "      <td>0.00</td>\n",
       "      <td>487,327.57</td>\n",
       "      <td>29,919.77</td>\n",
       "    </tr>\n",
       "    <tr>\n",
       "      <th>2017Q4</th>\n",
       "      <td>0.00</td>\n",
       "      <td>0.00</td>\n",
       "      <td>0.00</td>\n",
       "      <td>0.00</td>\n",
       "      <td>0.00</td>\n",
       "      <td>0.00</td>\n",
       "    </tr>\n",
       "  </tbody>\n",
       "</table>\n",
       "</div>"
      ],
      "text/plain": [
       "       Federal Financial Services  Healthcare Life Sciences       Other  \\\n",
       "2017Q1    0.00       2,117,753.52  464,686.94          0.00  260,878.38   \n",
       "2017Q2    0.00       1,396,555.11  136,785.68          0.00  908,620.37   \n",
       "2017Q3    0.00       1,145,457.23  306,530.83          0.00  487,327.57   \n",
       "2017Q4    0.00               0.00        0.00          0.00        0.00   \n",
       "\n",
       "        Technology  \n",
       "2017Q1        0.00  \n",
       "2017Q2  276,090.56  \n",
       "2017Q3   29,919.77  \n",
       "2017Q4        0.00  "
      ]
     },
     "execution_count": 973,
     "metadata": {},
     "output_type": "execute_result"
    }
   ],
   "source": [
    "# New ARR Closed Won by Industry and Quarter\n",
    "qt_ind_ARR_closed.applymap(lambda x: \"{0:,.2f}\".format(x))"
   ]
  },
  {
   "cell_type": "code",
   "execution_count": null,
   "metadata": {
    "collapsed": true
   },
   "outputs": [],
   "source": [
    "'''\n",
    "    6 - Quarterly Conversion Rate Averages\n",
    "        a. Stage to Stage\n",
    "        b. Stage to Closed Won\n",
    "''' \n",
    "# stage to stage conversion rates\n",
    "convrate_stages = list(df_convrates.ToStage__c.unique())\n"
   ]
  },
  {
   "cell_type": "code",
   "execution_count": 764,
   "metadata": {
    "collapsed": false
   },
   "outputs": [
    {
     "name": "stderr",
     "output_type": "stream",
     "text": [
      "/Users/Gabi/.virtualenvs/analysis/lib/python2.7/site-packages/ipykernel/__main__.py:16: DeprecationWarning:\n",
      "\n",
      "\n",
      ".ix is deprecated. Please use\n",
      ".loc for label based indexing or\n",
      ".iloc for positional indexing\n",
      "\n",
      "See the documentation here:\n",
      "http://pandas.pydata.org/pandas-docs/stable/indexing.html#deprecate_ix\n",
      "\n"
     ]
    }
   ],
   "source": [
    "'''\n",
    "    Quarterly Conversion Rate Averages\n",
    "        a. Stage to Stage\n",
    "'''\n",
    "# DataFrame for Quarterly Conversion Rates for Stage to Stage for 2017\n",
    "qt_convrates = pd.DataFrame(index = convrate_stages, columns = sorted(qt_rpt_dates.keys()))\n",
    "\n",
    "# build summary tables for Conversion Rates for Stage to Stage\n",
    "for q in sorted(qt_rpt_dates.keys()):\n",
    "    for s in convrate_stages:\n",
    "        temp = df_convrates[(df_convrates.quarter_ToDate == q) & (df_convrates.ToStage__c == s)]\n",
    "        # Conversion rates - stage to stage\n",
    "        convrate = temp.ConversionRate__c.mean()\n",
    "        qt_convrates.ix[s][q] = convrate\n",
    "\n"
   ]
  },
  {
   "cell_type": "code",
   "execution_count": 809,
   "metadata": {
    "collapsed": false
   },
   "outputs": [
    {
     "data": {
      "text/html": [
       "<div>\n",
       "<style>\n",
       "    .dataframe thead tr:only-child th {\n",
       "        text-align: right;\n",
       "    }\n",
       "\n",
       "    .dataframe thead th {\n",
       "        text-align: left;\n",
       "    }\n",
       "\n",
       "    .dataframe tbody tr th {\n",
       "        vertical-align: top;\n",
       "    }\n",
       "</style>\n",
       "<table border=\"1\" class=\"dataframe\">\n",
       "  <thead>\n",
       "    <tr style=\"text-align: right;\">\n",
       "      <th></th>\n",
       "      <th>2017Q1</th>\n",
       "      <th>2017Q2</th>\n",
       "      <th>2017Q3</th>\n",
       "      <th>2017Q4</th>\n",
       "    </tr>\n",
       "  </thead>\n",
       "  <tbody>\n",
       "    <tr>\n",
       "      <th>Qualified to Buying Process Id.</th>\n",
       "      <td>0.288424</td>\n",
       "      <td>0.274861</td>\n",
       "      <td>0.281871</td>\n",
       "      <td>NaN</td>\n",
       "    </tr>\n",
       "    <tr>\n",
       "      <th>Buying Process Id. to Short List</th>\n",
       "      <td>0.363671</td>\n",
       "      <td>0.38061</td>\n",
       "      <td>0.388423</td>\n",
       "      <td>NaN</td>\n",
       "    </tr>\n",
       "    <tr>\n",
       "      <th>Short List to Chosen Vendor</th>\n",
       "      <td>0.441969</td>\n",
       "      <td>0.387677</td>\n",
       "      <td>0.354626</td>\n",
       "      <td>NaN</td>\n",
       "    </tr>\n",
       "    <tr>\n",
       "      <th>Chosen Vendor to Negotiation/Review</th>\n",
       "      <td>0.648052</td>\n",
       "      <td>0.597106</td>\n",
       "      <td>0.54525</td>\n",
       "      <td>NaN</td>\n",
       "    </tr>\n",
       "    <tr>\n",
       "      <th>Negotiation/Review to PO In Progress</th>\n",
       "      <td>0.832687</td>\n",
       "      <td>0.839492</td>\n",
       "      <td>0.841866</td>\n",
       "      <td>NaN</td>\n",
       "    </tr>\n",
       "    <tr>\n",
       "      <th>PO In Progress to Closed Won</th>\n",
       "      <td>0.927646</td>\n",
       "      <td>0.926337</td>\n",
       "      <td>0.923362</td>\n",
       "      <td>NaN</td>\n",
       "    </tr>\n",
       "  </tbody>\n",
       "</table>\n",
       "</div>"
      ],
      "text/plain": [
       "                                        2017Q1    2017Q2    2017Q3 2017Q4\n",
       "Qualified to Buying Process Id.       0.288424  0.274861  0.281871    NaN\n",
       "Buying Process Id. to Short List      0.363671   0.38061  0.388423    NaN\n",
       "Short List to Chosen Vendor           0.441969  0.387677  0.354626    NaN\n",
       "Chosen Vendor to Negotiation/Review   0.648052  0.597106   0.54525    NaN\n",
       "Negotiation/Review to PO In Progress  0.832687  0.839492  0.841866    NaN\n",
       "PO In Progress to Closed Won          0.927646  0.926337  0.923362    NaN"
      ]
     },
     "execution_count": 809,
     "metadata": {},
     "output_type": "execute_result"
    }
   ],
   "source": [
    "qt_convrates"
   ]
  },
  {
   "cell_type": "code",
   "execution_count": 821,
   "metadata": {
    "collapsed": false
   },
   "outputs": [
    {
     "name": "stderr",
     "output_type": "stream",
     "text": [
      "/Users/Gabi/.virtualenvs/analysis/lib/python2.7/site-packages/ipykernel/__main__.py:13: DeprecationWarning:\n",
      "\n",
      "\n",
      ".ix is deprecated. Please use\n",
      ".loc for label based indexing or\n",
      ".iloc for positional indexing\n",
      "\n",
      "See the documentation here:\n",
      "http://pandas.pydata.org/pandas-docs/stable/indexing.html#deprecate_ix\n",
      "\n"
     ]
    }
   ],
   "source": [
    "'''\n",
    "    5 - Quarterly Conversion Rate Averages\n",
    "        b. stage to Closed Won conversion rates\n",
    "'''\n",
    "convrates_to_closedWon = [s + ' to ClosedWon' for s in stages[1:-1]]\n",
    "# DataFrame for Quarterly Conversion Rates for Stage to Closed Won for 2017\n",
    "qt_convrates_toClosedWon = pd.DataFrame(columns = stages[1:-1], index = sorted(qt_rpt_dates.keys()))\n",
    "\n",
    "# build summary tables for Conversion Rates for Stage to Closed Won\n",
    "for q in sorted(qt_rpt_dates.keys()):\n",
    "    for i, s in enumerate(stages[1:-1]):\n",
    "        # get product for each stage to closed won\n",
    "        avg_convrate = qt_convrates[q][i:].product() \n",
    "        qt_convrates_toClosedWon.ix[q][s] = avg_convrate\n",
    "\n"
   ]
  },
  {
   "cell_type": "code",
   "execution_count": null,
   "metadata": {
    "collapsed": true
   },
   "outputs": [],
   "source": [
    "# change table formatting        \n",
    "qt_convrates_toClosedWon = qt_convrates_toClosedWon.applymap(lambda x: \"{0:.2f}%\".format(x * 100.00))\n",
    "qt_convrates_toClosedWon.columns = convrates_to_closedWon"
   ]
  },
  {
   "cell_type": "code",
   "execution_count": 804,
   "metadata": {
    "collapsed": false
   },
   "outputs": [
    {
     "data": {
      "text/plain": [
       "pandas.core.frame.DataFrame"
      ]
     },
     "execution_count": 804,
     "metadata": {},
     "output_type": "execute_result"
    }
   ],
   "source": [
    "type(qt_convrates_toClosedWon)"
   ]
  },
  {
   "cell_type": "code",
   "execution_count": 835,
   "metadata": {
    "collapsed": false
   },
   "outputs": [
    {
     "data": {
      "text/plain": [
       "2017Q1      nan%\n",
       "2017Q2    -0.44%\n",
       "2017Q3    -0.24%\n",
       "Freq: Q-SEP, Name: Qualified, dtype: object"
      ]
     },
     "execution_count": 835,
     "metadata": {},
     "output_type": "execute_result"
    }
   ],
   "source": [
    "qt_convrates_toClosedWon[stages[1]][0:3].diff().apply(lambda x: \"{0:.2f}%\".format(x * 100.00))"
   ]
  },
  {
   "cell_type": "markdown",
   "metadata": {
    "deletable": true,
    "editable": true
   },
   "source": [
    "### Charts using matplotlib"
   ]
  },
  {
   "cell_type": "code",
   "execution_count": 1001,
   "metadata": {
    "collapsed": false
   },
   "outputs": [
    {
     "data": {
      "text/plain": [
       "'/Users/Gabi/Documents/projects/reporting'"
      ]
     },
     "execution_count": 1001,
     "metadata": {},
     "output_type": "execute_result"
    }
   ],
   "source": [
    "os.getcwd()"
   ]
  },
  {
   "cell_type": "code",
   "execution_count": 1002,
   "metadata": {
    "collapsed": true
   },
   "outputs": [],
   "source": [
    "# set image path\n",
    "img_path = os.getcwd()+ '/images/'"
   ]
  },
  {
   "cell_type": "markdown",
   "metadata": {},
   "source": [
    "#### 1 - ARR by Industry "
   ]
  },
  {
   "cell_type": "code",
   "execution_count": 386,
   "metadata": {
    "collapsed": false
   },
   "outputs": [
    {
     "data": {
      "text/html": [
       "<div>\n",
       "<style>\n",
       "    .dataframe thead tr:only-child th {\n",
       "        text-align: right;\n",
       "    }\n",
       "\n",
       "    .dataframe thead th {\n",
       "        text-align: left;\n",
       "    }\n",
       "\n",
       "    .dataframe tbody tr th {\n",
       "        vertical-align: top;\n",
       "    }\n",
       "</style>\n",
       "<table border=\"1\" class=\"dataframe\">\n",
       "  <thead>\n",
       "    <tr style=\"text-align: right;\">\n",
       "      <th></th>\n",
       "      <th>Federal</th>\n",
       "      <th>Financial Services</th>\n",
       "      <th>Healthcare</th>\n",
       "      <th>Life Sciences</th>\n",
       "      <th>Other</th>\n",
       "      <th>Technology</th>\n",
       "    </tr>\n",
       "  </thead>\n",
       "  <tbody>\n",
       "    <tr>\n",
       "      <th>2017Q1</th>\n",
       "      <td>1257842.83</td>\n",
       "      <td>12027136.65</td>\n",
       "      <td>3461969.54</td>\n",
       "      <td>1292006.16</td>\n",
       "      <td>6669172.68</td>\n",
       "      <td>1233868.48</td>\n",
       "    </tr>\n",
       "    <tr>\n",
       "      <th>2017Q2</th>\n",
       "      <td>2821471.30</td>\n",
       "      <td>13028623.46</td>\n",
       "      <td>2998649.57</td>\n",
       "      <td>2022134.97</td>\n",
       "      <td>9181193.57</td>\n",
       "      <td>1593223.58</td>\n",
       "    </tr>\n",
       "    <tr>\n",
       "      <th>2017Q3</th>\n",
       "      <td>2855978.00</td>\n",
       "      <td>15348489.07</td>\n",
       "      <td>3501997.65</td>\n",
       "      <td>1196912.02</td>\n",
       "      <td>9045838.91</td>\n",
       "      <td>1992871.42</td>\n",
       "    </tr>\n",
       "    <tr>\n",
       "      <th>2017Q4</th>\n",
       "      <td>0.00</td>\n",
       "      <td>0.00</td>\n",
       "      <td>0.00</td>\n",
       "      <td>0.00</td>\n",
       "      <td>0.00</td>\n",
       "      <td>0.00</td>\n",
       "    </tr>\n",
       "  </tbody>\n",
       "</table>\n",
       "</div>"
      ],
      "text/plain": [
       "           Federal  Financial Services  Healthcare  Life Sciences       Other  \\\n",
       "2017Q1  1257842.83         12027136.65  3461969.54     1292006.16  6669172.68   \n",
       "2017Q2  2821471.30         13028623.46  2998649.57     2022134.97  9181193.57   \n",
       "2017Q3  2855978.00         15348489.07  3501997.65     1196912.02  9045838.91   \n",
       "2017Q4        0.00                0.00        0.00           0.00        0.00   \n",
       "\n",
       "        Technology  \n",
       "2017Q1  1233868.48  \n",
       "2017Q2  1593223.58  \n",
       "2017Q3  1992871.42  \n",
       "2017Q4        0.00  "
      ]
     },
     "execution_count": 386,
     "metadata": {},
     "output_type": "execute_result"
    }
   ],
   "source": [
    "qt_ind_ARR"
   ]
  },
  {
   "cell_type": "code",
   "execution_count": 634,
   "metadata": {
    "collapsed": false
   },
   "outputs": [
    {
     "data": {
      "image/png": "[encoded data removed]",
      "text/plain": [
       "<matplotlib.figure.Figure at 0x12502a890>"
      ]
     },
     "metadata": {},
     "output_type": "display_data"
    }
   ],
   "source": [
    "# create ticklabel formatter - in millions\n",
    "formatter = mtick.FuncFormatter(millions)\n",
    "\n",
    "fig, ax = plt.subplots(figsize=(10,6))\n",
    "ind_arr_plt = qt_ind_ARR.plot(kind = 'bar', stacked = True, color = sns.light_palette('green',7), \n",
    "                              ax = ax, title = 'New ARR by Industry')\n",
    "ax.yaxis.set_major_formatter(formatter)\n",
    "ax.yaxis.grid(which='major', color='gray', linestyle='-', linewidth=.25)\n",
    "ax.xaxis.grid(False)\n",
    "ind_arr_plt.set_ylabel('')\n",
    "xticks = [item.get_text() for item in ind_arr_plt.get_xticklabels()]\n",
    "xticks = [i[4:6] + '-' + str(i[0:4]) for i in xticks]\n",
    "ind_arr_plt.set_xticklabels(labels= xticks, rotation = 0)\n",
    "ind_arr_plt.legend(loc =1, fancybox=True, ncol=1)\n",
    "plt.show(fig)"
   ]
  },
  {
   "cell_type": "code",
   "execution_count": 390,
   "metadata": {
    "collapsed": false
   },
   "outputs": [
    {
     "data": {
      "text/html": [
       "<div>\n",
       "<style>\n",
       "    .dataframe thead tr:only-child th {\n",
       "        text-align: right;\n",
       "    }\n",
       "\n",
       "    .dataframe thead th {\n",
       "        text-align: left;\n",
       "    }\n",
       "\n",
       "    .dataframe tbody tr th {\n",
       "        vertical-align: top;\n",
       "    }\n",
       "</style>\n",
       "<table border=\"1\" class=\"dataframe\">\n",
       "  <thead>\n",
       "    <tr style=\"text-align: right;\">\n",
       "      <th></th>\n",
       "      <th>Seminar/Conference</th>\n",
       "      <th>Website</th>\n",
       "      <th>Content Syndication</th>\n",
       "      <th>Paid Search</th>\n",
       "      <th>Webinar</th>\n",
       "      <th>Email</th>\n",
       "      <th>Field Event</th>\n",
       "      <th>Social Media</th>\n",
       "    </tr>\n",
       "  </thead>\n",
       "  <tbody>\n",
       "    <tr>\n",
       "      <th>2017Q1</th>\n",
       "      <td>231</td>\n",
       "      <td>499</td>\n",
       "      <td>790</td>\n",
       "      <td>273</td>\n",
       "      <td>279</td>\n",
       "      <td>7</td>\n",
       "      <td>35</td>\n",
       "      <td>0</td>\n",
       "    </tr>\n",
       "    <tr>\n",
       "      <th>2017Q2</th>\n",
       "      <td>1048</td>\n",
       "      <td>776</td>\n",
       "      <td>1164</td>\n",
       "      <td>524</td>\n",
       "      <td>683</td>\n",
       "      <td>82</td>\n",
       "      <td>60</td>\n",
       "      <td>3</td>\n",
       "    </tr>\n",
       "    <tr>\n",
       "      <th>2017Q3</th>\n",
       "      <td>276</td>\n",
       "      <td>681</td>\n",
       "      <td>1147</td>\n",
       "      <td>622</td>\n",
       "      <td>899</td>\n",
       "      <td>9</td>\n",
       "      <td>13</td>\n",
       "      <td>30</td>\n",
       "    </tr>\n",
       "    <tr>\n",
       "      <th>2017Q4</th>\n",
       "      <td>0</td>\n",
       "      <td>0</td>\n",
       "      <td>0</td>\n",
       "      <td>0</td>\n",
       "      <td>0</td>\n",
       "      <td>0</td>\n",
       "      <td>0</td>\n",
       "      <td>0</td>\n",
       "    </tr>\n",
       "  </tbody>\n",
       "</table>\n",
       "</div>"
      ],
      "text/plain": [
       "       Seminar/Conference Website Content Syndication Paid Search Webinar  \\\n",
       "2017Q1                231     499                 790         273     279   \n",
       "2017Q2               1048     776                1164         524     683   \n",
       "2017Q3                276     681                1147         622     899   \n",
       "2017Q4                  0       0                   0           0       0   \n",
       "\n",
       "       Email Field Event Social Media  \n",
       "2017Q1     7          35            0  \n",
       "2017Q2    82          60            3  \n",
       "2017Q3     9          13           30  \n",
       "2017Q4     0           0            0  "
      ]
     },
     "execution_count": 390,
     "metadata": {},
     "output_type": "execute_result"
    }
   ],
   "source": [
    "qt_leads_direct_sales"
   ]
  },
  {
   "cell_type": "markdown",
   "metadata": {},
   "source": [
    "#### 2 - Number of Leads by Lead Source:\n",
    "\n",
    "* a. All marketing leads\n",
    "\n",
    "* b. Direct Sales Marketing leads"
   ]
  },
  {
   "cell_type": "code",
   "execution_count": 647,
   "metadata": {
    "collapsed": false
   },
   "outputs": [
    {
     "data": {
      "image/png": "[encoded data removed]",
      "text/plain": [
       "<matplotlib.figure.Figure at 0x125320b50>"
      ]
     },
     "metadata": {},
     "output_type": "display_data"
    }
   ],
   "source": [
    "fig, axes = plt.subplots(nrows = 2, ncols = 1, figsize= (10,12), sharey = False)\n",
    "fig.subplots_adjust(hspace=.5, wspace=.5)\n",
    "\n",
    "mk_leads_plt = qt_leads_source.plot(kind = 'bar', stacked = True, color = sns.light_palette('green',9), \n",
    "                                    ax = axes[0], title = 'Net New Marketing Sourced Leads')\n",
    "mk_salesdirected_plt = qt_leads_direct_sales.plot(kind = 'bar', stacked = True, color = sns.light_palette('green',9), \n",
    "    ax = axes[1], title = 'Direct Sales Net New Marketing Sourced Leads', legend=False)\n",
    "\n",
    "# update tick labels\n",
    "xticks = [item.get_text() for item in mk_leads_plt.get_xticklabels()]\n",
    "xticks = [i[4:6] + '-' + str(i[0:4]) for i in xticks]\n",
    "axes[0].set_xticklabels(labels= xticks, rotation = 0)\n",
    "axes[1].set_xticklabels(labels= xticks, rotation = 0)\n",
    "# update legend\n",
    "axes[0].legend(loc = 3,bbox_to_anchor=(1.0, .750), ncol=2)\n",
    "axes[1].legend(loc = 3,bbox_to_anchor=(1.0, .750), ncol=2)\n",
    "# update grid\n",
    "axes[0].yaxis.grid(which='major', color='gray', linestyle='-', linewidth=.25)\n",
    "axes[1].yaxis.grid(which='major', color='gray', linestyle='-', linewidth=.25)\n",
    "axes[0].xaxis.grid(False)\n",
    "axes[1].xaxis.grid(False)\n",
    "plt.show(fig)"
   ]
  },
  {
   "cell_type": "markdown",
   "metadata": {},
   "source": [
    "#### 3 - Number of SQLs - Sales Sourced vs. Marketing Sourced"
   ]
  },
  {
   "cell_type": "code",
   "execution_count": 648,
   "metadata": {
    "collapsed": false
   },
   "outputs": [
    {
     "data": {
      "image/png": "[encoded data removed]",
      "text/plain": [
       "<matplotlib.figure.Figure at 0x125af8d90>"
      ]
     },
     "metadata": {},
     "output_type": "display_data"
    }
   ],
   "source": [
    "cols = ['dimgray','darkgreen'] \n",
    "fig, ax = plt.subplots(figsize=(10,6))\n",
    "\n",
    "sql_plt = qt_sql.plot(kind = 'bar', stacked = True, color = cols,#sns.light_palette('green',2), \n",
    "                              ax = ax, title = \"SDR Generated Opportunities 20% (SQL's)\")\n",
    "#ax.yaxis.set_major_formatter(formatter)\n",
    "ax.yaxis.grid(which='major', color='gray', linestyle='-', linewidth=.25)\n",
    "ax.xaxis.grid(False)\n",
    "sql_plt.set_ylabel('')\n",
    "xticks = [item.get_text() for item in sql_plt.get_xticklabels()]\n",
    "xticks = [i[4:6] + '-' + str(i[0:4]) for i in xticks]\n",
    "sql_plt.set_xticklabels(labels= xticks, rotation = 0)\n",
    "sql_plt.legend(loc =1, fancybox=True, ncol=1)\n",
    "plt.show(fig)"
   ]
  },
  {
   "cell_type": "markdown",
   "metadata": {},
   "source": [
    "#### 4 - a. Quarterly Number of Open Opportunities by Stage"
   ]
  },
  {
   "cell_type": "code",
   "execution_count": 671,
   "metadata": {
    "collapsed": false
   },
   "outputs": [
    {
     "data": {
      "image/png": "[encoded data removed]",
      "text/plain": [
       "<matplotlib.figure.Figure at 0x11b3fd650>"
      ]
     },
     "metadata": {},
     "output_type": "display_data"
    }
   ],
   "source": [
    "fig, ax = plt.subplots(figsize=(10,6))\n",
    "num_opps_plt = qt_stage_opp.plot(kind = 'bar', stacked = True, color = sns.light_palette('green',7), \n",
    "                            ax = ax, title = 'Open Opportunities by Fiscal Quarter')\n",
    "\n",
    "num_opps_plt.set_ylabel('')\n",
    "# change grid lines\n",
    "ax.yaxis.grid(which='major', color='gray', linestyle='-', linewidth=.25)\n",
    "ax.xaxis.grid(False)\n",
    "# change x-axis labels\n",
    "xticks = [item.get_text() for item in sql_plt.get_xticklabels()]\n",
    "num_opps_plt.set_xticklabels(labels= xticks, rotation = 0)\n",
    "num_opps_plt.legend(loc =0)\n",
    "plt.show(fig)"
   ]
  },
  {
   "cell_type": "markdown",
   "metadata": {
    "deletable": true,
    "editable": true
   },
   "source": [
    "#### 4 - b. Quarterly ARR in Open Pipeline by Stage"
   ]
  },
  {
   "cell_type": "code",
   "execution_count": 637,
   "metadata": {
    "collapsed": false,
    "deletable": true,
    "editable": true
   },
   "outputs": [
    {
     "data": {
      "image/png": "[encoded data removed]",
      "text/plain": [
       "<matplotlib.figure.Figure at 0x11e493050>"
      ]
     },
     "metadata": {},
     "output_type": "display_data"
    }
   ],
   "source": [
    "# create ticklabel formatter - in millions\n",
    "formatter = mtick.FuncFormatter(millions)\n",
    "\n",
    "fig, ax = plt.subplots(figsize=(10,6))\n",
    "arr_plt = qt_stage_ARR.plot(kind = 'bar', stacked = True, color = sns.light_palette('green',7), ax = ax, title = 'Quarterly ARR (EURO) by Stage')\n",
    "ax.yaxis.set_major_formatter(formatter)\n",
    "arr_plt.set_ylabel('ARR (EURO)')\n",
    "# update tick labels\n",
    "xticks = [item.get_text() for item in arr_plt.get_xticklabels()]\n",
    "xticks = [i[4:6] + '-' + str(i[0:4]) for i in xticks]\n",
    "arr_plt.set_xticklabels(labels= xticks, rotation = 0)\n",
    "# update grid\n",
    "ax.yaxis.grid(which='major', color='gray', linestyle='-', linewidth=.25)\n",
    "ax.xaxis.grid(False)\n",
    "arr_plt.legend(loc =0)\n",
    "plt.show(fig)"
   ]
  },
  {
   "cell_type": "markdown",
   "metadata": {
    "deletable": true,
    "editable": true
   },
   "source": [
    "#### 5 - Quarterly Closed Won ARR by Industry"
   ]
  },
  {
   "cell_type": "code",
   "execution_count": 974,
   "metadata": {
    "collapsed": false,
    "deletable": true,
    "editable": true
   },
   "outputs": [
    {
     "data": {
      "text/html": [
       "<div>\n",
       "<style>\n",
       "    .dataframe thead tr:only-child th {\n",
       "        text-align: right;\n",
       "    }\n",
       "\n",
       "    .dataframe thead th {\n",
       "        text-align: left;\n",
       "    }\n",
       "\n",
       "    .dataframe tbody tr th {\n",
       "        vertical-align: top;\n",
       "    }\n",
       "</style>\n",
       "<table border=\"1\" class=\"dataframe\">\n",
       "  <thead>\n",
       "    <tr style=\"text-align: right;\">\n",
       "      <th></th>\n",
       "      <th>Federal</th>\n",
       "      <th>Financial Services</th>\n",
       "      <th>Healthcare</th>\n",
       "      <th>Life Sciences</th>\n",
       "      <th>Other</th>\n",
       "      <th>Technology</th>\n",
       "    </tr>\n",
       "  </thead>\n",
       "  <tbody>\n",
       "    <tr>\n",
       "      <th>2017Q1</th>\n",
       "      <td>0.0</td>\n",
       "      <td>2117753.52</td>\n",
       "      <td>464686.94</td>\n",
       "      <td>0.0</td>\n",
       "      <td>260878.38</td>\n",
       "      <td>0.00</td>\n",
       "    </tr>\n",
       "    <tr>\n",
       "      <th>2017Q2</th>\n",
       "      <td>0.0</td>\n",
       "      <td>1396555.11</td>\n",
       "      <td>136785.68</td>\n",
       "      <td>0.0</td>\n",
       "      <td>908620.37</td>\n",
       "      <td>276090.56</td>\n",
       "    </tr>\n",
       "    <tr>\n",
       "      <th>2017Q3</th>\n",
       "      <td>0.0</td>\n",
       "      <td>1145457.23</td>\n",
       "      <td>306530.83</td>\n",
       "      <td>0.0</td>\n",
       "      <td>487327.57</td>\n",
       "      <td>29919.77</td>\n",
       "    </tr>\n",
       "    <tr>\n",
       "      <th>2017Q4</th>\n",
       "      <td>0.0</td>\n",
       "      <td>0.00</td>\n",
       "      <td>0.00</td>\n",
       "      <td>0.0</td>\n",
       "      <td>0.00</td>\n",
       "      <td>0.00</td>\n",
       "    </tr>\n",
       "  </tbody>\n",
       "</table>\n",
       "</div>"
      ],
      "text/plain": [
       "        Federal  Financial Services  Healthcare  Life Sciences      Other  \\\n",
       "2017Q1      0.0          2117753.52   464686.94            0.0  260878.38   \n",
       "2017Q2      0.0          1396555.11   136785.68            0.0  908620.37   \n",
       "2017Q3      0.0          1145457.23   306530.83            0.0  487327.57   \n",
       "2017Q4      0.0                0.00        0.00            0.0       0.00   \n",
       "\n",
       "        Technology  \n",
       "2017Q1        0.00  \n",
       "2017Q2   276090.56  \n",
       "2017Q3    29919.77  \n",
       "2017Q4        0.00  "
      ]
     },
     "execution_count": 974,
     "metadata": {},
     "output_type": "execute_result"
    }
   ],
   "source": [
    "qt_ind_ARR_closed"
   ]
  },
  {
   "cell_type": "code",
   "execution_count": 1013,
   "metadata": {
    "collapsed": false
   },
   "outputs": [
    {
     "data": {
      "image/png": "[encoded data removed]",
      "text/plain": [
       "<matplotlib.figure.Figure at 0x11e539850>"
      ]
     },
     "metadata": {},
     "output_type": "display_data"
    }
   ],
   "source": [
    "# create ticklabel formatter - in millions\n",
    "formatter = mtick.FuncFormatter(millions)\n",
    "\n",
    "cols = ['lightgreen','darkgreen','green','g','palegreen','honeydew']\n",
    "#cols = ['darkgreen', 'palegreen','limegreen','green','mediumseagreen','seagreen'] \n",
    "\n",
    "fig, ax = plt.subplots(figsize=(10,6))\n",
    "arr_closed_plt = qt_ind_ARR_closed.plot(kind = 'bar', stacked = True, color = cols, ax = ax) \n",
    "ax.yaxis.set_major_formatter(formatter)\n",
    "arr_closed_plt.set_ylabel('')\n",
    "# update tick labels\n",
    "xticks = [item.get_text() for item in arr_closed_plt.get_xticklabels()]\n",
    "xticks = [i[4:6] + '-' + str(i[0:4]) for i in xticks]\n",
    "arr_closed_plt.set_xticklabels(labels= xticks, rotation = 0)\n",
    "# update grid\n",
    "ax.yaxis.grid(which='major', color='gray', linestyle='-', linewidth=.25)\n",
    "ax.xaxis.grid(False)\n",
    "arr_closed_plt.legend(loc =0)\n",
    "\n",
    "plt.savefig(img_path + 'arr_closed_plt.png', format = 'png')\n",
    "plt.show(fig)"
   ]
  },
  {
   "cell_type": "code",
   "execution_count": 786,
   "metadata": {
    "collapsed": false,
    "deletable": true,
    "editable": true
   },
   "outputs": [],
   "source": [
    "# create summary tables for ARR and #of opps\n",
    "# colorscale\n",
    "colorscale = [[0, 'rgb(108,158,28)'], [.5, 'rgb(255,255,255)'], [1, 'rgb(255,255,255)']]\n",
    "\n",
    "table_arr = ff.create_table(qt_stage_ARR, index=True, colorscale=colorscale)\n",
    "table_opp = ff.create_table(qt_stage_opp, index=True, colorscale=colorscale)"
   ]
  },
  {
   "cell_type": "code",
   "execution_count": 787,
   "metadata": {
    "collapsed": false,
    "deletable": true,
    "editable": true
   },
   "outputs": [
    {
     "data": {
      "text/html": [
       "<iframe id=\"igraph\" scrolling=\"no\" style=\"border:none;\" seamless=\"seamless\" src=\"https://plot.ly/~Gabrielle.Agrocostea/20.embed?share_key=2O3eHp8VunoLOcuzAvxnoo\" height=\"200px\" width=\"100%\"></iframe>"
      ],
      "text/plain": [
       "<plotly.tools.PlotlyDisplay object>"
      ]
     },
     "execution_count": 787,
     "metadata": {},
     "output_type": "execute_result"
    }
   ],
   "source": [
    "py.iplot(table_arr)"
   ]
  },
  {
   "cell_type": "code",
   "execution_count": 457,
   "metadata": {
    "collapsed": false,
    "deletable": true,
    "editable": true
   },
   "outputs": [
    {
     "data": {
      "text/html": [
       "<iframe id=\"igraph\" scrolling=\"no\" style=\"border:none;\" seamless=\"seamless\" src=\"https://plot.ly/~Gabi/195.embed\" height=\"200px\" width=\"100%\"></iframe>"
      ],
      "text/plain": [
       "<plotly.tools.PlotlyDisplay object>"
      ]
     },
     "execution_count": 457,
     "metadata": {},
     "output_type": "execute_result"
    }
   ],
   "source": [
    "py.iplot(table_opp)"
   ]
  },
  {
   "cell_type": "code",
   "execution_count": 365,
   "metadata": {
    "collapsed": false,
    "deletable": true,
    "editable": true
   },
   "outputs": [
    {
     "data": {
      "text/html": [
       "<div>\n",
       "<table border=\"1\" class=\"dataframe\">\n",
       "  <thead>\n",
       "    <tr style=\"text-align: right;\">\n",
       "      <th></th>\n",
       "      <th>FiscalQuarter</th>\n",
       "      <th>Prospect</th>\n",
       "      <th>Qualified</th>\n",
       "      <th>Buying Process id.</th>\n",
       "      <th>Short List</th>\n",
       "      <th>Chosen Vendor</th>\n",
       "      <th>Negotiation/Review</th>\n",
       "      <th>PO In Progress</th>\n",
       "    </tr>\n",
       "  </thead>\n",
       "  <tbody>\n",
       "    <tr>\n",
       "      <th>0</th>\n",
       "      <td>2017Q1</td>\n",
       "      <td>118</td>\n",
       "      <td>264</td>\n",
       "      <td>93</td>\n",
       "      <td>67</td>\n",
       "      <td>26</td>\n",
       "      <td>23</td>\n",
       "      <td>6</td>\n",
       "    </tr>\n",
       "    <tr>\n",
       "      <th>1</th>\n",
       "      <td>2017Q2</td>\n",
       "      <td>84</td>\n",
       "      <td>336</td>\n",
       "      <td>103</td>\n",
       "      <td>68</td>\n",
       "      <td>31</td>\n",
       "      <td>18</td>\n",
       "      <td>2</td>\n",
       "    </tr>\n",
       "    <tr>\n",
       "      <th>2</th>\n",
       "      <td>2017Q3</td>\n",
       "      <td>0</td>\n",
       "      <td>489</td>\n",
       "      <td>91</td>\n",
       "      <td>74</td>\n",
       "      <td>28</td>\n",
       "      <td>15</td>\n",
       "      <td>5</td>\n",
       "    </tr>\n",
       "    <tr>\n",
       "      <th>3</th>\n",
       "      <td>2017Q4</td>\n",
       "      <td>0</td>\n",
       "      <td>0</td>\n",
       "      <td>0</td>\n",
       "      <td>0</td>\n",
       "      <td>0</td>\n",
       "      <td>0</td>\n",
       "      <td>0</td>\n",
       "    </tr>\n",
       "  </tbody>\n",
       "</table>\n",
       "</div>"
      ],
      "text/plain": [
       "  FiscalQuarter Prospect Qualified Buying Process id. Short List  \\\n",
       "0        2017Q1      118       264                 93         67   \n",
       "1        2017Q2       84       336                103         68   \n",
       "2        2017Q3        0       489                 91         74   \n",
       "3        2017Q4        0         0                  0          0   \n",
       "\n",
       "  Chosen Vendor Negotiation/Review PO In Progress  \n",
       "0            26                 23              6  \n",
       "1            31                 18              2  \n",
       "2            28                 15              5  \n",
       "3             0                  0              0  "
      ]
     },
     "execution_count": 365,
     "metadata": {},
     "output_type": "execute_result"
    }
   ],
   "source": [
    "qt_stage_opp.index.name = 'FiscalQuarter'\n",
    "qt_stage_opp = qt_stage_opp.reset_index()\n",
    "qt_stage_opp"
   ]
  },
  {
   "cell_type": "code",
   "execution_count": 706,
   "metadata": {
    "collapsed": false,
    "deletable": true,
    "editable": true
   },
   "outputs": [],
   "source": [
    "qt_stage_ARR.index.name ='FiscalQuarter'\n",
    "qt_stage_ARR = qt_stage_ARR.reset_index()\n",
    "qt_stage_ARR.FiscalQuarter = qt_stage_ARR.FiscalQuarter.map(lambda x: str(x)).map(lambda x: pd.to_datetime(x))\n",
    "qt_stage_ARR = qt_stage_ARR.set_index('FiscalQuarter')"
   ]
  },
  {
   "cell_type": "code",
   "execution_count": 702,
   "metadata": {
    "collapsed": false,
    "deletable": true,
    "editable": true
   },
   "outputs": [],
   "source": [
    "# change datatype for columns\n",
    "qt_stage_ARR[stages[:-1]] = qt_stage_ARR[stages[:-1]].applymap(lambda x: np.float(x))"
   ]
  },
  {
   "cell_type": "code",
   "execution_count": 704,
   "metadata": {
    "collapsed": false,
    "deletable": true,
    "editable": true
   },
   "outputs": [
    {
     "data": {
      "text/html": [
       "<div>\n",
       "<table border=\"1\" class=\"dataframe\">\n",
       "  <thead>\n",
       "    <tr style=\"text-align: right;\">\n",
       "      <th></th>\n",
       "      <th>Prospect</th>\n",
       "      <th>Qualified</th>\n",
       "      <th>Buying Process id.</th>\n",
       "      <th>Short List</th>\n",
       "      <th>Chosen Vendor</th>\n",
       "      <th>Negotiation/Review</th>\n",
       "      <th>PO In Progress</th>\n",
       "    </tr>\n",
       "  </thead>\n",
       "  <tbody>\n",
       "    <tr>\n",
       "      <th>2017Q1</th>\n",
       "      <td>739375.74</td>\n",
       "      <td>4197747.56</td>\n",
       "      <td>9013988.72</td>\n",
       "      <td>10307890.77</td>\n",
       "      <td>3948588.93</td>\n",
       "      <td>2671527.92</td>\n",
       "      <td>0.0</td>\n",
       "    </tr>\n",
       "    <tr>\n",
       "      <th>2017Q2</th>\n",
       "      <td>1651656.46</td>\n",
       "      <td>11772525.84</td>\n",
       "      <td>12917868.66</td>\n",
       "      <td>11803447.52</td>\n",
       "      <td>4051256.84</td>\n",
       "      <td>2854551.03</td>\n",
       "      <td>18172.4</td>\n",
       "    </tr>\n",
       "    <tr>\n",
       "      <th>2017Q3</th>\n",
       "      <td>0.00</td>\n",
       "      <td>22452663.19</td>\n",
       "      <td>14455770.09</td>\n",
       "      <td>13434413.34</td>\n",
       "      <td>3622196.14</td>\n",
       "      <td>1965934.50</td>\n",
       "      <td>463773.0</td>\n",
       "    </tr>\n",
       "    <tr>\n",
       "      <th>2017Q4</th>\n",
       "      <td>0.00</td>\n",
       "      <td>0.00</td>\n",
       "      <td>0.00</td>\n",
       "      <td>0.00</td>\n",
       "      <td>0.00</td>\n",
       "      <td>0.00</td>\n",
       "      <td>0.0</td>\n",
       "    </tr>\n",
       "  </tbody>\n",
       "</table>\n",
       "</div>"
      ],
      "text/plain": [
       "          Prospect    Qualified  Buying Process id.   Short List  \\\n",
       "2017Q1   739375.74   4197747.56          9013988.72  10307890.77   \n",
       "2017Q2  1651656.46  11772525.84         12917868.66  11803447.52   \n",
       "2017Q3        0.00  22452663.19         14455770.09  13434413.34   \n",
       "2017Q4        0.00         0.00                0.00         0.00   \n",
       "\n",
       "        Chosen Vendor  Negotiation/Review  PO In Progress  \n",
       "2017Q1     3948588.93          2671527.92             0.0  \n",
       "2017Q2     4051256.84          2854551.03         18172.4  \n",
       "2017Q3     3622196.14          1965934.50        463773.0  \n",
       "2017Q4           0.00                0.00             0.0  "
      ]
     },
     "execution_count": 704,
     "metadata": {},
     "output_type": "execute_result"
    }
   ],
   "source": [
    "qt_stage_ARR"
   ]
  },
  {
   "cell_type": "markdown",
   "metadata": {
    "deletable": true,
    "editable": true
   },
   "source": [
    "### Bar chart for ARR using Plotly"
   ]
  },
  {
   "cell_type": "code",
   "execution_count": 773,
   "metadata": {
    "collapsed": true,
    "deletable": true,
    "editable": true
   },
   "outputs": [],
   "source": [
    "# use custom quarter labels for x-axis (string)\n",
    "def convert_qt_labels(label_list):\n",
    "    qt_labels = [str(i) for i in label_list]\n",
    "    qt_labels = [i[4:6]+'-'+i[0:4] for i in qt_labels]\n",
    "    return qt_labels "
   ]
  },
  {
   "cell_type": "code",
   "execution_count": 788,
   "metadata": {
    "collapsed": false,
    "deletable": true,
    "editable": true
   },
   "outputs": [
    {
     "name": "stdout",
     "output_type": "stream",
     "text": [
      "labels [Period('2017Q1', 'Q-SEP'), Period('2017Q2', 'Q-SEP'), Period('2017Q3', 'Q-SEP'), Period('2017Q4', 'Q-SEP')]\n",
      "converted ['Q1-2017', 'Q2-2017', 'Q3-2017', 'Q4-2017']\n",
      "keys [Period('2017Q1', 'Q-SEP'), Period('2017Q2', 'Q-SEP'), Period('2017Q3', 'Q-SEP'), Period('2017Q4', 'Q-SEP')]\n",
      "converted keys ['Q1-2017', 'Q2-2017', 'Q3-2017', 'Q4-2017']\n"
     ]
    }
   ],
   "source": [
    "print  'labels', qt_stage_ARR.index.tolist()\n",
    "print 'converted', convert_qt_labels(qt_stage_ARR.index.tolist())\n",
    "print 'keys', qt_rpt_dates.keys()\n",
    "print 'converted keys', convert_qt_labels(qt_rpt_dates.keys())\n"
   ]
  },
  {
   "cell_type": "code",
   "execution_count": 766,
   "metadata": {
    "collapsed": false,
    "deletable": true,
    "editable": true
   },
   "outputs": [],
   "source": [
    "# plotly (D3) doesnt accept period index or datetime objects\n",
    "# use custom quarter labels for x-axis (string)\n",
    "quarter_labels = [str(i) for i in qt_rpt_dates.keys()]\n",
    "quarter_labels = [i[4:6]+'-'+i[0:4] for i in quarter_labels]\n",
    "print quarter_labels \n",
    "\n",
    "# plot ARR by Stage and create table\n",
    "data = []\n",
    "color_pal = greens[1:]\n",
    "for ix, col in enumerate(qt_stage_ARR):\n",
    "    trace = go.Bar(y= qt_stage_ARR[col], x = quarter_labels, name = col,\n",
    "#     trace = go.Bar(y= qt_stage_ARR[col],x = qt_stage_ARR.index, name = col,\n",
    "                   marker=go.Marker(color=color_pal[ix]))\n",
    "    data.append(trace)"
   ]
  },
  {
   "cell_type": "code",
   "execution_count": 767,
   "metadata": {
    "collapsed": false,
    "deletable": true,
    "editable": true
   },
   "outputs": [
    {
     "data": {
      "text/plain": [
       "[{'marker': {'color': 'rgb(229,245,224)'},\n",
       "  'name': 'Prospect',\n",
       "  'type': 'bar',\n",
       "  'x': ['Q1-2017', 'Q2-2017', 'Q3-2017', 'Q4-2017'],\n",
       "  'y': FiscalQuarter\n",
       "  2017-01-01     739375.74\n",
       "  2017-04-01    1651656.46\n",
       "  2017-07-01          0.00\n",
       "  2017-10-01          0.00\n",
       "  Name: Prospect, dtype: float64},\n",
       " {'marker': {'color': 'rgb(199,233,192)'},\n",
       "  'name': 'Qualified',\n",
       "  'type': 'bar',\n",
       "  'x': ['Q1-2017', 'Q2-2017', 'Q3-2017', 'Q4-2017'],\n",
       "  'y': FiscalQuarter\n",
       "  2017-01-01     4197747.56\n",
       "  2017-04-01    11772525.84\n",
       "  2017-07-01    22452663.19\n",
       "  2017-10-01           0.00\n",
       "  Name: Qualified, dtype: float64},\n",
       " {'marker': {'color': 'rgb(161,217,155)'},\n",
       "  'name': 'Buying Process id.',\n",
       "  'type': 'bar',\n",
       "  'x': ['Q1-2017', 'Q2-2017', 'Q3-2017', 'Q4-2017'],\n",
       "  'y': FiscalQuarter\n",
       "  2017-01-01     9013988.72\n",
       "  2017-04-01    12917868.66\n",
       "  2017-07-01    14455770.09\n",
       "  2017-10-01           0.00\n",
       "  Name: Buying Process id., dtype: float64},\n",
       " {'marker': {'color': 'rgb(116,196,118)'},\n",
       "  'name': 'Short List',\n",
       "  'type': 'bar',\n",
       "  'x': ['Q1-2017', 'Q2-2017', 'Q3-2017', 'Q4-2017'],\n",
       "  'y': FiscalQuarter\n",
       "  2017-01-01    10307890.77\n",
       "  2017-04-01    11803447.52\n",
       "  2017-07-01    13434413.34\n",
       "  2017-10-01           0.00\n",
       "  Name: Short List, dtype: float64},\n",
       " {'marker': {'color': 'rgb(65,171,93)'},\n",
       "  'name': 'Chosen Vendor',\n",
       "  'type': 'bar',\n",
       "  'x': ['Q1-2017', 'Q2-2017', 'Q3-2017', 'Q4-2017'],\n",
       "  'y': FiscalQuarter\n",
       "  2017-01-01    3948588.93\n",
       "  2017-04-01    4051256.84\n",
       "  2017-07-01    3622196.14\n",
       "  2017-10-01          0.00\n",
       "  Name: Chosen Vendor, dtype: float64},\n",
       " {'marker': {'color': 'rgb(35,139,69)'},\n",
       "  'name': 'Negotiation/Review',\n",
       "  'type': 'bar',\n",
       "  'x': ['Q1-2017', 'Q2-2017', 'Q3-2017', 'Q4-2017'],\n",
       "  'y': FiscalQuarter\n",
       "  2017-01-01    2671527.92\n",
       "  2017-04-01    2854551.03\n",
       "  2017-07-01    1965934.50\n",
       "  2017-10-01          0.00\n",
       "  Name: Negotiation/Review, dtype: float64},\n",
       " {'marker': {'color': 'rgb(0,109,44)'},\n",
       "  'name': 'PO In Progress',\n",
       "  'type': 'bar',\n",
       "  'x': ['Q1-2017', 'Q2-2017', 'Q3-2017', 'Q4-2017'],\n",
       "  'y': FiscalQuarter\n",
       "  2017-01-01         0.0\n",
       "  2017-04-01     18172.4\n",
       "  2017-07-01    463773.0\n",
       "  2017-10-01         0.0\n",
       "  Name: PO In Progress, dtype: float64}]"
      ]
     },
     "execution_count": 767,
     "metadata": {},
     "output_type": "execute_result"
    }
   ],
   "source": [
    "data"
   ]
  },
  {
   "cell_type": "code",
   "execution_count": null,
   "metadata": {
    "collapsed": true,
    "deletable": true,
    "editable": true
   },
   "outputs": [],
   "source": [
    "# set color\n",
    "greens = cl.scales['9']['seq']['Greens']\n",
    "HTML( cl.to_html(greens))"
   ]
  },
  {
   "cell_type": "code",
   "execution_count": 768,
   "metadata": {
    "collapsed": false,
    "deletable": true,
    "editable": true
   },
   "outputs": [],
   "source": [
    "r = sorted(qt_rpt_dates.keys())\n",
    "r = [i.strftime('%F-Q%q') for i in r]\n",
    "\n",
    "# set layout - axes title\n",
    "layout = go.Layout(\n",
    "    barmode='stack',\n",
    "    xaxis = dict(title = 'Fiscal Quarter', ticktext = quarter_labels, type='category'), # ,range = [r],tickformat ='%b-%Y' ,type = 'category'), #, ticktext = quarter_labels),\n",
    "    yaxis = dict(title = 'ARR (EURO)'),\n",
    "    title='Quarterly ARR by Stage'\n",
    ")"
   ]
  },
  {
   "cell_type": "code",
   "execution_count": 769,
   "metadata": {
    "collapsed": false,
    "deletable": true,
    "editable": true
   },
   "outputs": [
    {
     "data": {
      "text/html": [
       "<iframe id=\"igraph\" scrolling=\"no\" style=\"border:none;\" seamless=\"seamless\" src=\"https://plot.ly/~Gabrielle.Agrocostea/18.embed?share_key=ivo4XB9tNH7jv8KdBq274U\" height=\"525px\" width=\"100%\"></iframe>"
      ],
      "text/plain": [
       "<plotly.tools.PlotlyDisplay object>"
      ]
     },
     "execution_count": 769,
     "metadata": {},
     "output_type": "execute_result"
    }
   ],
   "source": [
    "# display plot\n",
    "fig = go.Figure(data = data, layout=layout)\n",
    "py.iplot(fig)"
   ]
  },
  {
   "cell_type": "markdown",
   "metadata": {
    "deletable": true,
    "editable": true
   },
   "source": [
    "### Bar chart for opportunities using Plotly"
   ]
  },
  {
   "cell_type": "code",
   "execution_count": 473,
   "metadata": {
    "collapsed": false,
    "deletable": true,
    "editable": true
   },
   "outputs": [],
   "source": [
    "# change datatype for columns\n",
    "qt_stage_opp[stages[:-1]] = qt_stage_opp[stages[:-1]].applymap(lambda x: np.int(x))"
   ]
  },
  {
   "cell_type": "code",
   "execution_count": null,
   "metadata": {
    "collapsed": true,
    "deletable": true,
    "editable": true
   },
   "outputs": [],
   "source": [
    "qt_stage_opp = qt_stage_opp.reset_index()"
   ]
  },
  {
   "cell_type": "code",
   "execution_count": 474,
   "metadata": {
    "collapsed": false,
    "deletable": true,
    "editable": true
   },
   "outputs": [
    {
     "data": {
      "text/html": [
       "<div>\n",
       "<table border=\"1\" class=\"dataframe\">\n",
       "  <thead>\n",
       "    <tr style=\"text-align: right;\">\n",
       "      <th></th>\n",
       "      <th>FiscalQuarter</th>\n",
       "      <th>Prospect</th>\n",
       "      <th>Qualified</th>\n",
       "      <th>Buying Process id.</th>\n",
       "      <th>Short List</th>\n",
       "      <th>Chosen Vendor</th>\n",
       "      <th>Negotiation/Review</th>\n",
       "      <th>PO In Progress</th>\n",
       "    </tr>\n",
       "  </thead>\n",
       "  <tbody>\n",
       "    <tr>\n",
       "      <th>0</th>\n",
       "      <td>2017Q1</td>\n",
       "      <td>118</td>\n",
       "      <td>264</td>\n",
       "      <td>93</td>\n",
       "      <td>67</td>\n",
       "      <td>26</td>\n",
       "      <td>23</td>\n",
       "      <td>6</td>\n",
       "    </tr>\n",
       "    <tr>\n",
       "      <th>1</th>\n",
       "      <td>2017Q2</td>\n",
       "      <td>84</td>\n",
       "      <td>336</td>\n",
       "      <td>103</td>\n",
       "      <td>68</td>\n",
       "      <td>31</td>\n",
       "      <td>18</td>\n",
       "      <td>2</td>\n",
       "    </tr>\n",
       "    <tr>\n",
       "      <th>2</th>\n",
       "      <td>2017Q3</td>\n",
       "      <td>0</td>\n",
       "      <td>489</td>\n",
       "      <td>91</td>\n",
       "      <td>74</td>\n",
       "      <td>28</td>\n",
       "      <td>15</td>\n",
       "      <td>5</td>\n",
       "    </tr>\n",
       "    <tr>\n",
       "      <th>3</th>\n",
       "      <td>2017Q4</td>\n",
       "      <td>0</td>\n",
       "      <td>0</td>\n",
       "      <td>0</td>\n",
       "      <td>0</td>\n",
       "      <td>0</td>\n",
       "      <td>0</td>\n",
       "      <td>0</td>\n",
       "    </tr>\n",
       "  </tbody>\n",
       "</table>\n",
       "</div>"
      ],
      "text/plain": [
       "  FiscalQuarter  Prospect  Qualified  Buying Process id.  Short List  \\\n",
       "0        2017Q1       118        264                  93          67   \n",
       "1        2017Q2        84        336                 103          68   \n",
       "2        2017Q3         0        489                  91          74   \n",
       "3        2017Q4         0          0                   0           0   \n",
       "\n",
       "   Chosen Vendor  Negotiation/Review  PO In Progress  \n",
       "0             26                  23               6  \n",
       "1             31                  18               2  \n",
       "2             28                  15               5  \n",
       "3              0                   0               0  "
      ]
     },
     "execution_count": 474,
     "metadata": {},
     "output_type": "execute_result"
    }
   ],
   "source": [
    "qt_stage_opp"
   ]
  },
  {
   "cell_type": "code",
   "execution_count": 475,
   "metadata": {
    "collapsed": false,
    "deletable": true,
    "editable": true
   },
   "outputs": [],
   "source": [
    "qt_stage_opp.FiscalQuarter = qt_stage_opp.FiscalQuarter.map(lambda x: str(x)).map(lambda x: pd.to_datetime(x))\n",
    "qt_stage_opp = qt_stage_opp.set_index('FiscalQuarter')"
   ]
  },
  {
   "cell_type": "code",
   "execution_count": 477,
   "metadata": {
    "collapsed": false,
    "deletable": true,
    "editable": true
   },
   "outputs": [
    {
     "data": {
      "text/plain": [
       "DatetimeIndex(['2017-01-01', '2017-04-01', '2017-07-01', '2017-10-01'], dtype='datetime64[ns]', name=u'FiscalQuarter', freq=None)"
      ]
     },
     "execution_count": 477,
     "metadata": {},
     "output_type": "execute_result"
    }
   ],
   "source": [
    "qt_stage_opp.index"
   ]
  },
  {
   "cell_type": "code",
   "execution_count": 479,
   "metadata": {
    "collapsed": true,
    "deletable": true,
    "editable": true
   },
   "outputs": [],
   "source": [
    "# plot # of Opps by Stage and create table\n",
    "data = []\n",
    "color_pal = greens[1:]\n",
    "for ix, col in enumerate(qt_stage_opp):\n",
    "    trace = go.Bar(y= qt_stage_opp[col],x = quarter_labels, name = col,\n",
    "#     trace = go.Bar(y= qt_stage_opp[col],x = qt_stage_opp.index, name = col,\n",
    "                   marker=go.Marker(color=color_pal[ix]))\n",
    "    data.append(trace)"
   ]
  },
  {
   "cell_type": "code",
   "execution_count": 483,
   "metadata": {
    "collapsed": false,
    "deletable": true,
    "editable": true
   },
   "outputs": [],
   "source": [
    "r = sorted(qt_rpt_dates.keys())\n",
    "r = [i.strftime('%F-Q%q') for i in r]\n",
    "\n",
    "# set layout - axes title\n",
    "layout = go.Layout(\n",
    "    barmode='stack',\n",
    "    xaxis = dict(title = 'Fiscal Quarter', range = [r], ticktext = quarter_labels, type = 'category') ,#tickformat ='%b-%Y' ),\n",
    "    yaxis = dict(title = 'ARR (EURO)'),\n",
    "    title='Quarterly Number of Opportunities by Stage'\n",
    ")"
   ]
  },
  {
   "cell_type": "code",
   "execution_count": 484,
   "metadata": {
    "collapsed": false,
    "deletable": true,
    "editable": true
   },
   "outputs": [
    {
     "data": {
      "text/html": [
       "<iframe id=\"igraph\" scrolling=\"no\" style=\"border:none;\" seamless=\"seamless\" src=\"https://plot.ly/~Gabi/199.embed\" height=\"525px\" width=\"100%\"></iframe>"
      ],
      "text/plain": [
       "<plotly.tools.PlotlyDisplay object>"
      ]
     },
     "execution_count": 484,
     "metadata": {},
     "output_type": "execute_result"
    }
   ],
   "source": [
    "# display plot\n",
    "fig_opp = go.Figure(data = data, layout=layout)\n",
    "py.iplot(fig_opp)"
   ]
  },
  {
   "cell_type": "markdown",
   "metadata": {
    "deletable": true,
    "editable": true
   },
   "source": [
    "### Using Matplotlib"
   ]
  },
  {
   "cell_type": "code",
   "execution_count": 396,
   "metadata": {
    "collapsed": false,
    "deletable": true,
    "editable": true
   },
   "outputs": [],
   "source": [
    "qt_stage_ARR.index = sorted(qt_rpt_dates.keys())"
   ]
  },
  {
   "cell_type": "code",
   "execution_count": 397,
   "metadata": {
    "collapsed": false,
    "deletable": true,
    "editable": true
   },
   "outputs": [
    {
     "data": {
      "text/html": [
       "<div>\n",
       "<table border=\"1\" class=\"dataframe\">\n",
       "  <thead>\n",
       "    <tr style=\"text-align: right;\">\n",
       "      <th></th>\n",
       "      <th>Prospect</th>\n",
       "      <th>Qualified</th>\n",
       "      <th>Buying Process id.</th>\n",
       "      <th>Short List</th>\n",
       "      <th>Chosen Vendor</th>\n",
       "      <th>Negotiation/Review</th>\n",
       "      <th>PO In Progress</th>\n",
       "    </tr>\n",
       "  </thead>\n",
       "  <tbody>\n",
       "    <tr>\n",
       "      <th>2017Q1</th>\n",
       "      <td>739375.74</td>\n",
       "      <td>4197747.56</td>\n",
       "      <td>9013988.72</td>\n",
       "      <td>10307890.77</td>\n",
       "      <td>3948588.93</td>\n",
       "      <td>2671527.92</td>\n",
       "      <td>0.0</td>\n",
       "    </tr>\n",
       "    <tr>\n",
       "      <th>2017Q2</th>\n",
       "      <td>1651656.46</td>\n",
       "      <td>11772525.84</td>\n",
       "      <td>12917868.66</td>\n",
       "      <td>11803447.52</td>\n",
       "      <td>4051256.84</td>\n",
       "      <td>2854551.03</td>\n",
       "      <td>18172.4</td>\n",
       "    </tr>\n",
       "    <tr>\n",
       "      <th>2017Q3</th>\n",
       "      <td>0.00</td>\n",
       "      <td>22452663.19</td>\n",
       "      <td>14455770.09</td>\n",
       "      <td>13434413.34</td>\n",
       "      <td>3622196.14</td>\n",
       "      <td>1965934.50</td>\n",
       "      <td>463773.0</td>\n",
       "    </tr>\n",
       "    <tr>\n",
       "      <th>2017Q4</th>\n",
       "      <td>0.00</td>\n",
       "      <td>0.00</td>\n",
       "      <td>0.00</td>\n",
       "      <td>0.00</td>\n",
       "      <td>0.00</td>\n",
       "      <td>0.00</td>\n",
       "      <td>0.0</td>\n",
       "    </tr>\n",
       "  </tbody>\n",
       "</table>\n",
       "</div>"
      ],
      "text/plain": [
       "          Prospect    Qualified  Buying Process id.   Short List  \\\n",
       "2017Q1   739375.74   4197747.56          9013988.72  10307890.77   \n",
       "2017Q2  1651656.46  11772525.84         12917868.66  11803447.52   \n",
       "2017Q3        0.00  22452663.19         14455770.09  13434413.34   \n",
       "2017Q4        0.00         0.00                0.00         0.00   \n",
       "\n",
       "        Chosen Vendor  Negotiation/Review  PO In Progress  \n",
       "2017Q1     3948588.93          2671527.92             0.0  \n",
       "2017Q2     4051256.84          2854551.03         18172.4  \n",
       "2017Q3     3622196.14          1965934.50        463773.0  \n",
       "2017Q4           0.00                0.00             0.0  "
      ]
     },
     "execution_count": 397,
     "metadata": {},
     "output_type": "execute_result"
    }
   ],
   "source": [
    "qt_stage_ARR"
   ]
  },
  {
   "cell_type": "code",
   "execution_count": 430,
   "metadata": {
    "collapsed": false,
    "deletable": true,
    "editable": true
   },
   "outputs": [
    {
     "data": {
      "image/png": "[encoded data removed]",
      "text/plain": [
       "<matplotlib.figure.Figure at 0x113833450>"
      ]
     },
     "metadata": {},
     "output_type": "display_data"
    }
   ],
   "source": [
    "# using matplotlib\n",
    "\n",
    "# create ticklabel formatter - in millions\n",
    "formatter = mtick.FuncFormatter(millions)\n",
    "\n",
    "fig, ax = plt.subplots(figsize=(10,6))\n",
    "arr_plt = qt_stage_ARR.plot(kind = 'bar', stacked = True, color = sns.light_palette('green',7), ax = ax, title = 'Quarterly ARR (EURO) by Stage')\n",
    "ax.yaxis.set_major_formatter(formatter)\n",
    "arr_plt.set_ylabel('ARR (EURO)')\n",
    "xticks = [item.get_text() for item in arr_plt.get_xticklabels()]\n",
    "arr_plt.set_xticklabels(labels= xticks, rotation = 0)\n",
    "arr_plt.legend(loc =0)\n",
    "plt.show(fig)"
   ]
  },
  {
   "cell_type": "code",
   "execution_count": 439,
   "metadata": {
    "collapsed": false,
    "deletable": true,
    "editable": true
   },
   "outputs": [
    {
     "data": {
      "text/plain": [
       "PeriodIndex(['2017Q1', '2017Q2', '2017Q3', '2017Q4'], dtype='period[Q-SEP]', name=u'FiscalQuarter', freq='Q-SEP')"
      ]
     },
     "execution_count": 439,
     "metadata": {},
     "output_type": "execute_result"
    }
   ],
   "source": [
    "qt_stage_opp.set_index('FiscalQuarter',inplace = True) # = sorted(qt_rpt_dates.keys())\n",
    "qt_stage_opp.index"
   ]
  },
  {
   "cell_type": "code",
   "execution_count": 440,
   "metadata": {
    "collapsed": false,
    "deletable": true,
    "editable": true
   },
   "outputs": [
    {
     "data": {
      "image/png": "[encoded data removed]",
      "text/plain": [
       "<matplotlib.figure.Figure at 0x1136f30d0>"
      ]
     },
     "metadata": {},
     "output_type": "display_data"
    }
   ],
   "source": [
    "fig, ax = plt.subplots(figsize=(10,6))\n",
    "num_opps_plt = qt_stage_opp.plot(kind = 'bar', stacked = True, color = sns.light_palette('green',7), \n",
    "                            ax = ax,1`rf title = 'Quarterly # of Opportunities in Pipeline by Stage')\n",
    "# ax.yaxis.set_major_formatter(formatter)\n",
    "num_opps_plt.set_ylabel('')\n",
    "xticks = [item.get_text() for item in num_opps_plt.get_xticklabels()]\n",
    "num_opps_plt.set_xticklabels(labels= xticks, rotation = 0)\n",
    "num_opps_plt.legend(loc =0)\n",
    "plt.show(fig)"
   ]
  },
  {
   "cell_type": "markdown",
   "metadata": {
    "deletable": true,
    "editable": true
   },
   "source": [
    "## Plotly Dashboard"
   ]
  },
  {
   "cell_type": "code",
   "execution_count": 452,
   "metadata": {
    "collapsed": false,
    "deletable": true,
    "editable": true
   },
   "outputs": [
    {
     "data": {
      "text/html": [
       "\n",
       "<!DOCTYPE HTML>\n",
       "<html>\n",
       "  <head>\n",
       "    <style>\n",
       "      body {\n",
       "        margin: 0px;\n",
       "        padding: 0px;\n",
       "      }\n",
       "    </style>\n",
       "  </head>\n",
       "  <body>\n",
       "    <canvas id=\"myCanvas\" width=\"400\" height=\"400\"></canvas>\n",
       "    <script>\n",
       "      var canvas = document.getElementById('myCanvas');\n",
       "      var context = canvas.getContext('2d');\n",
       "      <!-- Dashboard -->\n",
       "      context.beginPath();\n",
       "      context.rect(0, 0, 400, 400);\n",
       "      context.lineWidth = 2;\n",
       "      context.strokeStyle = 'black';\n",
       "      context.stroke();\n",
       "      </script>\n",
       "  </body>\n",
       "</html>\n"
      ],
      "text/plain": [
       "<IPython.core.display.HTML object>"
      ]
     },
     "execution_count": 452,
     "metadata": {},
     "output_type": "execute_result"
    }
   ],
   "source": [
    "import plotly.dashboard_objs as dashboard\n",
    "import IPython.display\n",
    "from IPython.display import Image\n",
    " \n",
    "my_dboard = dashboard.Dashboard()\n",
    "my_dboard.get_preview()"
   ]
  },
  {
   "cell_type": "code",
   "execution_count": null,
   "metadata": {
    "collapsed": true,
    "deletable": true,
    "editable": true
   },
   "outputs": [],
   "source": []
  },
  {
   "cell_type": "code",
   "execution_count": 453,
   "metadata": {
    "collapsed": true,
    "deletable": true,
    "editable": true
   },
   "outputs": [],
   "source": [
    "arr_table = {\n",
    "    'type': 'box',\n",
    "    'boxType': 'plot',\n",
    "    'fileId': 'Gabi:183',\n",
    "    'title': 'Arr by Stage'\n",
    "}\n",
    "\n",
    "arr_bar = {\n",
    "    'type': 'box',\n",
    "    'boxType': 'plot',\n",
    "    'fileId': 'Gabi:187',\n",
    "    'title': 'ARR (EUR) by Stage - Fiscal Year 2017'\n",
    "}\n"
   ]
  },
  {
   "cell_type": "code",
   "execution_count": 454,
   "metadata": {
    "collapsed": true,
    "deletable": true,
    "editable": true
   },
   "outputs": [],
   "source": [
    "my_dboard.insert(arr_table)"
   ]
  },
  {
   "cell_type": "code",
   "execution_count": 455,
   "metadata": {
    "collapsed": false,
    "deletable": true,
    "editable": true
   },
   "outputs": [],
   "source": [
    "my_dboard.insert(arr_bar, 'below',1)"
   ]
  },
  {
   "cell_type": "code",
   "execution_count": 456,
   "metadata": {
    "collapsed": false,
    "deletable": true,
    "editable": true
   },
   "outputs": [
    {
     "data": {
      "text/plain": [
       "u'https://plot.ly/~Gabi/194/untitled-dashboard/'"
      ]
     },
     "execution_count": 456,
     "metadata": {},
     "output_type": "execute_result"
    }
   ],
   "source": [
    "py.dashboard_ops.upload(my_dboard, 'My First Dashboard with Python')"
   ]
  },
  {
   "cell_type": "code",
   "execution_count": null,
   "metadata": {
    "collapsed": true,
    "deletable": true,
    "editable": true
   },
   "outputs": [],
   "source": [
    "# Quarterly summary\n",
    "# excludes closed won\n",
    "\n",
    "# DataFrame for Quarterly ARR by stage for 2017\n",
    "qt_ind_stage_ARR = pd.DataFrame(columns = stages[:-1], index = sorted(qt_rpt_dates.keys()))\n",
    "# DataFrame for Quarterly opps by stage\n",
    "# qt_stage_opp = pd.DataFrame(columns= stages[:-1], index = sorted(qt_rpt_dates.keys()))\n",
    "\n",
    "for q in sorted(qt_rpt_dates.keys()):\n",
    "    for s in stages[:-1]:\n",
    "        temp = snap_data[(snap_data.Report_Date__c == qt_rpt_dates.get(q)) & (snap_data.Stage__c == s)]\n",
    "        # ARR EURO\n",
    "        arr = temp.ARR_Delta_EURO__c.sum()\n",
    "        qt_stage_ARR.ix[q][s] = arr\n",
    "        # number of opportunities\n",
    "        num_opps = temp.Opportunity_ID__c.count()\n",
    "        qt_stage_opp.ix[q][s] = num_opps"
   ]
  },
  {
   "cell_type": "code",
   "execution_count": 497,
   "metadata": {
    "collapsed": false,
    "deletable": true,
    "editable": true
   },
   "outputs": [
    {
     "data": {
      "text/html": [
       "<div>\n",
       "<table border=\"1\" class=\"dataframe\">\n",
       "  <thead>\n",
       "    <tr style=\"text-align: right;\">\n",
       "      <th></th>\n",
       "      <th>Prospect</th>\n",
       "      <th>Qualified</th>\n",
       "      <th>Buying Process id.</th>\n",
       "      <th>Short List</th>\n",
       "      <th>Chosen Vendor</th>\n",
       "      <th>Negotiation/Review</th>\n",
       "      <th>PO In Progress</th>\n",
       "    </tr>\n",
       "  </thead>\n",
       "  <tbody>\n",
       "    <tr>\n",
       "      <th>2017Q1</th>\n",
       "      <td>739375.74</td>\n",
       "      <td>4197747.56</td>\n",
       "      <td>9013988.72</td>\n",
       "      <td>10307890.77</td>\n",
       "      <td>3948588.93</td>\n",
       "      <td>2671527.92</td>\n",
       "      <td>0.0</td>\n",
       "    </tr>\n",
       "    <tr>\n",
       "      <th>2017Q2</th>\n",
       "      <td>1651656.46</td>\n",
       "      <td>11772525.84</td>\n",
       "      <td>12917868.66</td>\n",
       "      <td>11803447.52</td>\n",
       "      <td>4051256.84</td>\n",
       "      <td>2854551.03</td>\n",
       "      <td>18172.4</td>\n",
       "    </tr>\n",
       "    <tr>\n",
       "      <th>2017Q3</th>\n",
       "      <td>0.00</td>\n",
       "      <td>22452663.19</td>\n",
       "      <td>14455770.09</td>\n",
       "      <td>13434413.34</td>\n",
       "      <td>3622196.14</td>\n",
       "      <td>1965934.50</td>\n",
       "      <td>463773.0</td>\n",
       "    </tr>\n",
       "    <tr>\n",
       "      <th>2017Q4</th>\n",
       "      <td>0.00</td>\n",
       "      <td>0.00</td>\n",
       "      <td>0.00</td>\n",
       "      <td>0.00</td>\n",
       "      <td>0.00</td>\n",
       "      <td>0.00</td>\n",
       "      <td>0.0</td>\n",
       "    </tr>\n",
       "  </tbody>\n",
       "</table>\n",
       "</div>"
      ],
      "text/plain": [
       "          Prospect    Qualified  Buying Process id.   Short List  \\\n",
       "2017Q1   739375.74   4197747.56          9013988.72  10307890.77   \n",
       "2017Q2  1651656.46  11772525.84         12917868.66  11803447.52   \n",
       "2017Q3        0.00  22452663.19         14455770.09  13434413.34   \n",
       "2017Q4        0.00         0.00                0.00         0.00   \n",
       "\n",
       "        Chosen Vendor  Negotiation/Review  PO In Progress  \n",
       "2017Q1     3948588.93          2671527.92             0.0  \n",
       "2017Q2     4051256.84          2854551.03         18172.4  \n",
       "2017Q3     3622196.14          1965934.50        463773.0  \n",
       "2017Q4           0.00                0.00             0.0  "
      ]
     },
     "execution_count": 497,
     "metadata": {},
     "output_type": "execute_result"
    }
   ],
   "source": [
    "qt_stage_ARR"
   ]
  },
  {
   "cell_type": "code",
   "execution_count": 532,
   "metadata": {
    "collapsed": false,
    "deletable": true,
    "editable": true
   },
   "outputs": [],
   "source": [
    "ind = snap_data.sort_values(by=['quarter','stage_order']).groupby(['quarter','stage_order','Stage__c','grouped_industry']).ARR_Delta_EURO__c.sum()"
   ]
  },
  {
   "cell_type": "code",
   "execution_count": 542,
   "metadata": {
    "collapsed": false,
    "deletable": true,
    "editable": true
   },
   "outputs": [],
   "source": [
    "ind.fillna(0,inplace=True)"
   ]
  },
  {
   "cell_type": "code",
   "execution_count": 573,
   "metadata": {
    "collapsed": false,
    "deletable": true,
    "editable": true
   },
   "outputs": [],
   "source": [
    "ind_dat = ind.unstack().reset_index(level=1)"
   ]
  },
  {
   "cell_type": "code",
   "execution_count": 574,
   "metadata": {
    "collapsed": false,
    "deletable": true,
    "editable": true
   },
   "outputs": [],
   "source": [
    "ind_dat.drop('stage_order',axis=1,inplace=True)\n",
    "ind_dat.fillna(0, inplace=True)"
   ]
  },
  {
   "cell_type": "code",
   "execution_count": 575,
   "metadata": {
    "collapsed": true,
    "deletable": true,
    "editable": true
   },
   "outputs": [],
   "source": [
    "ind_dat.index.levels[0].name = 'FiscalQuarter'\n",
    "ind_dat = ind_dat.reset_index(level=0)"
   ]
  },
  {
   "cell_type": "code",
   "execution_count": 577,
   "metadata": {
    "collapsed": true,
    "deletable": true,
    "editable": true
   },
   "outputs": [],
   "source": [
    "ind_dat.FiscalQuarter = ind_dat.FiscalQuarter.map(lambda x: str(x)).map(lambda x: pd.to_datetime(x))\n"
   ]
  },
  {
   "cell_type": "code",
   "execution_count": 579,
   "metadata": {
    "collapsed": false,
    "deletable": true,
    "editable": true
   },
   "outputs": [],
   "source": [
    "ind_dat.set_index('FiscalQuarter',inplace=True)"
   ]
  },
  {
   "cell_type": "code",
   "execution_count": 583,
   "metadata": {
    "collapsed": false,
    "deletable": true,
    "editable": true
   },
   "outputs": [
    {
     "data": {
      "text/html": [
       "<div>\n",
       "<table border=\"1\" class=\"dataframe\">\n",
       "  <thead>\n",
       "    <tr style=\"text-align: right;\">\n",
       "      <th>grouped_industry</th>\n",
       "      <th>Federal</th>\n",
       "      <th>Financial Services</th>\n",
       "      <th>Healthcare</th>\n",
       "      <th>Life Sciences</th>\n",
       "      <th>Other</th>\n",
       "      <th>Technology</th>\n",
       "    </tr>\n",
       "    <tr>\n",
       "      <th>FiscalQuarter</th>\n",
       "      <th></th>\n",
       "      <th></th>\n",
       "      <th></th>\n",
       "      <th></th>\n",
       "      <th></th>\n",
       "      <th></th>\n",
       "    </tr>\n",
       "  </thead>\n",
       "  <tbody>\n",
       "    <tr>\n",
       "      <th>2016-01-01</th>\n",
       "      <td>0.0</td>\n",
       "      <td>0.0</td>\n",
       "      <td>0.0</td>\n",
       "      <td>0.0</td>\n",
       "      <td>0.0</td>\n",
       "      <td>0.0</td>\n",
       "    </tr>\n",
       "    <tr>\n",
       "      <th>2016-01-01</th>\n",
       "      <td>0.0</td>\n",
       "      <td>0.0</td>\n",
       "      <td>0.0</td>\n",
       "      <td>0.0</td>\n",
       "      <td>0.0</td>\n",
       "      <td>0.0</td>\n",
       "    </tr>\n",
       "    <tr>\n",
       "      <th>2016-01-01</th>\n",
       "      <td>0.0</td>\n",
       "      <td>0.0</td>\n",
       "      <td>0.0</td>\n",
       "      <td>0.0</td>\n",
       "      <td>0.0</td>\n",
       "      <td>0.0</td>\n",
       "    </tr>\n",
       "    <tr>\n",
       "      <th>2016-01-01</th>\n",
       "      <td>0.0</td>\n",
       "      <td>0.0</td>\n",
       "      <td>0.0</td>\n",
       "      <td>0.0</td>\n",
       "      <td>0.0</td>\n",
       "      <td>0.0</td>\n",
       "    </tr>\n",
       "    <tr>\n",
       "      <th>2016-01-01</th>\n",
       "      <td>0.0</td>\n",
       "      <td>0.0</td>\n",
       "      <td>0.0</td>\n",
       "      <td>0.0</td>\n",
       "      <td>0.0</td>\n",
       "      <td>0.0</td>\n",
       "    </tr>\n",
       "  </tbody>\n",
       "</table>\n",
       "</div>"
      ],
      "text/plain": [
       "grouped_industry  Federal  Financial Services  Healthcare  Life Sciences  \\\n",
       "FiscalQuarter                                                              \n",
       "2016-01-01            0.0                 0.0         0.0            0.0   \n",
       "2016-01-01            0.0                 0.0         0.0            0.0   \n",
       "2016-01-01            0.0                 0.0         0.0            0.0   \n",
       "2016-01-01            0.0                 0.0         0.0            0.0   \n",
       "2016-01-01            0.0                 0.0         0.0            0.0   \n",
       "\n",
       "grouped_industry  Other  Technology  \n",
       "FiscalQuarter                        \n",
       "2016-01-01          0.0         0.0  \n",
       "2016-01-01          0.0         0.0  \n",
       "2016-01-01          0.0         0.0  \n",
       "2016-01-01          0.0         0.0  \n",
       "2016-01-01          0.0         0.0  "
      ]
     },
     "execution_count": 583,
     "metadata": {},
     "output_type": "execute_result"
    }
   ],
   "source": [
    "ind_dat.head()"
   ]
  },
  {
   "cell_type": "code",
   "execution_count": 544,
   "metadata": {
    "collapsed": false,
    "deletable": true,
    "editable": true
   },
   "outputs": [
    {
     "data": {
      "text/html": [
       "<div>\n",
       "<table border=\"1\" class=\"dataframe\">\n",
       "  <thead>\n",
       "    <tr style=\"text-align: right;\">\n",
       "      <th></th>\n",
       "      <th>grouped_industry</th>\n",
       "      <th>stage_order</th>\n",
       "      <th>Federal</th>\n",
       "      <th>Financial Services</th>\n",
       "      <th>Healthcare</th>\n",
       "      <th>Life Sciences</th>\n",
       "      <th>Other</th>\n",
       "      <th>Technology</th>\n",
       "    </tr>\n",
       "    <tr>\n",
       "      <th>quarter</th>\n",
       "      <th>Stage__c</th>\n",
       "      <th></th>\n",
       "      <th></th>\n",
       "      <th></th>\n",
       "      <th></th>\n",
       "      <th></th>\n",
       "      <th></th>\n",
       "      <th></th>\n",
       "    </tr>\n",
       "  </thead>\n",
       "  <tbody>\n",
       "    <tr>\n",
       "      <th rowspan=\"7\" valign=\"top\">2016Q1</th>\n",
       "      <th>Prospect</th>\n",
       "      <td>0</td>\n",
       "      <td>0.00</td>\n",
       "      <td>0.00</td>\n",
       "      <td>0.00</td>\n",
       "      <td>0.00</td>\n",
       "      <td>0.00</td>\n",
       "      <td>0.00</td>\n",
       "    </tr>\n",
       "    <tr>\n",
       "      <th>Qualified</th>\n",
       "      <td>1</td>\n",
       "      <td>0.00</td>\n",
       "      <td>0.00</td>\n",
       "      <td>0.00</td>\n",
       "      <td>0.00</td>\n",
       "      <td>0.00</td>\n",
       "      <td>0.00</td>\n",
       "    </tr>\n",
       "    <tr>\n",
       "      <th>Buying Process id.</th>\n",
       "      <td>2</td>\n",
       "      <td>0.00</td>\n",
       "      <td>0.00</td>\n",
       "      <td>0.00</td>\n",
       "      <td>0.00</td>\n",
       "      <td>0.00</td>\n",
       "      <td>0.00</td>\n",
       "    </tr>\n",
       "    <tr>\n",
       "      <th>Short List</th>\n",
       "      <td>3</td>\n",
       "      <td>0.00</td>\n",
       "      <td>0.00</td>\n",
       "      <td>0.00</td>\n",
       "      <td>0.00</td>\n",
       "      <td>0.00</td>\n",
       "      <td>0.00</td>\n",
       "    </tr>\n",
       "    <tr>\n",
       "      <th>Chosen Vendor</th>\n",
       "      <td>4</td>\n",
       "      <td>0.00</td>\n",
       "      <td>0.00</td>\n",
       "      <td>0.00</td>\n",
       "      <td>0.00</td>\n",
       "      <td>0.00</td>\n",
       "      <td>NaN</td>\n",
       "    </tr>\n",
       "    <tr>\n",
       "      <th>Negotiation/Review</th>\n",
       "      <td>5</td>\n",
       "      <td>0.00</td>\n",
       "      <td>0.00</td>\n",
       "      <td>0.00</td>\n",
       "      <td>0.00</td>\n",
       "      <td>0.00</td>\n",
       "      <td>0.00</td>\n",
       "    </tr>\n",
       "    <tr>\n",
       "      <th>PO In Progress</th>\n",
       "      <td>6</td>\n",
       "      <td>NaN</td>\n",
       "      <td>0.00</td>\n",
       "      <td>NaN</td>\n",
       "      <td>NaN</td>\n",
       "      <td>NaN</td>\n",
       "      <td>NaN</td>\n",
       "    </tr>\n",
       "    <tr>\n",
       "      <th rowspan=\"7\" valign=\"top\">2016Q2</th>\n",
       "      <th>Prospect</th>\n",
       "      <td>0</td>\n",
       "      <td>0.00</td>\n",
       "      <td>0.00</td>\n",
       "      <td>0.00</td>\n",
       "      <td>0.00</td>\n",
       "      <td>0.00</td>\n",
       "      <td>0.00</td>\n",
       "    </tr>\n",
       "    <tr>\n",
       "      <th>Qualified</th>\n",
       "      <td>1</td>\n",
       "      <td>0.00</td>\n",
       "      <td>0.00</td>\n",
       "      <td>0.00</td>\n",
       "      <td>0.00</td>\n",
       "      <td>0.00</td>\n",
       "      <td>0.00</td>\n",
       "    </tr>\n",
       "    <tr>\n",
       "      <th>Buying Process id.</th>\n",
       "      <td>2</td>\n",
       "      <td>0.00</td>\n",
       "      <td>0.00</td>\n",
       "      <td>0.00</td>\n",
       "      <td>NaN</td>\n",
       "      <td>0.00</td>\n",
       "      <td>0.00</td>\n",
       "    </tr>\n",
       "    <tr>\n",
       "      <th>Short List</th>\n",
       "      <td>3</td>\n",
       "      <td>0.00</td>\n",
       "      <td>0.00</td>\n",
       "      <td>0.00</td>\n",
       "      <td>0.00</td>\n",
       "      <td>0.00</td>\n",
       "      <td>0.00</td>\n",
       "    </tr>\n",
       "    <tr>\n",
       "      <th>Chosen Vendor</th>\n",
       "      <td>4</td>\n",
       "      <td>NaN</td>\n",
       "      <td>0.00</td>\n",
       "      <td>0.00</td>\n",
       "      <td>0.00</td>\n",
       "      <td>0.00</td>\n",
       "      <td>0.00</td>\n",
       "    </tr>\n",
       "    <tr>\n",
       "      <th>Negotiation/Review</th>\n",
       "      <td>5</td>\n",
       "      <td>NaN</td>\n",
       "      <td>0.00</td>\n",
       "      <td>0.00</td>\n",
       "      <td>0.00</td>\n",
       "      <td>0.00</td>\n",
       "      <td>0.00</td>\n",
       "    </tr>\n",
       "    <tr>\n",
       "      <th>PO In Progress</th>\n",
       "      <td>6</td>\n",
       "      <td>NaN</td>\n",
       "      <td>0.00</td>\n",
       "      <td>0.00</td>\n",
       "      <td>NaN</td>\n",
       "      <td>0.00</td>\n",
       "      <td>NaN</td>\n",
       "    </tr>\n",
       "    <tr>\n",
       "      <th rowspan=\"7\" valign=\"top\">2016Q3</th>\n",
       "      <th>Prospect</th>\n",
       "      <td>0</td>\n",
       "      <td>0.00</td>\n",
       "      <td>0.00</td>\n",
       "      <td>0.00</td>\n",
       "      <td>0.00</td>\n",
       "      <td>0.00</td>\n",
       "      <td>0.00</td>\n",
       "    </tr>\n",
       "    <tr>\n",
       "      <th>Qualified</th>\n",
       "      <td>1</td>\n",
       "      <td>0.00</td>\n",
       "      <td>0.00</td>\n",
       "      <td>0.00</td>\n",
       "      <td>0.00</td>\n",
       "      <td>0.00</td>\n",
       "      <td>0.00</td>\n",
       "    </tr>\n",
       "    <tr>\n",
       "      <th>Buying Process id.</th>\n",
       "      <td>2</td>\n",
       "      <td>0.00</td>\n",
       "      <td>0.00</td>\n",
       "      <td>0.00</td>\n",
       "      <td>0.00</td>\n",
       "      <td>0.00</td>\n",
       "      <td>0.00</td>\n",
       "    </tr>\n",
       "    <tr>\n",
       "      <th>Short List</th>\n",
       "      <td>3</td>\n",
       "      <td>0.00</td>\n",
       "      <td>0.00</td>\n",
       "      <td>0.00</td>\n",
       "      <td>NaN</td>\n",
       "      <td>0.00</td>\n",
       "      <td>0.00</td>\n",
       "    </tr>\n",
       "    <tr>\n",
       "      <th>Chosen Vendor</th>\n",
       "      <td>4</td>\n",
       "      <td>NaN</td>\n",
       "      <td>0.00</td>\n",
       "      <td>0.00</td>\n",
       "      <td>0.00</td>\n",
       "      <td>0.00</td>\n",
       "      <td>0.00</td>\n",
       "    </tr>\n",
       "    <tr>\n",
       "      <th>Negotiation/Review</th>\n",
       "      <td>5</td>\n",
       "      <td>NaN</td>\n",
       "      <td>0.00</td>\n",
       "      <td>0.00</td>\n",
       "      <td>NaN</td>\n",
       "      <td>0.00</td>\n",
       "      <td>0.00</td>\n",
       "    </tr>\n",
       "    <tr>\n",
       "      <th>PO In Progress</th>\n",
       "      <td>6</td>\n",
       "      <td>NaN</td>\n",
       "      <td>0.00</td>\n",
       "      <td>NaN</td>\n",
       "      <td>NaN</td>\n",
       "      <td>0.00</td>\n",
       "      <td>0.00</td>\n",
       "    </tr>\n",
       "    <tr>\n",
       "      <th rowspan=\"7\" valign=\"top\">2016Q4</th>\n",
       "      <th>Prospect</th>\n",
       "      <td>0</td>\n",
       "      <td>0.00</td>\n",
       "      <td>293347.18</td>\n",
       "      <td>0.00</td>\n",
       "      <td>0.00</td>\n",
       "      <td>181147.01</td>\n",
       "      <td>62877.85</td>\n",
       "    </tr>\n",
       "    <tr>\n",
       "      <th>Qualified</th>\n",
       "      <td>1</td>\n",
       "      <td>0.00</td>\n",
       "      <td>0.00</td>\n",
       "      <td>0.00</td>\n",
       "      <td>0.00</td>\n",
       "      <td>0.00</td>\n",
       "      <td>0.00</td>\n",
       "    </tr>\n",
       "    <tr>\n",
       "      <th>Buying Process id.</th>\n",
       "      <td>2</td>\n",
       "      <td>1822538.73</td>\n",
       "      <td>8727791.47</td>\n",
       "      <td>1022598.77</td>\n",
       "      <td>1234445.04</td>\n",
       "      <td>4550195.30</td>\n",
       "      <td>522784.37</td>\n",
       "    </tr>\n",
       "    <tr>\n",
       "      <th>Short List</th>\n",
       "      <td>3</td>\n",
       "      <td>1385714.27</td>\n",
       "      <td>8246748.14</td>\n",
       "      <td>1591282.98</td>\n",
       "      <td>80338.71</td>\n",
       "      <td>3861248.82</td>\n",
       "      <td>1769562.23</td>\n",
       "    </tr>\n",
       "    <tr>\n",
       "      <th>Chosen Vendor</th>\n",
       "      <td>4</td>\n",
       "      <td>100191.30</td>\n",
       "      <td>7174593.84</td>\n",
       "      <td>386786.52</td>\n",
       "      <td>0.00</td>\n",
       "      <td>1753214.54</td>\n",
       "      <td>NaN</td>\n",
       "    </tr>\n",
       "    <tr>\n",
       "      <th>Negotiation/Review</th>\n",
       "      <td>5</td>\n",
       "      <td>NaN</td>\n",
       "      <td>1532683.37</td>\n",
       "      <td>941794.83</td>\n",
       "      <td>431838.46</td>\n",
       "      <td>953512.02</td>\n",
       "      <td>0.00</td>\n",
       "    </tr>\n",
       "    <tr>\n",
       "      <th>PO In Progress</th>\n",
       "      <td>6</td>\n",
       "      <td>NaN</td>\n",
       "      <td>0.00</td>\n",
       "      <td>0.00</td>\n",
       "      <td>NaN</td>\n",
       "      <td>14460.97</td>\n",
       "      <td>NaN</td>\n",
       "    </tr>\n",
       "    <tr>\n",
       "      <th rowspan=\"7\" valign=\"top\">2017Q1</th>\n",
       "      <th>Prospect</th>\n",
       "      <td>0</td>\n",
       "      <td>0.00</td>\n",
       "      <td>1281717.78</td>\n",
       "      <td>312000.00</td>\n",
       "      <td>0.00</td>\n",
       "      <td>1183519.47</td>\n",
       "      <td>79402.96</td>\n",
       "    </tr>\n",
       "    <tr>\n",
       "      <th>Qualified</th>\n",
       "      <td>1</td>\n",
       "      <td>6570905.89</td>\n",
       "      <td>11519008.90</td>\n",
       "      <td>1693156.58</td>\n",
       "      <td>623013.35</td>\n",
       "      <td>5347242.99</td>\n",
       "      <td>349345.34</td>\n",
       "    </tr>\n",
       "    <tr>\n",
       "      <th>Buying Process id.</th>\n",
       "      <td>2</td>\n",
       "      <td>4088195.69</td>\n",
       "      <td>13966781.16</td>\n",
       "      <td>5678205.19</td>\n",
       "      <td>2000041.14</td>\n",
       "      <td>12389512.10</td>\n",
       "      <td>901168.31</td>\n",
       "    </tr>\n",
       "    <tr>\n",
       "      <th>Short List</th>\n",
       "      <td>3</td>\n",
       "      <td>2157031.83</td>\n",
       "      <td>20159141.14</td>\n",
       "      <td>3872274.77</td>\n",
       "      <td>2397591.07</td>\n",
       "      <td>10485303.72</td>\n",
       "      <td>3696431.27</td>\n",
       "    </tr>\n",
       "    <tr>\n",
       "      <th>Chosen Vendor</th>\n",
       "      <td>4</td>\n",
       "      <td>NaN</td>\n",
       "      <td>8273120.21</td>\n",
       "      <td>2710735.98</td>\n",
       "      <td>828302.55</td>\n",
       "      <td>4297429.85</td>\n",
       "      <td>223753.70</td>\n",
       "    </tr>\n",
       "    <tr>\n",
       "      <th>Negotiation/Review</th>\n",
       "      <td>5</td>\n",
       "      <td>NaN</td>\n",
       "      <td>6599252.24</td>\n",
       "      <td>1175553.82</td>\n",
       "      <td>0.00</td>\n",
       "      <td>1704100.33</td>\n",
       "      <td>240230.99</td>\n",
       "    </tr>\n",
       "    <tr>\n",
       "      <th>PO In Progress</th>\n",
       "      <td>6</td>\n",
       "      <td>NaN</td>\n",
       "      <td>0.00</td>\n",
       "      <td>NaN</td>\n",
       "      <td>0.00</td>\n",
       "      <td>0.00</td>\n",
       "      <td>NaN</td>\n",
       "    </tr>\n",
       "    <tr>\n",
       "      <th rowspan=\"7\" valign=\"top\">2017Q2</th>\n",
       "      <th>Prospect</th>\n",
       "      <td>0</td>\n",
       "      <td>1324424.13</td>\n",
       "      <td>861903.25</td>\n",
       "      <td>624000.00</td>\n",
       "      <td>0.00</td>\n",
       "      <td>234677.27</td>\n",
       "      <td>0.00</td>\n",
       "    </tr>\n",
       "    <tr>\n",
       "      <th>Qualified</th>\n",
       "      <td>1</td>\n",
       "      <td>15598580.78</td>\n",
       "      <td>25296120.94</td>\n",
       "      <td>6576869.18</td>\n",
       "      <td>2420954.85</td>\n",
       "      <td>9929663.46</td>\n",
       "      <td>407590.81</td>\n",
       "    </tr>\n",
       "    <tr>\n",
       "      <th>Buying Process id.</th>\n",
       "      <td>2</td>\n",
       "      <td>10616858.65</td>\n",
       "      <td>17094179.06</td>\n",
       "      <td>6878792.36</td>\n",
       "      <td>1497374.22</td>\n",
       "      <td>15586272.47</td>\n",
       "      <td>363766.68</td>\n",
       "    </tr>\n",
       "    <tr>\n",
       "      <th>Short List</th>\n",
       "      <td>3</td>\n",
       "      <td>1070916.32</td>\n",
       "      <td>20892971.40</td>\n",
       "      <td>7395911.82</td>\n",
       "      <td>3788452.30</td>\n",
       "      <td>14296677.10</td>\n",
       "      <td>4111484.89</td>\n",
       "    </tr>\n",
       "    <tr>\n",
       "      <th>Chosen Vendor</th>\n",
       "      <td>4</td>\n",
       "      <td>NaN</td>\n",
       "      <td>7795356.92</td>\n",
       "      <td>520687.43</td>\n",
       "      <td>1131150.36</td>\n",
       "      <td>4781255.50</td>\n",
       "      <td>973526.40</td>\n",
       "    </tr>\n",
       "    <tr>\n",
       "      <th>Negotiation/Review</th>\n",
       "      <td>5</td>\n",
       "      <td>NaN</td>\n",
       "      <td>6484074.23</td>\n",
       "      <td>572567.08</td>\n",
       "      <td>NaN</td>\n",
       "      <td>2475210.54</td>\n",
       "      <td>785348.43</td>\n",
       "    </tr>\n",
       "    <tr>\n",
       "      <th>PO In Progress</th>\n",
       "      <td>6</td>\n",
       "      <td>NaN</td>\n",
       "      <td>90328.13</td>\n",
       "      <td>NaN</td>\n",
       "      <td>NaN</td>\n",
       "      <td>22206.60</td>\n",
       "      <td>NaN</td>\n",
       "    </tr>\n",
       "    <tr>\n",
       "      <th rowspan=\"6\" valign=\"top\">2017Q3</th>\n",
       "      <th>Qualified</th>\n",
       "      <td>1</td>\n",
       "      <td>14628502.44</td>\n",
       "      <td>23492298.01</td>\n",
       "      <td>8277283.64</td>\n",
       "      <td>3569736.18</td>\n",
       "      <td>11481187.75</td>\n",
       "      <td>2198482.12</td>\n",
       "    </tr>\n",
       "    <tr>\n",
       "      <th>Buying Process id.</th>\n",
       "      <td>2</td>\n",
       "      <td>6717205.98</td>\n",
       "      <td>16476787.67</td>\n",
       "      <td>4561089.03</td>\n",
       "      <td>1879316.35</td>\n",
       "      <td>12353607.33</td>\n",
       "      <td>2492353.52</td>\n",
       "    </tr>\n",
       "    <tr>\n",
       "      <th>Short List</th>\n",
       "      <td>3</td>\n",
       "      <td>2971683.27</td>\n",
       "      <td>20294422.93</td>\n",
       "      <td>5533528.60</td>\n",
       "      <td>1556833.94</td>\n",
       "      <td>9429272.92</td>\n",
       "      <td>3377874.98</td>\n",
       "    </tr>\n",
       "    <tr>\n",
       "      <th>Chosen Vendor</th>\n",
       "      <td>4</td>\n",
       "      <td>NaN</td>\n",
       "      <td>4632630.89</td>\n",
       "      <td>1513136.86</td>\n",
       "      <td>NaN</td>\n",
       "      <td>4071546.74</td>\n",
       "      <td>NaN</td>\n",
       "    </tr>\n",
       "    <tr>\n",
       "      <th>Negotiation/Review</th>\n",
       "      <td>5</td>\n",
       "      <td>NaN</td>\n",
       "      <td>3871904.97</td>\n",
       "      <td>404588.22</td>\n",
       "      <td>NaN</td>\n",
       "      <td>1527980.89</td>\n",
       "      <td>0.00</td>\n",
       "    </tr>\n",
       "    <tr>\n",
       "      <th>PO In Progress</th>\n",
       "      <td>6</td>\n",
       "      <td>NaN</td>\n",
       "      <td>962402.59</td>\n",
       "      <td>NaN</td>\n",
       "      <td>NaN</td>\n",
       "      <td>380942.38</td>\n",
       "      <td>29888.19</td>\n",
       "    </tr>\n",
       "  </tbody>\n",
       "</table>\n",
       "</div>"
      ],
      "text/plain": [
       "grouped_industry            stage_order      Federal  Financial Services  \\\n",
       "quarter Stage__c                                                           \n",
       "2016Q1  Prospect                      0         0.00                0.00   \n",
       "        Qualified                     1         0.00                0.00   \n",
       "        Buying Process id.            2         0.00                0.00   \n",
       "        Short List                    3         0.00                0.00   \n",
       "        Chosen Vendor                 4         0.00                0.00   \n",
       "        Negotiation/Review            5         0.00                0.00   \n",
       "        PO In Progress                6          NaN                0.00   \n",
       "2016Q2  Prospect                      0         0.00                0.00   \n",
       "        Qualified                     1         0.00                0.00   \n",
       "        Buying Process id.            2         0.00                0.00   \n",
       "        Short List                    3         0.00                0.00   \n",
       "        Chosen Vendor                 4          NaN                0.00   \n",
       "        Negotiation/Review            5          NaN                0.00   \n",
       "        PO In Progress                6          NaN                0.00   \n",
       "2016Q3  Prospect                      0         0.00                0.00   \n",
       "        Qualified                     1         0.00                0.00   \n",
       "        Buying Process id.            2         0.00                0.00   \n",
       "        Short List                    3         0.00                0.00   \n",
       "        Chosen Vendor                 4          NaN                0.00   \n",
       "        Negotiation/Review            5          NaN                0.00   \n",
       "        PO In Progress                6          NaN                0.00   \n",
       "2016Q4  Prospect                      0         0.00           293347.18   \n",
       "        Qualified                     1         0.00                0.00   \n",
       "        Buying Process id.            2   1822538.73          8727791.47   \n",
       "        Short List                    3   1385714.27          8246748.14   \n",
       "        Chosen Vendor                 4    100191.30          7174593.84   \n",
       "        Negotiation/Review            5          NaN          1532683.37   \n",
       "        PO In Progress                6          NaN                0.00   \n",
       "2017Q1  Prospect                      0         0.00          1281717.78   \n",
       "        Qualified                     1   6570905.89         11519008.90   \n",
       "        Buying Process id.            2   4088195.69         13966781.16   \n",
       "        Short List                    3   2157031.83         20159141.14   \n",
       "        Chosen Vendor                 4          NaN          8273120.21   \n",
       "        Negotiation/Review            5          NaN          6599252.24   \n",
       "        PO In Progress                6          NaN                0.00   \n",
       "2017Q2  Prospect                      0   1324424.13           861903.25   \n",
       "        Qualified                     1  15598580.78         25296120.94   \n",
       "        Buying Process id.            2  10616858.65         17094179.06   \n",
       "        Short List                    3   1070916.32         20892971.40   \n",
       "        Chosen Vendor                 4          NaN          7795356.92   \n",
       "        Negotiation/Review            5          NaN          6484074.23   \n",
       "        PO In Progress                6          NaN            90328.13   \n",
       "2017Q3  Qualified                     1  14628502.44         23492298.01   \n",
       "        Buying Process id.            2   6717205.98         16476787.67   \n",
       "        Short List                    3   2971683.27         20294422.93   \n",
       "        Chosen Vendor                 4          NaN          4632630.89   \n",
       "        Negotiation/Review            5          NaN          3871904.97   \n",
       "        PO In Progress                6          NaN           962402.59   \n",
       "\n",
       "grouped_industry            Healthcare  Life Sciences        Other  Technology  \n",
       "quarter Stage__c                                                                \n",
       "2016Q1  Prospect                  0.00           0.00         0.00        0.00  \n",
       "        Qualified                 0.00           0.00         0.00        0.00  \n",
       "        Buying Process id.        0.00           0.00         0.00        0.00  \n",
       "        Short List                0.00           0.00         0.00        0.00  \n",
       "        Chosen Vendor             0.00           0.00         0.00         NaN  \n",
       "        Negotiation/Review        0.00           0.00         0.00        0.00  \n",
       "        PO In Progress             NaN            NaN          NaN         NaN  \n",
       "2016Q2  Prospect                  0.00           0.00         0.00        0.00  \n",
       "        Qualified                 0.00           0.00         0.00        0.00  \n",
       "        Buying Process id.        0.00            NaN         0.00        0.00  \n",
       "        Short List                0.00           0.00         0.00        0.00  \n",
       "        Chosen Vendor             0.00           0.00         0.00        0.00  \n",
       "        Negotiation/Review        0.00           0.00         0.00        0.00  \n",
       "        PO In Progress            0.00            NaN         0.00         NaN  \n",
       "2016Q3  Prospect                  0.00           0.00         0.00        0.00  \n",
       "        Qualified                 0.00           0.00         0.00        0.00  \n",
       "        Buying Process id.        0.00           0.00         0.00        0.00  \n",
       "        Short List                0.00            NaN         0.00        0.00  \n",
       "        Chosen Vendor             0.00           0.00         0.00        0.00  \n",
       "        Negotiation/Review        0.00            NaN         0.00        0.00  \n",
       "        PO In Progress             NaN            NaN         0.00        0.00  \n",
       "2016Q4  Prospect                  0.00           0.00    181147.01    62877.85  \n",
       "        Qualified                 0.00           0.00         0.00        0.00  \n",
       "        Buying Process id.  1022598.77     1234445.04   4550195.30   522784.37  \n",
       "        Short List          1591282.98       80338.71   3861248.82  1769562.23  \n",
       "        Chosen Vendor        386786.52           0.00   1753214.54         NaN  \n",
       "        Negotiation/Review   941794.83      431838.46    953512.02        0.00  \n",
       "        PO In Progress            0.00            NaN     14460.97         NaN  \n",
       "2017Q1  Prospect             312000.00           0.00   1183519.47    79402.96  \n",
       "        Qualified           1693156.58      623013.35   5347242.99   349345.34  \n",
       "        Buying Process id.  5678205.19     2000041.14  12389512.10   901168.31  \n",
       "        Short List          3872274.77     2397591.07  10485303.72  3696431.27  \n",
       "        Chosen Vendor       2710735.98      828302.55   4297429.85   223753.70  \n",
       "        Negotiation/Review  1175553.82           0.00   1704100.33   240230.99  \n",
       "        PO In Progress             NaN           0.00         0.00         NaN  \n",
       "2017Q2  Prospect             624000.00           0.00    234677.27        0.00  \n",
       "        Qualified           6576869.18     2420954.85   9929663.46   407590.81  \n",
       "        Buying Process id.  6878792.36     1497374.22  15586272.47   363766.68  \n",
       "        Short List          7395911.82     3788452.30  14296677.10  4111484.89  \n",
       "        Chosen Vendor        520687.43     1131150.36   4781255.50   973526.40  \n",
       "        Negotiation/Review   572567.08            NaN   2475210.54   785348.43  \n",
       "        PO In Progress             NaN            NaN     22206.60         NaN  \n",
       "2017Q3  Qualified           8277283.64     3569736.18  11481187.75  2198482.12  \n",
       "        Buying Process id.  4561089.03     1879316.35  12353607.33  2492353.52  \n",
       "        Short List          5533528.60     1556833.94   9429272.92  3377874.98  \n",
       "        Chosen Vendor       1513136.86            NaN   4071546.74         NaN  \n",
       "        Negotiation/Review   404588.22            NaN   1527980.89        0.00  \n",
       "        PO In Progress             NaN            NaN    380942.38    29888.19  "
      ]
     },
     "execution_count": 544,
     "metadata": {},
     "output_type": "execute_result"
    }
   ],
   "source": [
    "## Group also by industry ind_dat"
   ]
  },
  {
   "cell_type": "code",
   "execution_count": 563,
   "metadata": {
    "collapsed": false,
    "deletable": true,
    "editable": true
   },
   "outputs": [],
   "source": [
    "ind_dat.fillna(0, inplace=True)"
   ]
  },
  {
   "cell_type": "code",
   "execution_count": 584,
   "metadata": {
    "collapsed": false,
    "deletable": true,
    "editable": true
   },
   "outputs": [
    {
     "name": "stdout",
     "output_type": "stream",
     "text": [
      "0 Federal\n",
      "1 Financial Services\n",
      "2 Healthcare\n",
      "3 Life Sciences\n",
      "4 Other\n",
      "5 Technology\n"
     ]
    }
   ],
   "source": [
    "for i, e in enumerate(ind_dat):\n",
    "    print i, e"
   ]
  },
  {
   "cell_type": "code",
   "execution_count": 586,
   "metadata": {
    "collapsed": false,
    "deletable": true,
    "editable": true
   },
   "outputs": [
    {
     "data": {
      "text/plain": [
       "DatetimeIndex(['2016-01-01', '2016-01-01', '2016-01-01', '2016-01-01',\n",
       "               '2016-01-01', '2016-01-01', '2016-01-01', '2016-04-01',\n",
       "               '2016-04-01', '2016-04-01', '2016-04-01', '2016-04-01',\n",
       "               '2016-04-01', '2016-04-01', '2016-07-01', '2016-07-01',\n",
       "               '2016-07-01', '2016-07-01', '2016-07-01', '2016-07-01',\n",
       "               '2016-07-01', '2016-10-01', '2016-10-01', '2016-10-01',\n",
       "               '2016-10-01', '2016-10-01', '2016-10-01', '2016-10-01',\n",
       "               '2017-01-01', '2017-01-01', '2017-01-01', '2017-01-01',\n",
       "               '2017-01-01', '2017-01-01', '2017-01-01', '2017-04-01',\n",
       "               '2017-04-01', '2017-04-01', '2017-04-01', '2017-04-01',\n",
       "               '2017-04-01', '2017-04-01', '2017-07-01', '2017-07-01',\n",
       "               '2017-07-01', '2017-07-01', '2017-07-01', '2017-07-01'],\n",
       "              dtype='datetime64[ns]', name=u'FiscalQuarter', freq=None)"
      ]
     },
     "execution_count": 586,
     "metadata": {},
     "output_type": "execute_result"
    }
   ],
   "source": [
    "ind_dat.index"
   ]
  },
  {
   "cell_type": "code",
   "execution_count": 587,
   "metadata": {
    "collapsed": false,
    "deletable": true,
    "editable": true
   },
   "outputs": [],
   "source": [
    "data_ind = []\n",
    "for ix, col in enumerate(ind_dat):\n",
    "    trace = go.Bar(y= ind_dat[col],x = quarter_labels, name = col,\n",
    "#     trace = go.Bar(y= ind_dat[col],x = ind_dat.index, name = col,\n",
    "                   marker=go.Marker(color=color_pal[ix]))\n",
    "    data_ind.append(trace)\n",
    "    "
   ]
  },
  {
   "cell_type": "code",
   "execution_count": 588,
   "metadata": {
    "collapsed": false,
    "deletable": true,
    "editable": true
   },
   "outputs": [
    {
     "data": {
      "text/plain": [
       "[{'marker': {'color': 'rgb(229,245,224)'},\n",
       "  'name': 'Federal',\n",
       "  'type': 'bar',\n",
       "  'x': DatetimeIndex(['2016-01-01', '2016-01-01', '2016-01-01', '2016-01-01',\n",
       "                 '2016-01-01', '2016-01-01', '2016-01-01', '2016-04-01',\n",
       "                 '2016-04-01', '2016-04-01', '2016-04-01', '2016-04-01',\n",
       "                 '2016-04-01', '2016-04-01', '2016-07-01', '2016-07-01',\n",
       "                 '2016-07-01', '2016-07-01', '2016-07-01', '2016-07-01',\n",
       "                 '2016-07-01', '2016-10-01', '2016-10-01', '2016-10-01',\n",
       "                 '2016-10-01', '2016-10-01', '2016-10-01', '2016-10-01',\n",
       "                 '2017-01-01', '2017-01-01', '2017-01-01', '2017-01-01',\n",
       "                 '2017-01-01', '2017-01-01', '2017-01-01', '2017-04-01',\n",
       "                 '2017-04-01', '2017-04-01', '2017-04-01', '2017-04-01',\n",
       "                 '2017-04-01', '2017-04-01', '2017-07-01', '2017-07-01',\n",
       "                 '2017-07-01', '2017-07-01', '2017-07-01', '2017-07-01'],\n",
       "                dtype='datetime64[ns]', name=u'FiscalQuarter', freq=None),\n",
       "  'y': FiscalQuarter\n",
       "  2016-01-01           0.00\n",
       "  2016-01-01           0.00\n",
       "  2016-01-01           0.00\n",
       "  2016-01-01           0.00\n",
       "  2016-01-01           0.00\n",
       "  2016-01-01           0.00\n",
       "  2016-01-01           0.00\n",
       "  2016-04-01           0.00\n",
       "  2016-04-01           0.00\n",
       "  2016-04-01           0.00\n",
       "  2016-04-01           0.00\n",
       "  2016-04-01           0.00\n",
       "  2016-04-01           0.00\n",
       "  2016-04-01           0.00\n",
       "  2016-07-01           0.00\n",
       "  2016-07-01           0.00\n",
       "  2016-07-01           0.00\n",
       "  2016-07-01           0.00\n",
       "  2016-07-01           0.00\n",
       "  2016-07-01           0.00\n",
       "  2016-07-01           0.00\n",
       "  2016-10-01           0.00\n",
       "  2016-10-01           0.00\n",
       "  2016-10-01     1822538.73\n",
       "  2016-10-01     1385714.27\n",
       "  2016-10-01      100191.30\n",
       "  2016-10-01           0.00\n",
       "  2016-10-01           0.00\n",
       "  2017-01-01           0.00\n",
       "  2017-01-01     6570905.89\n",
       "  2017-01-01     4088195.69\n",
       "  2017-01-01     2157031.83\n",
       "  2017-01-01           0.00\n",
       "  2017-01-01           0.00\n",
       "  2017-01-01           0.00\n",
       "  2017-04-01     1324424.13\n",
       "  2017-04-01    15598580.78\n",
       "  2017-04-01    10616858.65\n",
       "  2017-04-01     1070916.32\n",
       "  2017-04-01           0.00\n",
       "  2017-04-01           0.00\n",
       "  2017-04-01           0.00\n",
       "  2017-07-01    14628502.44\n",
       "  2017-07-01     6717205.98\n",
       "  2017-07-01     2971683.27\n",
       "  2017-07-01           0.00\n",
       "  2017-07-01           0.00\n",
       "  2017-07-01           0.00\n",
       "  Name: Federal, dtype: float64},\n",
       " {'marker': {'color': 'rgb(199,233,192)'},\n",
       "  'name': 'Financial Services',\n",
       "  'type': 'bar',\n",
       "  'x': DatetimeIndex(['2016-01-01', '2016-01-01', '2016-01-01', '2016-01-01',\n",
       "                 '2016-01-01', '2016-01-01', '2016-01-01', '2016-04-01',\n",
       "                 '2016-04-01', '2016-04-01', '2016-04-01', '2016-04-01',\n",
       "                 '2016-04-01', '2016-04-01', '2016-07-01', '2016-07-01',\n",
       "                 '2016-07-01', '2016-07-01', '2016-07-01', '2016-07-01',\n",
       "                 '2016-07-01', '2016-10-01', '2016-10-01', '2016-10-01',\n",
       "                 '2016-10-01', '2016-10-01', '2016-10-01', '2016-10-01',\n",
       "                 '2017-01-01', '2017-01-01', '2017-01-01', '2017-01-01',\n",
       "                 '2017-01-01', '2017-01-01', '2017-01-01', '2017-04-01',\n",
       "                 '2017-04-01', '2017-04-01', '2017-04-01', '2017-04-01',\n",
       "                 '2017-04-01', '2017-04-01', '2017-07-01', '2017-07-01',\n",
       "                 '2017-07-01', '2017-07-01', '2017-07-01', '2017-07-01'],\n",
       "                dtype='datetime64[ns]', name=u'FiscalQuarter', freq=None),\n",
       "  'y': FiscalQuarter\n",
       "  2016-01-01           0.00\n",
       "  2016-01-01           0.00\n",
       "  2016-01-01           0.00\n",
       "  2016-01-01           0.00\n",
       "  2016-01-01           0.00\n",
       "  2016-01-01           0.00\n",
       "  2016-01-01           0.00\n",
       "  2016-04-01           0.00\n",
       "  2016-04-01           0.00\n",
       "  2016-04-01           0.00\n",
       "  2016-04-01           0.00\n",
       "  2016-04-01           0.00\n",
       "  2016-04-01           0.00\n",
       "  2016-04-01           0.00\n",
       "  2016-07-01           0.00\n",
       "  2016-07-01           0.00\n",
       "  2016-07-01           0.00\n",
       "  2016-07-01           0.00\n",
       "  2016-07-01           0.00\n",
       "  2016-07-01           0.00\n",
       "  2016-07-01           0.00\n",
       "  2016-10-01      293347.18\n",
       "  2016-10-01           0.00\n",
       "  2016-10-01     8727791.47\n",
       "  2016-10-01     8246748.14\n",
       "  2016-10-01     7174593.84\n",
       "  2016-10-01     1532683.37\n",
       "  2016-10-01           0.00\n",
       "  2017-01-01     1281717.78\n",
       "  2017-01-01    11519008.90\n",
       "  2017-01-01    13966781.16\n",
       "  2017-01-01    20159141.14\n",
       "  2017-01-01     8273120.21\n",
       "  2017-01-01     6599252.24\n",
       "  2017-01-01           0.00\n",
       "  2017-04-01      861903.25\n",
       "  2017-04-01    25296120.94\n",
       "  2017-04-01    17094179.06\n",
       "  2017-04-01    20892971.40\n",
       "  2017-04-01     7795356.92\n",
       "  2017-04-01     6484074.23\n",
       "  2017-04-01       90328.13\n",
       "  2017-07-01    23492298.01\n",
       "  2017-07-01    16476787.67\n",
       "  2017-07-01    20294422.93\n",
       "  2017-07-01     4632630.89\n",
       "  2017-07-01     3871904.97\n",
       "  2017-07-01      962402.59\n",
       "  Name: Financial Services, dtype: float64},\n",
       " {'marker': {'color': 'rgb(161,217,155)'},\n",
       "  'name': 'Healthcare',\n",
       "  'type': 'bar',\n",
       "  'x': DatetimeIndex(['2016-01-01', '2016-01-01', '2016-01-01', '2016-01-01',\n",
       "                 '2016-01-01', '2016-01-01', '2016-01-01', '2016-04-01',\n",
       "                 '2016-04-01', '2016-04-01', '2016-04-01', '2016-04-01',\n",
       "                 '2016-04-01', '2016-04-01', '2016-07-01', '2016-07-01',\n",
       "                 '2016-07-01', '2016-07-01', '2016-07-01', '2016-07-01',\n",
       "                 '2016-07-01', '2016-10-01', '2016-10-01', '2016-10-01',\n",
       "                 '2016-10-01', '2016-10-01', '2016-10-01', '2016-10-01',\n",
       "                 '2017-01-01', '2017-01-01', '2017-01-01', '2017-01-01',\n",
       "                 '2017-01-01', '2017-01-01', '2017-01-01', '2017-04-01',\n",
       "                 '2017-04-01', '2017-04-01', '2017-04-01', '2017-04-01',\n",
       "                 '2017-04-01', '2017-04-01', '2017-07-01', '2017-07-01',\n",
       "                 '2017-07-01', '2017-07-01', '2017-07-01', '2017-07-01'],\n",
       "                dtype='datetime64[ns]', name=u'FiscalQuarter', freq=None),\n",
       "  'y': FiscalQuarter\n",
       "  2016-01-01          0.00\n",
       "  2016-01-01          0.00\n",
       "  2016-01-01          0.00\n",
       "  2016-01-01          0.00\n",
       "  2016-01-01          0.00\n",
       "  2016-01-01          0.00\n",
       "  2016-01-01          0.00\n",
       "  2016-04-01          0.00\n",
       "  2016-04-01          0.00\n",
       "  2016-04-01          0.00\n",
       "  2016-04-01          0.00\n",
       "  2016-04-01          0.00\n",
       "  2016-04-01          0.00\n",
       "  2016-04-01          0.00\n",
       "  2016-07-01          0.00\n",
       "  2016-07-01          0.00\n",
       "  2016-07-01          0.00\n",
       "  2016-07-01          0.00\n",
       "  2016-07-01          0.00\n",
       "  2016-07-01          0.00\n",
       "  2016-07-01          0.00\n",
       "  2016-10-01          0.00\n",
       "  2016-10-01          0.00\n",
       "  2016-10-01    1022598.77\n",
       "  2016-10-01    1591282.98\n",
       "  2016-10-01     386786.52\n",
       "  2016-10-01     941794.83\n",
       "  2016-10-01          0.00\n",
       "  2017-01-01     312000.00\n",
       "  2017-01-01    1693156.58\n",
       "  2017-01-01    5678205.19\n",
       "  2017-01-01    3872274.77\n",
       "  2017-01-01    2710735.98\n",
       "  2017-01-01    1175553.82\n",
       "  2017-01-01          0.00\n",
       "  2017-04-01     624000.00\n",
       "  2017-04-01    6576869.18\n",
       "  2017-04-01    6878792.36\n",
       "  2017-04-01    7395911.82\n",
       "  2017-04-01     520687.43\n",
       "  2017-04-01     572567.08\n",
       "  2017-04-01          0.00\n",
       "  2017-07-01    8277283.64\n",
       "  2017-07-01    4561089.03\n",
       "  2017-07-01    5533528.60\n",
       "  2017-07-01    1513136.86\n",
       "  2017-07-01     404588.22\n",
       "  2017-07-01          0.00\n",
       "  Name: Healthcare, dtype: float64},\n",
       " {'marker': {'color': 'rgb(116,196,118)'},\n",
       "  'name': 'Life Sciences',\n",
       "  'type': 'bar',\n",
       "  'x': DatetimeIndex(['2016-01-01', '2016-01-01', '2016-01-01', '2016-01-01',\n",
       "                 '2016-01-01', '2016-01-01', '2016-01-01', '2016-04-01',\n",
       "                 '2016-04-01', '2016-04-01', '2016-04-01', '2016-04-01',\n",
       "                 '2016-04-01', '2016-04-01', '2016-07-01', '2016-07-01',\n",
       "                 '2016-07-01', '2016-07-01', '2016-07-01', '2016-07-01',\n",
       "                 '2016-07-01', '2016-10-01', '2016-10-01', '2016-10-01',\n",
       "                 '2016-10-01', '2016-10-01', '2016-10-01', '2016-10-01',\n",
       "                 '2017-01-01', '2017-01-01', '2017-01-01', '2017-01-01',\n",
       "                 '2017-01-01', '2017-01-01', '2017-01-01', '2017-04-01',\n",
       "                 '2017-04-01', '2017-04-01', '2017-04-01', '2017-04-01',\n",
       "                 '2017-04-01', '2017-04-01', '2017-07-01', '2017-07-01',\n",
       "                 '2017-07-01', '2017-07-01', '2017-07-01', '2017-07-01'],\n",
       "                dtype='datetime64[ns]', name=u'FiscalQuarter', freq=None),\n",
       "  'y': FiscalQuarter\n",
       "  2016-01-01          0.00\n",
       "  2016-01-01          0.00\n",
       "  2016-01-01          0.00\n",
       "  2016-01-01          0.00\n",
       "  2016-01-01          0.00\n",
       "  2016-01-01          0.00\n",
       "  2016-01-01          0.00\n",
       "  2016-04-01          0.00\n",
       "  2016-04-01          0.00\n",
       "  2016-04-01          0.00\n",
       "  2016-04-01          0.00\n",
       "  2016-04-01          0.00\n",
       "  2016-04-01          0.00\n",
       "  2016-04-01          0.00\n",
       "  2016-07-01          0.00\n",
       "  2016-07-01          0.00\n",
       "  2016-07-01          0.00\n",
       "  2016-07-01          0.00\n",
       "  2016-07-01          0.00\n",
       "  2016-07-01          0.00\n",
       "  2016-07-01          0.00\n",
       "  2016-10-01          0.00\n",
       "  2016-10-01          0.00\n",
       "  2016-10-01    1234445.04\n",
       "  2016-10-01      80338.71\n",
       "  2016-10-01          0.00\n",
       "  2016-10-01     431838.46\n",
       "  2016-10-01          0.00\n",
       "  2017-01-01          0.00\n",
       "  2017-01-01     623013.35\n",
       "  2017-01-01    2000041.14\n",
       "  2017-01-01    2397591.07\n",
       "  2017-01-01     828302.55\n",
       "  2017-01-01          0.00\n",
       "  2017-01-01          0.00\n",
       "  2017-04-01          0.00\n",
       "  2017-04-01    2420954.85\n",
       "  2017-04-01    1497374.22\n",
       "  2017-04-01    3788452.30\n",
       "  2017-04-01    1131150.36\n",
       "  2017-04-01          0.00\n",
       "  2017-04-01          0.00\n",
       "  2017-07-01    3569736.18\n",
       "  2017-07-01    1879316.35\n",
       "  2017-07-01    1556833.94\n",
       "  2017-07-01          0.00\n",
       "  2017-07-01          0.00\n",
       "  2017-07-01          0.00\n",
       "  Name: Life Sciences, dtype: float64},\n",
       " {'marker': {'color': 'rgb(65,171,93)'},\n",
       "  'name': 'Other',\n",
       "  'type': 'bar',\n",
       "  'x': DatetimeIndex(['2016-01-01', '2016-01-01', '2016-01-01', '2016-01-01',\n",
       "                 '2016-01-01', '2016-01-01', '2016-01-01', '2016-04-01',\n",
       "                 '2016-04-01', '2016-04-01', '2016-04-01', '2016-04-01',\n",
       "                 '2016-04-01', '2016-04-01', '2016-07-01', '2016-07-01',\n",
       "                 '2016-07-01', '2016-07-01', '2016-07-01', '2016-07-01',\n",
       "                 '2016-07-01', '2016-10-01', '2016-10-01', '2016-10-01',\n",
       "                 '2016-10-01', '2016-10-01', '2016-10-01', '2016-10-01',\n",
       "                 '2017-01-01', '2017-01-01', '2017-01-01', '2017-01-01',\n",
       "                 '2017-01-01', '2017-01-01', '2017-01-01', '2017-04-01',\n",
       "                 '2017-04-01', '2017-04-01', '2017-04-01', '2017-04-01',\n",
       "                 '2017-04-01', '2017-04-01', '2017-07-01', '2017-07-01',\n",
       "                 '2017-07-01', '2017-07-01', '2017-07-01', '2017-07-01'],\n",
       "                dtype='datetime64[ns]', name=u'FiscalQuarter', freq=None),\n",
       "  'y': FiscalQuarter\n",
       "  2016-01-01           0.00\n",
       "  2016-01-01           0.00\n",
       "  2016-01-01           0.00\n",
       "  2016-01-01           0.00\n",
       "  2016-01-01           0.00\n",
       "  2016-01-01           0.00\n",
       "  2016-01-01           0.00\n",
       "  2016-04-01           0.00\n",
       "  2016-04-01           0.00\n",
       "  2016-04-01           0.00\n",
       "  2016-04-01           0.00\n",
       "  2016-04-01           0.00\n",
       "  2016-04-01           0.00\n",
       "  2016-04-01           0.00\n",
       "  2016-07-01           0.00\n",
       "  2016-07-01           0.00\n",
       "  2016-07-01           0.00\n",
       "  2016-07-01           0.00\n",
       "  2016-07-01           0.00\n",
       "  2016-07-01           0.00\n",
       "  2016-07-01           0.00\n",
       "  2016-10-01      181147.01\n",
       "  2016-10-01           0.00\n",
       "  2016-10-01     4550195.30\n",
       "  2016-10-01     3861248.82\n",
       "  2016-10-01     1753214.54\n",
       "  2016-10-01      953512.02\n",
       "  2016-10-01       14460.97\n",
       "  2017-01-01     1183519.47\n",
       "  2017-01-01     5347242.99\n",
       "  2017-01-01    12389512.10\n",
       "  2017-01-01    10485303.72\n",
       "  2017-01-01     4297429.85\n",
       "  2017-01-01     1704100.33\n",
       "  2017-01-01           0.00\n",
       "  2017-04-01      234677.27\n",
       "  2017-04-01     9929663.46\n",
       "  2017-04-01    15586272.47\n",
       "  2017-04-01    14296677.10\n",
       "  2017-04-01     4781255.50\n",
       "  2017-04-01     2475210.54\n",
       "  2017-04-01       22206.60\n",
       "  2017-07-01    11481187.75\n",
       "  2017-07-01    12353607.33\n",
       "  2017-07-01     9429272.92\n",
       "  2017-07-01     4071546.74\n",
       "  2017-07-01     1527980.89\n",
       "  2017-07-01      380942.38\n",
       "  Name: Other, dtype: float64},\n",
       " {'marker': {'color': 'rgb(35,139,69)'},\n",
       "  'name': 'Technology',\n",
       "  'type': 'bar',\n",
       "  'x': DatetimeIndex(['2016-01-01', '2016-01-01', '2016-01-01', '2016-01-01',\n",
       "                 '2016-01-01', '2016-01-01', '2016-01-01', '2016-04-01',\n",
       "                 '2016-04-01', '2016-04-01', '2016-04-01', '2016-04-01',\n",
       "                 '2016-04-01', '2016-04-01', '2016-07-01', '2016-07-01',\n",
       "                 '2016-07-01', '2016-07-01', '2016-07-01', '2016-07-01',\n",
       "                 '2016-07-01', '2016-10-01', '2016-10-01', '2016-10-01',\n",
       "                 '2016-10-01', '2016-10-01', '2016-10-01', '2016-10-01',\n",
       "                 '2017-01-01', '2017-01-01', '2017-01-01', '2017-01-01',\n",
       "                 '2017-01-01', '2017-01-01', '2017-01-01', '2017-04-01',\n",
       "                 '2017-04-01', '2017-04-01', '2017-04-01', '2017-04-01',\n",
       "                 '2017-04-01', '2017-04-01', '2017-07-01', '2017-07-01',\n",
       "                 '2017-07-01', '2017-07-01', '2017-07-01', '2017-07-01'],\n",
       "                dtype='datetime64[ns]', name=u'FiscalQuarter', freq=None),\n",
       "  'y': FiscalQuarter\n",
       "  2016-01-01          0.00\n",
       "  2016-01-01          0.00\n",
       "  2016-01-01          0.00\n",
       "  2016-01-01          0.00\n",
       "  2016-01-01          0.00\n",
       "  2016-01-01          0.00\n",
       "  2016-01-01          0.00\n",
       "  2016-04-01          0.00\n",
       "  2016-04-01          0.00\n",
       "  2016-04-01          0.00\n",
       "  2016-04-01          0.00\n",
       "  2016-04-01          0.00\n",
       "  2016-04-01          0.00\n",
       "  2016-04-01          0.00\n",
       "  2016-07-01          0.00\n",
       "  2016-07-01          0.00\n",
       "  2016-07-01          0.00\n",
       "  2016-07-01          0.00\n",
       "  2016-07-01          0.00\n",
       "  2016-07-01          0.00\n",
       "  2016-07-01          0.00\n",
       "  2016-10-01      62877.85\n",
       "  2016-10-01          0.00\n",
       "  2016-10-01     522784.37\n",
       "  2016-10-01    1769562.23\n",
       "  2016-10-01          0.00\n",
       "  2016-10-01          0.00\n",
       "  2016-10-01          0.00\n",
       "  2017-01-01      79402.96\n",
       "  2017-01-01     349345.34\n",
       "  2017-01-01     901168.31\n",
       "  2017-01-01    3696431.27\n",
       "  2017-01-01     223753.70\n",
       "  2017-01-01     240230.99\n",
       "  2017-01-01          0.00\n",
       "  2017-04-01          0.00\n",
       "  2017-04-01     407590.81\n",
       "  2017-04-01     363766.68\n",
       "  2017-04-01    4111484.89\n",
       "  2017-04-01     973526.40\n",
       "  2017-04-01     785348.43\n",
       "  2017-04-01          0.00\n",
       "  2017-07-01    2198482.12\n",
       "  2017-07-01    2492353.52\n",
       "  2017-07-01    3377874.98\n",
       "  2017-07-01          0.00\n",
       "  2017-07-01          0.00\n",
       "  2017-07-01      29888.19\n",
       "  Name: Technology, dtype: float64}]"
      ]
     },
     "execution_count": 588,
     "metadata": {},
     "output_type": "execute_result"
    }
   ],
   "source": [
    "data_ind"
   ]
  },
  {
   "cell_type": "code",
   "execution_count": 565,
   "metadata": {
    "collapsed": true,
    "deletable": true,
    "editable": true
   },
   "outputs": [],
   "source": [
    "r = sorted(qt_rpt_dates.keys())\n",
    "r = [i.strftime('%F-Q%q') for i in r]\n",
    "\n",
    "# set layout - axes title\n",
    "layout = go.Layout(\n",
    "    barmode='stack',\n",
    "    xaxis = dict(title = 'Fiscal Quarter', range = [r], tickformat ='%b-%Y' ),\n",
    "    yaxis = dict(title = 'ARR (EURO)'),\n",
    "    title='Quarterly ARR (EURO) by Industry'\n",
    ")"
   ]
  },
  {
   "cell_type": "code",
   "execution_count": 589,
   "metadata": {
    "collapsed": false,
    "deletable": true,
    "editable": true
   },
   "outputs": [
    {
     "data": {
      "text/html": [
       "<iframe id=\"igraph\" scrolling=\"no\" style=\"border:none;\" seamless=\"seamless\" src=\"https://plot.ly/~Gabi/201.embed\" height=\"525px\" width=\"100%\"></iframe>"
      ],
      "text/plain": [
       "<plotly.tools.PlotlyDisplay object>"
      ]
     },
     "execution_count": 589,
     "metadata": {},
     "output_type": "execute_result"
    }
   ],
   "source": [
    "# display plot\n",
    "fig_opp = go.Figure(data = data_ind, layout=layout)\n",
    "py.iplot(fig_opp)"
   ]
  },
  {
   "cell_type": "code",
   "execution_count": null,
   "metadata": {
    "collapsed": true,
    "deletable": true,
    "editable": true
   },
   "outputs": [],
   "source": [
    "# plot # of Opps by Stage and create table\n",
    "data = []\n",
    "color_pal = greens[1:]\n",
    "for ix, col in enumerate(qt_stage_opp):\n",
    "    trace = go.Bar(y= qt_stage_opp[col],x = qt_stage_opp.index, name = col,\n",
    "                   marker=go.Marker(color=color_pal[ix]))\n",
    "    data.append(trace)"
   ]
  },
  {
   "cell_type": "code",
   "execution_count": 14,
   "metadata": {
    "collapsed": false,
    "deletable": true,
    "editable": true
   },
   "outputs": [
    {
     "data": {
      "text/html": [
       "<div>\n",
       "<table border=\"1\" class=\"dataframe\">\n",
       "  <thead>\n",
       "    <tr style=\"text-align: right;\">\n",
       "      <th></th>\n",
       "      <th>quarter</th>\n",
       "      <th>stage_order</th>\n",
       "      <th>Stage__c</th>\n",
       "      <th>ARR_Delta_EURO__c</th>\n",
       "    </tr>\n",
       "  </thead>\n",
       "  <tbody>\n",
       "    <tr>\n",
       "      <th>0</th>\n",
       "      <td>2016Q1</td>\n",
       "      <td>0</td>\n",
       "      <td>Prospect</td>\n",
       "      <td>0.00</td>\n",
       "    </tr>\n",
       "    <tr>\n",
       "      <th>1</th>\n",
       "      <td>2016Q1</td>\n",
       "      <td>1</td>\n",
       "      <td>Qualified</td>\n",
       "      <td>0.00</td>\n",
       "    </tr>\n",
       "    <tr>\n",
       "      <th>2</th>\n",
       "      <td>2016Q1</td>\n",
       "      <td>2</td>\n",
       "      <td>Buying Process id.</td>\n",
       "      <td>0.00</td>\n",
       "    </tr>\n",
       "    <tr>\n",
       "      <th>3</th>\n",
       "      <td>2016Q1</td>\n",
       "      <td>3</td>\n",
       "      <td>Short List</td>\n",
       "      <td>0.00</td>\n",
       "    </tr>\n",
       "    <tr>\n",
       "      <th>4</th>\n",
       "      <td>2016Q1</td>\n",
       "      <td>4</td>\n",
       "      <td>Chosen Vendor</td>\n",
       "      <td>0.00</td>\n",
       "    </tr>\n",
       "    <tr>\n",
       "      <th>5</th>\n",
       "      <td>2016Q1</td>\n",
       "      <td>5</td>\n",
       "      <td>Negotiation/Review</td>\n",
       "      <td>0.00</td>\n",
       "    </tr>\n",
       "    <tr>\n",
       "      <th>6</th>\n",
       "      <td>2016Q1</td>\n",
       "      <td>6</td>\n",
       "      <td>PO In Progress</td>\n",
       "      <td>0.00</td>\n",
       "    </tr>\n",
       "    <tr>\n",
       "      <th>7</th>\n",
       "      <td>2016Q2</td>\n",
       "      <td>0</td>\n",
       "      <td>Prospect</td>\n",
       "      <td>0.00</td>\n",
       "    </tr>\n",
       "    <tr>\n",
       "      <th>8</th>\n",
       "      <td>2016Q2</td>\n",
       "      <td>1</td>\n",
       "      <td>Qualified</td>\n",
       "      <td>0.00</td>\n",
       "    </tr>\n",
       "    <tr>\n",
       "      <th>9</th>\n",
       "      <td>2016Q2</td>\n",
       "      <td>2</td>\n",
       "      <td>Buying Process id.</td>\n",
       "      <td>0.00</td>\n",
       "    </tr>\n",
       "    <tr>\n",
       "      <th>10</th>\n",
       "      <td>2016Q2</td>\n",
       "      <td>3</td>\n",
       "      <td>Short List</td>\n",
       "      <td>0.00</td>\n",
       "    </tr>\n",
       "    <tr>\n",
       "      <th>11</th>\n",
       "      <td>2016Q2</td>\n",
       "      <td>4</td>\n",
       "      <td>Chosen Vendor</td>\n",
       "      <td>0.00</td>\n",
       "    </tr>\n",
       "    <tr>\n",
       "      <th>12</th>\n",
       "      <td>2016Q2</td>\n",
       "      <td>5</td>\n",
       "      <td>Negotiation/Review</td>\n",
       "      <td>0.00</td>\n",
       "    </tr>\n",
       "    <tr>\n",
       "      <th>13</th>\n",
       "      <td>2016Q2</td>\n",
       "      <td>6</td>\n",
       "      <td>PO In Progress</td>\n",
       "      <td>0.00</td>\n",
       "    </tr>\n",
       "    <tr>\n",
       "      <th>14</th>\n",
       "      <td>2016Q3</td>\n",
       "      <td>0</td>\n",
       "      <td>Prospect</td>\n",
       "      <td>0.00</td>\n",
       "    </tr>\n",
       "    <tr>\n",
       "      <th>15</th>\n",
       "      <td>2016Q3</td>\n",
       "      <td>1</td>\n",
       "      <td>Qualified</td>\n",
       "      <td>0.00</td>\n",
       "    </tr>\n",
       "    <tr>\n",
       "      <th>16</th>\n",
       "      <td>2016Q3</td>\n",
       "      <td>2</td>\n",
       "      <td>Buying Process id.</td>\n",
       "      <td>0.00</td>\n",
       "    </tr>\n",
       "    <tr>\n",
       "      <th>17</th>\n",
       "      <td>2016Q3</td>\n",
       "      <td>3</td>\n",
       "      <td>Short List</td>\n",
       "      <td>0.00</td>\n",
       "    </tr>\n",
       "    <tr>\n",
       "      <th>18</th>\n",
       "      <td>2016Q3</td>\n",
       "      <td>4</td>\n",
       "      <td>Chosen Vendor</td>\n",
       "      <td>0.00</td>\n",
       "    </tr>\n",
       "    <tr>\n",
       "      <th>19</th>\n",
       "      <td>2016Q3</td>\n",
       "      <td>5</td>\n",
       "      <td>Negotiation/Review</td>\n",
       "      <td>0.00</td>\n",
       "    </tr>\n",
       "    <tr>\n",
       "      <th>20</th>\n",
       "      <td>2016Q3</td>\n",
       "      <td>6</td>\n",
       "      <td>PO In Progress</td>\n",
       "      <td>0.00</td>\n",
       "    </tr>\n",
       "    <tr>\n",
       "      <th>21</th>\n",
       "      <td>2016Q4</td>\n",
       "      <td>0</td>\n",
       "      <td>Prospect</td>\n",
       "      <td>537372.04</td>\n",
       "    </tr>\n",
       "    <tr>\n",
       "      <th>22</th>\n",
       "      <td>2016Q4</td>\n",
       "      <td>1</td>\n",
       "      <td>Qualified</td>\n",
       "      <td>0.00</td>\n",
       "    </tr>\n",
       "    <tr>\n",
       "      <th>23</th>\n",
       "      <td>2016Q4</td>\n",
       "      <td>2</td>\n",
       "      <td>Buying Process id.</td>\n",
       "      <td>17880353.68</td>\n",
       "    </tr>\n",
       "    <tr>\n",
       "      <th>24</th>\n",
       "      <td>2016Q4</td>\n",
       "      <td>3</td>\n",
       "      <td>Short List</td>\n",
       "      <td>16934895.15</td>\n",
       "    </tr>\n",
       "    <tr>\n",
       "      <th>25</th>\n",
       "      <td>2016Q4</td>\n",
       "      <td>4</td>\n",
       "      <td>Chosen Vendor</td>\n",
       "      <td>9414786.20</td>\n",
       "    </tr>\n",
       "    <tr>\n",
       "      <th>26</th>\n",
       "      <td>2016Q4</td>\n",
       "      <td>5</td>\n",
       "      <td>Negotiation/Review</td>\n",
       "      <td>3859828.68</td>\n",
       "    </tr>\n",
       "    <tr>\n",
       "      <th>27</th>\n",
       "      <td>2016Q4</td>\n",
       "      <td>6</td>\n",
       "      <td>PO In Progress</td>\n",
       "      <td>14460.97</td>\n",
       "    </tr>\n",
       "    <tr>\n",
       "      <th>28</th>\n",
       "      <td>2017Q1</td>\n",
       "      <td>0</td>\n",
       "      <td>Prospect</td>\n",
       "      <td>2856640.21</td>\n",
       "    </tr>\n",
       "    <tr>\n",
       "      <th>29</th>\n",
       "      <td>2017Q1</td>\n",
       "      <td>1</td>\n",
       "      <td>Qualified</td>\n",
       "      <td>26102673.05</td>\n",
       "    </tr>\n",
       "    <tr>\n",
       "      <th>30</th>\n",
       "      <td>2017Q1</td>\n",
       "      <td>2</td>\n",
       "      <td>Buying Process id.</td>\n",
       "      <td>39023903.59</td>\n",
       "    </tr>\n",
       "    <tr>\n",
       "      <th>31</th>\n",
       "      <td>2017Q1</td>\n",
       "      <td>3</td>\n",
       "      <td>Short List</td>\n",
       "      <td>42767773.80</td>\n",
       "    </tr>\n",
       "    <tr>\n",
       "      <th>32</th>\n",
       "      <td>2017Q1</td>\n",
       "      <td>4</td>\n",
       "      <td>Chosen Vendor</td>\n",
       "      <td>16333342.29</td>\n",
       "    </tr>\n",
       "    <tr>\n",
       "      <th>33</th>\n",
       "      <td>2017Q1</td>\n",
       "      <td>5</td>\n",
       "      <td>Negotiation/Review</td>\n",
       "      <td>9719137.38</td>\n",
       "    </tr>\n",
       "    <tr>\n",
       "      <th>34</th>\n",
       "      <td>2017Q1</td>\n",
       "      <td>6</td>\n",
       "      <td>PO In Progress</td>\n",
       "      <td>0.00</td>\n",
       "    </tr>\n",
       "    <tr>\n",
       "      <th>35</th>\n",
       "      <td>2017Q2</td>\n",
       "      <td>0</td>\n",
       "      <td>Prospect</td>\n",
       "      <td>3045004.65</td>\n",
       "    </tr>\n",
       "    <tr>\n",
       "      <th>36</th>\n",
       "      <td>2017Q2</td>\n",
       "      <td>1</td>\n",
       "      <td>Qualified</td>\n",
       "      <td>60229780.02</td>\n",
       "    </tr>\n",
       "    <tr>\n",
       "      <th>37</th>\n",
       "      <td>2017Q2</td>\n",
       "      <td>2</td>\n",
       "      <td>Buying Process id.</td>\n",
       "      <td>52037243.44</td>\n",
       "    </tr>\n",
       "    <tr>\n",
       "      <th>38</th>\n",
       "      <td>2017Q2</td>\n",
       "      <td>3</td>\n",
       "      <td>Short List</td>\n",
       "      <td>51556413.83</td>\n",
       "    </tr>\n",
       "    <tr>\n",
       "      <th>39</th>\n",
       "      <td>2017Q2</td>\n",
       "      <td>4</td>\n",
       "      <td>Chosen Vendor</td>\n",
       "      <td>15201976.61</td>\n",
       "    </tr>\n",
       "    <tr>\n",
       "      <th>40</th>\n",
       "      <td>2017Q2</td>\n",
       "      <td>5</td>\n",
       "      <td>Negotiation/Review</td>\n",
       "      <td>10317200.28</td>\n",
       "    </tr>\n",
       "    <tr>\n",
       "      <th>41</th>\n",
       "      <td>2017Q2</td>\n",
       "      <td>6</td>\n",
       "      <td>PO In Progress</td>\n",
       "      <td>112534.73</td>\n",
       "    </tr>\n",
       "    <tr>\n",
       "      <th>42</th>\n",
       "      <td>2017Q3</td>\n",
       "      <td>1</td>\n",
       "      <td>Qualified</td>\n",
       "      <td>63647490.14</td>\n",
       "    </tr>\n",
       "    <tr>\n",
       "      <th>43</th>\n",
       "      <td>2017Q3</td>\n",
       "      <td>2</td>\n",
       "      <td>Buying Process id.</td>\n",
       "      <td>44480359.88</td>\n",
       "    </tr>\n",
       "    <tr>\n",
       "      <th>44</th>\n",
       "      <td>2017Q3</td>\n",
       "      <td>3</td>\n",
       "      <td>Short List</td>\n",
       "      <td>43163616.64</td>\n",
       "    </tr>\n",
       "    <tr>\n",
       "      <th>45</th>\n",
       "      <td>2017Q3</td>\n",
       "      <td>4</td>\n",
       "      <td>Chosen Vendor</td>\n",
       "      <td>10217314.49</td>\n",
       "    </tr>\n",
       "    <tr>\n",
       "      <th>46</th>\n",
       "      <td>2017Q3</td>\n",
       "      <td>5</td>\n",
       "      <td>Negotiation/Review</td>\n",
       "      <td>5804474.08</td>\n",
       "    </tr>\n",
       "    <tr>\n",
       "      <th>47</th>\n",
       "      <td>2017Q3</td>\n",
       "      <td>6</td>\n",
       "      <td>PO In Progress</td>\n",
       "      <td>1373233.16</td>\n",
       "    </tr>\n",
       "  </tbody>\n",
       "</table>\n",
       "</div>"
      ],
      "text/plain": [
       "   quarter  stage_order            Stage__c  ARR_Delta_EURO__c\n",
       "0   2016Q1            0            Prospect               0.00\n",
       "1   2016Q1            1           Qualified               0.00\n",
       "2   2016Q1            2  Buying Process id.               0.00\n",
       "3   2016Q1            3          Short List               0.00\n",
       "4   2016Q1            4       Chosen Vendor               0.00\n",
       "5   2016Q1            5  Negotiation/Review               0.00\n",
       "6   2016Q1            6      PO In Progress               0.00\n",
       "7   2016Q2            0            Prospect               0.00\n",
       "8   2016Q2            1           Qualified               0.00\n",
       "9   2016Q2            2  Buying Process id.               0.00\n",
       "10  2016Q2            3          Short List               0.00\n",
       "11  2016Q2            4       Chosen Vendor               0.00\n",
       "12  2016Q2            5  Negotiation/Review               0.00\n",
       "13  2016Q2            6      PO In Progress               0.00\n",
       "14  2016Q3            0            Prospect               0.00\n",
       "15  2016Q3            1           Qualified               0.00\n",
       "16  2016Q3            2  Buying Process id.               0.00\n",
       "17  2016Q3            3          Short List               0.00\n",
       "18  2016Q3            4       Chosen Vendor               0.00\n",
       "19  2016Q3            5  Negotiation/Review               0.00\n",
       "20  2016Q3            6      PO In Progress               0.00\n",
       "21  2016Q4            0            Prospect          537372.04\n",
       "22  2016Q4            1           Qualified               0.00\n",
       "23  2016Q4            2  Buying Process id.        17880353.68\n",
       "24  2016Q4            3          Short List        16934895.15\n",
       "25  2016Q4            4       Chosen Vendor         9414786.20\n",
       "26  2016Q4            5  Negotiation/Review         3859828.68\n",
       "27  2016Q4            6      PO In Progress           14460.97\n",
       "28  2017Q1            0            Prospect         2856640.21\n",
       "29  2017Q1            1           Qualified        26102673.05\n",
       "30  2017Q1            2  Buying Process id.        39023903.59\n",
       "31  2017Q1            3          Short List        42767773.80\n",
       "32  2017Q1            4       Chosen Vendor        16333342.29\n",
       "33  2017Q1            5  Negotiation/Review         9719137.38\n",
       "34  2017Q1            6      PO In Progress               0.00\n",
       "35  2017Q2            0            Prospect         3045004.65\n",
       "36  2017Q2            1           Qualified        60229780.02\n",
       "37  2017Q2            2  Buying Process id.        52037243.44\n",
       "38  2017Q2            3          Short List        51556413.83\n",
       "39  2017Q2            4       Chosen Vendor        15201976.61\n",
       "40  2017Q2            5  Negotiation/Review        10317200.28\n",
       "41  2017Q2            6      PO In Progress          112534.73\n",
       "42  2017Q3            1           Qualified        63647490.14\n",
       "43  2017Q3            2  Buying Process id.        44480359.88\n",
       "44  2017Q3            3          Short List        43163616.64\n",
       "45  2017Q3            4       Chosen Vendor        10217314.49\n",
       "46  2017Q3            5  Negotiation/Review         5804474.08\n",
       "47  2017Q3            6      PO In Progress         1373233.16"
      ]
     },
     "execution_count": 14,
     "metadata": {},
     "output_type": "execute_result"
    }
   ],
   "source": [
    "stage_ARR = snap_data.sort_values(by=['stage_order','quarter']).groupby(['quarter','stage_order','Stage__c']).ARR_Delta_EURO__c.sum()\n",
    "\n",
    "stage_ARR = stage_ARR.reset_index()\n",
    "stage_ARR"
   ]
  },
  {
   "cell_type": "code",
   "execution_count": null,
   "metadata": {
    "collapsed": true,
    "deletable": true,
    "editable": true
   },
   "outputs": [],
   "source": []
  },
  {
   "cell_type": "code",
   "execution_count": 17,
   "metadata": {
    "collapsed": false,
    "deletable": true,
    "editable": true
   },
   "outputs": [],
   "source": [
    "stage_ARR = df_snap.sort_values(by=['stage_order','quarter']).groupby(['quarter','stage_order','Stage__c']).ARR_Delta_EURO__c.sum()"
   ]
  },
  {
   "cell_type": "code",
   "execution_count": 18,
   "metadata": {
    "collapsed": true,
    "deletable": true,
    "editable": true
   },
   "outputs": [],
   "source": [
    "stage_ARR = stage_ARR.reset_index()"
   ]
  },
  {
   "cell_type": "code",
   "execution_count": 27,
   "metadata": {
    "collapsed": false,
    "deletable": true,
    "editable": true
   },
   "outputs": [
    {
     "data": {
      "text/html": [
       "<div>\n",
       "<table border=\"1\" class=\"dataframe\">\n",
       "  <thead>\n",
       "    <tr style=\"text-align: right;\">\n",
       "      <th></th>\n",
       "      <th>quarter</th>\n",
       "      <th>stage_order</th>\n",
       "      <th>Stage__c</th>\n",
       "      <th>ARR_Delta_EURO__c</th>\n",
       "    </tr>\n",
       "  </thead>\n",
       "  <tbody>\n",
       "    <tr>\n",
       "      <th>28</th>\n",
       "      <td>2017Q1</td>\n",
       "      <td>0</td>\n",
       "      <td>Prospect</td>\n",
       "      <td>2856640.21</td>\n",
       "    </tr>\n",
       "    <tr>\n",
       "      <th>29</th>\n",
       "      <td>2017Q1</td>\n",
       "      <td>1</td>\n",
       "      <td>Qualified</td>\n",
       "      <td>26102673.05</td>\n",
       "    </tr>\n",
       "    <tr>\n",
       "      <th>30</th>\n",
       "      <td>2017Q1</td>\n",
       "      <td>2</td>\n",
       "      <td>Buying Process id.</td>\n",
       "      <td>39023903.59</td>\n",
       "    </tr>\n",
       "    <tr>\n",
       "      <th>31</th>\n",
       "      <td>2017Q1</td>\n",
       "      <td>3</td>\n",
       "      <td>Short List</td>\n",
       "      <td>42767773.80</td>\n",
       "    </tr>\n",
       "    <tr>\n",
       "      <th>32</th>\n",
       "      <td>2017Q1</td>\n",
       "      <td>4</td>\n",
       "      <td>Chosen Vendor</td>\n",
       "      <td>16333342.29</td>\n",
       "    </tr>\n",
       "    <tr>\n",
       "      <th>33</th>\n",
       "      <td>2017Q1</td>\n",
       "      <td>5</td>\n",
       "      <td>Negotiation/Review</td>\n",
       "      <td>9719137.38</td>\n",
       "    </tr>\n",
       "    <tr>\n",
       "      <th>34</th>\n",
       "      <td>2017Q1</td>\n",
       "      <td>6</td>\n",
       "      <td>PO In Progress</td>\n",
       "      <td>0.00</td>\n",
       "    </tr>\n",
       "    <tr>\n",
       "      <th>35</th>\n",
       "      <td>2017Q2</td>\n",
       "      <td>0</td>\n",
       "      <td>Prospect</td>\n",
       "      <td>3045004.65</td>\n",
       "    </tr>\n",
       "    <tr>\n",
       "      <th>36</th>\n",
       "      <td>2017Q2</td>\n",
       "      <td>1</td>\n",
       "      <td>Qualified</td>\n",
       "      <td>60229780.02</td>\n",
       "    </tr>\n",
       "    <tr>\n",
       "      <th>37</th>\n",
       "      <td>2017Q2</td>\n",
       "      <td>2</td>\n",
       "      <td>Buying Process id.</td>\n",
       "      <td>52037243.44</td>\n",
       "    </tr>\n",
       "    <tr>\n",
       "      <th>38</th>\n",
       "      <td>2017Q2</td>\n",
       "      <td>3</td>\n",
       "      <td>Short List</td>\n",
       "      <td>51556413.83</td>\n",
       "    </tr>\n",
       "    <tr>\n",
       "      <th>39</th>\n",
       "      <td>2017Q2</td>\n",
       "      <td>4</td>\n",
       "      <td>Chosen Vendor</td>\n",
       "      <td>15201976.61</td>\n",
       "    </tr>\n",
       "    <tr>\n",
       "      <th>40</th>\n",
       "      <td>2017Q2</td>\n",
       "      <td>5</td>\n",
       "      <td>Negotiation/Review</td>\n",
       "      <td>10317200.28</td>\n",
       "    </tr>\n",
       "    <tr>\n",
       "      <th>41</th>\n",
       "      <td>2017Q2</td>\n",
       "      <td>6</td>\n",
       "      <td>PO In Progress</td>\n",
       "      <td>112534.73</td>\n",
       "    </tr>\n",
       "    <tr>\n",
       "      <th>42</th>\n",
       "      <td>2017Q3</td>\n",
       "      <td>1</td>\n",
       "      <td>Qualified</td>\n",
       "      <td>63647490.14</td>\n",
       "    </tr>\n",
       "    <tr>\n",
       "      <th>43</th>\n",
       "      <td>2017Q3</td>\n",
       "      <td>2</td>\n",
       "      <td>Buying Process id.</td>\n",
       "      <td>44480359.88</td>\n",
       "    </tr>\n",
       "    <tr>\n",
       "      <th>44</th>\n",
       "      <td>2017Q3</td>\n",
       "      <td>3</td>\n",
       "      <td>Short List</td>\n",
       "      <td>43163616.64</td>\n",
       "    </tr>\n",
       "    <tr>\n",
       "      <th>45</th>\n",
       "      <td>2017Q3</td>\n",
       "      <td>4</td>\n",
       "      <td>Chosen Vendor</td>\n",
       "      <td>10217314.49</td>\n",
       "    </tr>\n",
       "    <tr>\n",
       "      <th>46</th>\n",
       "      <td>2017Q3</td>\n",
       "      <td>5</td>\n",
       "      <td>Negotiation/Review</td>\n",
       "      <td>5804474.08</td>\n",
       "    </tr>\n",
       "    <tr>\n",
       "      <th>47</th>\n",
       "      <td>2017Q3</td>\n",
       "      <td>6</td>\n",
       "      <td>PO In Progress</td>\n",
       "      <td>1373233.16</td>\n",
       "    </tr>\n",
       "  </tbody>\n",
       "</table>\n",
       "</div>"
      ],
      "text/plain": [
       "   quarter  stage_order            Stage__c  ARR_Delta_EURO__c\n",
       "28  2017Q1            0            Prospect         2856640.21\n",
       "29  2017Q1            1           Qualified        26102673.05\n",
       "30  2017Q1            2  Buying Process id.        39023903.59\n",
       "31  2017Q1            3          Short List        42767773.80\n",
       "32  2017Q1            4       Chosen Vendor        16333342.29\n",
       "33  2017Q1            5  Negotiation/Review         9719137.38\n",
       "34  2017Q1            6      PO In Progress               0.00\n",
       "35  2017Q2            0            Prospect         3045004.65\n",
       "36  2017Q2            1           Qualified        60229780.02\n",
       "37  2017Q2            2  Buying Process id.        52037243.44\n",
       "38  2017Q2            3          Short List        51556413.83\n",
       "39  2017Q2            4       Chosen Vendor        15201976.61\n",
       "40  2017Q2            5  Negotiation/Review        10317200.28\n",
       "41  2017Q2            6      PO In Progress          112534.73\n",
       "42  2017Q3            1           Qualified        63647490.14\n",
       "43  2017Q3            2  Buying Process id.        44480359.88\n",
       "44  2017Q3            3          Short List        43163616.64\n",
       "45  2017Q3            4       Chosen Vendor        10217314.49\n",
       "46  2017Q3            5  Negotiation/Review         5804474.08\n",
       "47  2017Q3            6      PO In Progress         1373233.16"
      ]
     },
     "execution_count": 27,
     "metadata": {},
     "output_type": "execute_result"
    }
   ],
   "source": [
    "stage_ARR[stage_ARR.quarter >=pd.Period('2017Q1', freq = 'Q-SEP')]"
   ]
  },
  {
   "cell_type": "code",
   "execution_count": 597,
   "metadata": {
    "collapsed": false,
    "deletable": true,
    "editable": true
   },
   "outputs": [
    {
     "data": {
      "text/plain": [
       "array(['2017-01-06T00:00:00.000000000', '2017-01-13T00:00:00.000000000',\n",
       "       '2017-02-03T00:00:00.000000000', '2017-03-03T00:00:00.000000000'], dtype='datetime64[ns]')"
      ]
     },
     "execution_count": 597,
     "metadata": {},
     "output_type": "execute_result"
    }
   ],
   "source": [
    "snap_data[(snap_data.quarter == pd.Period('2017-Q2', freq = 'Q-SEP')) & (snap_data.Type__c == 'New Business')].Report_Date__c.unique()#.ARR_Delta_EURO__c.sum()"
   ]
  },
  {
   "cell_type": "code",
   "execution_count": 598,
   "metadata": {
    "collapsed": false,
    "deletable": true,
    "editable": true
   },
   "outputs": [
    {
     "data": {
      "text/plain": [
       "155692356.03"
      ]
     },
     "execution_count": 598,
     "metadata": {},
     "output_type": "execute_result"
    }
   ],
   "source": [
    "snap_data[(snap_data.quarter == pd.Period('2017-Q2', freq = 'Q-SEP')) & (snap_data.Type__c == 'New Business')].ARR_Delta_EURO__c.sum()"
   ]
  },
  {
   "cell_type": "code",
   "execution_count": null,
   "metadata": {
    "collapsed": true,
    "deletable": true,
    "editable": true
   },
   "outputs": [],
   "source": []
  },
  {
   "cell_type": "code",
   "execution_count": 25,
   "metadata": {
    "collapsed": true,
    "deletable": true,
    "editable": true
   },
   "outputs": [],
   "source": []
  },
  {
   "cell_type": "code",
   "execution_count": 26,
   "metadata": {
    "collapsed": true,
    "deletable": true,
    "editable": true
   },
   "outputs": [],
   "source": [
    "\n"
   ]
  },
  {
   "cell_type": "code",
   "execution_count": null,
   "metadata": {
    "collapsed": true,
    "deletable": true,
    "editable": true
   },
   "outputs": [],
   "source": [
    "# sales by region, industry, stage\n",
    "# ** what makes a good lead?\n",
    "#3,4,5,6,7 , 9\n",
    "#6/5-15, 21\n",
    "\n",
    "# acct profiling on territory\n",
    "# ABC accounts, account scores . Create territories based on this. (by end of Aug). \n",
    "# what r characteristics of A accounts?\n",
    "# Territory and yield analysis"
   ]
  }
 ],
 "metadata": {
  "kernelspec": {
   "display_name": "Python 2",
   "language": "python",
   "name": "python2"
  },
  "language_info": {
   "codemirror_mode": {
    "name": "ipython",
    "version": 2
   },
   "file_extension": ".py",
   "mimetype": "text/x-python",
   "name": "python",
   "nbconvert_exporter": "python",
   "pygments_lexer": "ipython2",
   "version": "2.7.11"
  }
 },
 "nbformat": 4,
 "nbformat_minor": 2
}
